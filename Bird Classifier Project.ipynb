{
 "cells": [
  {
   "cell_type": "markdown",
   "metadata": {},
   "source": [
    "**Importing Required Libraries**"
   ]
  },
  {
   "cell_type": "code",
   "execution_count": 611,
   "metadata": {},
   "outputs": [],
   "source": [
    "%%capture\n",
    "from tqdm import tqdm_notebook as tqdm\n",
    "tqdm().pandas()\n",
    "\n",
    "import config\n",
    "import mysql.connector\n",
    "from mysql.connector import errorcode\n",
    "\n",
    "import requests\n",
    "import pydotplus\n",
    "import itertools\n",
    "import numpy as np\n",
    "import pandas as pd\n",
    "import seaborn as sns\n",
    "import matplotlib.pyplot as plt\n",
    "\n",
    "from xgboost import plot_tree\n",
    "from xgboost.sklearn import XGBClassifier\n",
    "\n",
    "from scipy.sparse import csr_matrix\n",
    "from imblearn.over_sampling import SMOTE\n",
    "\n",
    "from time import time\n",
    "import xgboost as xgb\n",
    "from sklearn.svm import SVC  \n",
    "from sklearn import tree, metrics, svm, datasets\n",
    "from IPython.display import Image\n",
    "from sklearn.externals.six import StringIO\n",
    "from sklearn.multiclass import OneVsRestClassifier\n",
    "from sklearn.feature_extraction.text import CountVectorizer\n",
    "from sklearn.preprocessing import OneHotEncoder, label_binarize\n",
    "from sklearn.tree import export_graphviz, DecisionTreeClassifier\n",
    "from sklearn.ensemble import BaggingClassifier, RandomForestClassifier, AdaBoostClassifier, GradientBoostingClassifier\n",
    "from sklearn.model_selection import train_test_split, GridSearchCV, cross_val_score, RandomizedSearchCV\n",
    "from sklearn.metrics import accuracy_score, classification_report, confusion_matrix, mean_squared_error, average_precision_score, precision_score, f1_score\n",
    "from sklearn.decomposition import PCA\n",
    "\n",
    "from bs4 import BeautifulSoup\n",
    "from selenium import webdriver\n",
    "from selenium.webdriver.common.by import By\n",
    "from selenium.webdriver.common.keys import Keys\n",
    "from selenium.common.exceptions import TimeoutException\n",
    "from selenium.webdriver.support.ui import WebDriverWait\n",
    "from selenium.webdriver.support import expected_conditions as EC"
   ]
  },
  {
   "cell_type": "markdown",
   "metadata": {},
   "source": [
    "# Collecting Relevant Data"
   ]
  },
  {
   "cell_type": "markdown",
   "metadata": {},
   "source": [
    "## Webscraping"
   ]
  },
  {
   "cell_type": "code",
   "execution_count": 21,
   "metadata": {
    "collapsed": true
   },
   "outputs": [
    {
     "data": {
      "application/vnd.jupyter.widget-view+json": {
       "model_id": "18d0245a4c5740ad8f4fef66c8ab4c94",
       "version_major": 2,
       "version_minor": 0
      },
      "text/plain": [
       "HBox(children=(IntProgress(value=0, max=13), HTML(value='')))"
      ]
     },
     "metadata": {},
     "output_type": "display_data"
    },
    {
     "data": {
      "application/vnd.jupyter.widget-view+json": {
       "model_id": "b904b0a25f7b479c928099f9d1bd1b8a",
       "version_major": 2,
       "version_minor": 0
      },
      "text/plain": [
       "HBox(children=(IntProgress(value=0, max=157), HTML(value='')))"
      ]
     },
     "metadata": {},
     "output_type": "display_data"
    },
    {
     "data": {
      "application/vnd.jupyter.widget-view+json": {
       "model_id": "b3accdef212a4af9be9be741aa578d9e",
       "version_major": 2,
       "version_minor": 0
      },
      "text/plain": [
       "HBox(children=(IntProgress(value=0, max=154), HTML(value='')))"
      ]
     },
     "metadata": {},
     "output_type": "display_data"
    },
    {
     "data": {
      "application/vnd.jupyter.widget-view+json": {
       "model_id": "1195e45ec3d040eaa66ab2567b4eb4b7",
       "version_major": 2,
       "version_minor": 0
      },
      "text/plain": [
       "HBox(children=(IntProgress(value=0, max=148), HTML(value='')))"
      ]
     },
     "metadata": {},
     "output_type": "display_data"
    },
    {
     "data": {
      "application/vnd.jupyter.widget-view+json": {
       "model_id": "8dd84c8f29724d0ea49cf7fc0e5f5671",
       "version_major": 2,
       "version_minor": 0
      },
      "text/plain": [
       "HBox(children=(IntProgress(value=0, max=138), HTML(value='')))"
      ]
     },
     "metadata": {},
     "output_type": "display_data"
    },
    {
     "data": {
      "application/vnd.jupyter.widget-view+json": {
       "model_id": "08819c9e1bbf48c299e5c6aeeeff6ef9",
       "version_major": 2,
       "version_minor": 0
      },
      "text/plain": [
       "HBox(children=(IntProgress(value=0, max=93), HTML(value='')))"
      ]
     },
     "metadata": {},
     "output_type": "display_data"
    },
    {
     "data": {
      "application/vnd.jupyter.widget-view+json": {
       "model_id": "a93e9f6503a0467980c8574733cc8f6f",
       "version_major": 2,
       "version_minor": 0
      },
      "text/plain": [
       "HBox(children=(IntProgress(value=0, max=129), HTML(value='')))"
      ]
     },
     "metadata": {},
     "output_type": "display_data"
    },
    {
     "data": {
      "application/vnd.jupyter.widget-view+json": {
       "model_id": "389f75e957fd4f73bc71a8f5f0cee58f",
       "version_major": 2,
       "version_minor": 0
      },
      "text/plain": [
       "HBox(children=(IntProgress(value=0, max=142), HTML(value='')))"
      ]
     },
     "metadata": {},
     "output_type": "display_data"
    },
    {
     "data": {
      "application/vnd.jupyter.widget-view+json": {
       "model_id": "090f7fbb68ef40d1a30c7469b0f66813",
       "version_major": 2,
       "version_minor": 0
      },
      "text/plain": [
       "HBox(children=(IntProgress(value=0, max=194), HTML(value='')))"
      ]
     },
     "metadata": {},
     "output_type": "display_data"
    },
    {
     "data": {
      "application/vnd.jupyter.widget-view+json": {
       "model_id": "bbf082a8fe834a088113948550b09334",
       "version_major": 2,
       "version_minor": 0
      },
      "text/plain": [
       "HBox(children=(IntProgress(value=0, max=128), HTML(value='')))"
      ]
     },
     "metadata": {},
     "output_type": "display_data"
    },
    {
     "data": {
      "application/vnd.jupyter.widget-view+json": {
       "model_id": "c92688cdd7404a2ca1c07c5f00a73fab",
       "version_major": 2,
       "version_minor": 0
      },
      "text/plain": [
       "HBox(children=(IntProgress(value=0, max=150), HTML(value='')))"
      ]
     },
     "metadata": {},
     "output_type": "display_data"
    },
    {
     "data": {
      "application/vnd.jupyter.widget-view+json": {
       "model_id": "2d551e9f395b4c8b8bb16cc247714b07",
       "version_major": 2,
       "version_minor": 0
      },
      "text/plain": [
       "HBox(children=(IntProgress(value=0, max=93), HTML(value='')))"
      ]
     },
     "metadata": {},
     "output_type": "display_data"
    },
    {
     "data": {
      "application/vnd.jupyter.widget-view+json": {
       "model_id": "6e5b921d61a34c24bdc9585be8b1c816",
       "version_major": 2,
       "version_minor": 0
      },
      "text/plain": [
       "HBox(children=(IntProgress(value=0, max=135), HTML(value='')))"
      ]
     },
     "metadata": {},
     "output_type": "display_data"
    },
    {
     "data": {
      "application/vnd.jupyter.widget-view+json": {
       "model_id": "33ba09210eac45b184743e8a7fe9ed82",
       "version_major": 2,
       "version_minor": 0
      },
      "text/plain": [
       "HBox(children=(IntProgress(value=0, max=110), HTML(value='')))"
      ]
     },
     "metadata": {},
     "output_type": "display_data"
    },
    {
     "name": "stdout",
     "output_type": "stream",
     "text": [
      "\n"
     ]
    }
   ],
   "source": [
    "driver = webdriver.Chrome()\n",
    "driver.get('https://www.whatbird.com/browse/attributes.aspx')\n",
    "location_table = driver.find_element_by_class_name('BrowseTable')\n",
    "links = location_table.find_elements_by_css_selector(\"a\")\n",
    "\n",
    "bird_families = [] \n",
    "bird_chars = []\n",
    "for i in tqdm(range(1, len(links))):\n",
    "    locale = driver.find_element_by_class_name('BrowseTable').find_elements_by_css_selector(\"a\")[i]\n",
    "    locale.click()\n",
    "    landing_page = driver.current_url\n",
    "    for ind in tqdm(range(len(driver.find_elements_by_xpath(\"//*[contains(@class,'ObjectLink')]\")))):\n",
    "        location_page = driver.current_url\n",
    "        driver.find_elements_by_xpath(\"//*[contains(@class,'ObjectLink')]\")[ind].click()\n",
    "        driver.find_element_by_link_text('Identification').click()\n",
    "        bird_chars_table = driver.find_element_by_class_name('contentbg')\n",
    "        char_list = bird_chars_table.find_elements_by_css_selector('li')\n",
    "        bird_text = [driver.find_element_by_id('BirdName').text]\n",
    "        for i in char_list:\n",
    "            bird_text.append(i.text)\n",
    "\n",
    "        bird_chars.append(bird_text)\n",
    "        bird_families.append(driver.find_element_by_id(\"Family\").text)\n",
    "        driver.get(location_page)\n",
    "\n",
    "    driver.get('https://www.whatbird.com/browse/attributes.aspx')"
   ]
  },
  {
   "cell_type": "markdown",
   "metadata": {},
   "source": [
    "## Combining Scraped Data and Removing Duplicates"
   ]
  },
  {
   "cell_type": "code",
   "execution_count": 356,
   "metadata": {},
   "outputs": [],
   "source": [
    "birds = []\n",
    "for elem in bird_chars:\n",
    "    if elem not in birds:\n",
    "        birds.append(elem)"
   ]
  },
  {
   "cell_type": "markdown",
   "metadata": {},
   "source": [
    "## Connecting to MySQL/Creating a Database"
   ]
  },
  {
   "cell_type": "code",
   "execution_count": 540,
   "metadata": {},
   "outputs": [],
   "source": [
    "db_name = 'Bird_Classifier_Project'\n",
    "cnx = mysql.connector.connect(\n",
    "    host = config.host,\n",
    "    user = config.user,\n",
    "    passwd = config.pw\n",
    "\n",
    ")\n",
    "cur = cnx.cursor()"
   ]
  },
  {
   "cell_type": "code",
   "execution_count": 36,
   "metadata": {},
   "outputs": [],
   "source": [
    "def create_database(cursor, database):\n",
    "    try:\n",
    "        cur.execute(\n",
    "            \"CREATE DATABASE {} DEFAULT CHARACTER SET 'utf8'\".format(database))\n",
    "    except mysql.connector.Error as err:\n",
    "        print(\"Failed creating database: {}\".format(err))\n",
    "        exit(1)\n",
    "\n",
    "try:\n",
    "    cur.execute(\"USE {}\".format(db_name))\n",
    "except mysql.connector.Error as err:\n",
    "    print(\"Database {} does not exists.\".format(db_name))\n",
    "    if err.errno == errorcode.ER_BAD_DB_ERROR:\n",
    "        create_database(cur, db_name)\n",
    "        print(\"Database {} created successfully.\".format(db_name))\n",
    "        cnx.database = db_name\n",
    "    else:\n",
    "        print(err)\n",
    "        exit(1)        "
   ]
  },
  {
   "cell_type": "code",
   "execution_count": 37,
   "metadata": {},
   "outputs": [],
   "source": [
    "cur.execute(\"\"\"\n",
    "CREATE TABLE birds (\n",
    "Family VARCHAR(255),\n",
    "Name VARCHAR(255),\n",
    "Bill_Shape VARCHAR(255),\n",
    "Eye_Color VARCHAR(255),\n",
    "Head_Pattern VARCHAR(255),\n",
    "Crown_Color VARCHAR(255),\n",
    "Forehead_Color VARCHAR(255),\n",
    "Nape_Color VARCHAR(255),\n",
    "Throat_Color VARCHAR(255),\n",
    "Cere_Color VARCHAR(255),\n",
    "Length_Range VARCHAR(255),\n",
    "Weight VARCHAR(255),\n",
    "Size VARCHAR(255),\n",
    "Primary_Color VARCHAR(255),\n",
    "Underparts VARCHAR(255),\n",
    "Upperparts VARCHAR(255),\n",
    "Back_Pattern VARCHAR(255),\n",
    "Belly_Pattern VARCHAR(255),\n",
    "Breast_Pattern VARCHAR(255),\n",
    "Flight_Pattern VARCHAR(255),\n",
    "Wingspan VARCHAR(255),\n",
    "Wing_Shape VARCHAR(255),\n",
    "Tail_Shape VARCHAR(255),\n",
    "Tail_Pattern VARCHAR(255),\n",
    "Upper_Tail VARCHAR(255),\n",
    "Under_Tail VARCHAR(255),\n",
    "Leg_Color VARCHAR(255)\n",
    ")\n",
    "\"\"\")"
   ]
  },
  {
   "cell_type": "code",
   "execution_count": 228,
   "metadata": {},
   "outputs": [],
   "source": [
    "cleaner_list = []\n",
    "for i in range(len(bird_chars)):\n",
    "    cleaner_list.append(tuple((bird_chars[1][0][0],bird_chars[i][1:])))"
   ]
  },
  {
   "cell_type": "code",
   "execution_count": 486,
   "metadata": {},
   "outputs": [],
   "source": [
    "nested_lists = []\n",
    "for i in range(len(cleaner_list)):\n",
    "    nested_lists.append([clieaner_list[i][0]]+cleaner_list[i][1])"
   ]
  },
  {
   "cell_type": "code",
   "execution_count": 487,
   "metadata": {},
   "outputs": [],
   "source": [
    "unique_birds = list(nested_lists for nested_lists,_ in itertools.groupby(nested_lists))"
   ]
  },
  {
   "cell_type": "code",
   "execution_count": 497,
   "metadata": {},
   "outputs": [],
   "source": [
    "for i in unique_birds:\n",
    "    del i[0]"
   ]
  },
  {
   "cell_type": "code",
   "execution_count": 505,
   "metadata": {
    "collapsed": true
   },
   "outputs": [
    {
     "data": {
      "text/html": [
       "<div>\n",
       "<style scoped>\n",
       "    .dataframe tbody tr th:only-of-type {\n",
       "        vertical-align: middle;\n",
       "    }\n",
       "\n",
       "    .dataframe tbody tr th {\n",
       "        vertical-align: top;\n",
       "    }\n",
       "\n",
       "    .dataframe thead th {\n",
       "        text-align: right;\n",
       "    }\n",
       "</style>\n",
       "<table border=\"1\" class=\"dataframe\">\n",
       "  <thead>\n",
       "    <tr style=\"text-align: right;\">\n",
       "      <th></th>\n",
       "      <th>0</th>\n",
       "      <th>1</th>\n",
       "      <th>2</th>\n",
       "      <th>3</th>\n",
       "      <th>4</th>\n",
       "      <th>5</th>\n",
       "      <th>6</th>\n",
       "      <th>7</th>\n",
       "      <th>8</th>\n",
       "      <th>9</th>\n",
       "      <th>...</th>\n",
       "      <th>17</th>\n",
       "      <th>18</th>\n",
       "      <th>19</th>\n",
       "      <th>20</th>\n",
       "      <th>21</th>\n",
       "      <th>22</th>\n",
       "      <th>23</th>\n",
       "      <th>24</th>\n",
       "      <th>25</th>\n",
       "      <th>Family</th>\n",
       "    </tr>\n",
       "  </thead>\n",
       "  <tbody>\n",
       "    <tr>\n",
       "      <th>0</th>\n",
       "      <td>Mississippi Kite</td>\n",
       "      <td>Bill Shape: Hooked</td>\n",
       "      <td>Eye Color: Juvenile altering gradually to oran...</td>\n",
       "      <td>Head pattern: Plain, Unique pattern</td>\n",
       "      <td>Crown Color: Gray</td>\n",
       "      <td>Forehead Color: Gray</td>\n",
       "      <td>Nape Color: Gray</td>\n",
       "      <td>Throat Color: Gray</td>\n",
       "      <td>Cere color: Gray</td>\n",
       "      <td>Length Range: 33-43 cm (13-17 in)</td>\n",
       "      <td>...</td>\n",
       "      <td>Breast Pattern: Solid</td>\n",
       "      <td>Flight Pattern: Buoyant flight with steady win...</td>\n",
       "      <td>Wingspan Range: 86-94 cm (34-37 in)</td>\n",
       "      <td>Wing Shape: Pointed-Wings</td>\n",
       "      <td>Tail shape: Notched Tail</td>\n",
       "      <td>Tail Pattern: Solid Black.</td>\n",
       "      <td>Upper Tail: Black</td>\n",
       "      <td>Under Tail: Black</td>\n",
       "      <td>Leg Color: Orange-yellow</td>\n",
       "      <td>Family\\nKites, Eagles and Hawks (Accipitridae)</td>\n",
       "    </tr>\n",
       "    <tr>\n",
       "      <th>1</th>\n",
       "      <td>Swainson's Hawk</td>\n",
       "      <td>Bill Shape: Hooked</td>\n",
       "      <td>Eye Color: Gray or blue gray in Juvenal plumag...</td>\n",
       "      <td>Head pattern: Plain, Unique pattern</td>\n",
       "      <td>Crown Color: Brown</td>\n",
       "      <td>Forehead Color: Brown</td>\n",
       "      <td>Nape Color: Brown</td>\n",
       "      <td>Throat Color: Red-brown with brown streaking.</td>\n",
       "      <td>Cere color: Yellow</td>\n",
       "      <td>Length Range: 48-51 cm (19-20 in)</td>\n",
       "      <td>...</td>\n",
       "      <td>Breast Pattern: Solid</td>\n",
       "      <td>Flight Pattern: Soars on thermals., Alternates...</td>\n",
       "      <td>Wingspan Range: 117-147 cm (46-58 in)</td>\n",
       "      <td>Wing Shape: Pointed-Wings</td>\n",
       "      <td>Tail shape: Squared Tail</td>\n",
       "      <td>Tail Pattern: Narrow gray bands with wide dark...</td>\n",
       "      <td>Upper Tail: Gray with narrow bands.</td>\n",
       "      <td>Under Tail: Gray with narrow bands.</td>\n",
       "      <td>Leg Color: Yellow</td>\n",
       "      <td>Family\\nKites, Eagles and Hawks (Accipitridae)</td>\n",
       "    </tr>\n",
       "    <tr>\n",
       "      <th>2</th>\n",
       "      <td>Reddish Egret</td>\n",
       "      <td>Bill Shape: Dagger</td>\n",
       "      <td>Eye Color: White to pale straw.</td>\n",
       "      <td>Head pattern: Plain, Crested or plumed, Unique...</td>\n",
       "      <td>Crown Color: Red-brown</td>\n",
       "      <td>Forehead Color: Red-brown</td>\n",
       "      <td>Nape Color: Red-brown</td>\n",
       "      <td>Throat Color: Red-brown</td>\n",
       "      <td>Cere color: No Data</td>\n",
       "      <td>Length Range: 69-81 cm (27-32 in)</td>\n",
       "      <td>...</td>\n",
       "      <td>Breast Pattern: Solid</td>\n",
       "      <td>Flight Pattern: Direct flight with buoyant ste...</td>\n",
       "      <td>Wingspan Range: 117 cm (46 in)</td>\n",
       "      <td>Wing Shape: Broad-Wings, Long-Wings</td>\n",
       "      <td>Tail shape: Squared Tail</td>\n",
       "      <td>Tail Pattern: Solid</td>\n",
       "      <td>Upper Tail: Gray</td>\n",
       "      <td>Under Tail: Gray</td>\n",
       "      <td>Leg Color: Blue-gray</td>\n",
       "      <td>Family\\nBitterns, Herons and Egrets (Ardeidae)</td>\n",
       "    </tr>\n",
       "    <tr>\n",
       "      <th>3</th>\n",
       "      <td>Wood Stork</td>\n",
       "      <td>Bill Shape: Dagger, Curved (up or down)</td>\n",
       "      <td>Eye Color: Dark brown in adults, pale blue in ...</td>\n",
       "      <td>Head pattern: Capped, Plain, Unique pattern</td>\n",
       "      <td>Crown Color: Bare gray skin.</td>\n",
       "      <td>Forehead Color: Bare gray skin.</td>\n",
       "      <td>Nape Color: Bare gray skin.</td>\n",
       "      <td>Throat Color: Bare gray skin.</td>\n",
       "      <td>Cere color: No Data</td>\n",
       "      <td>Length Range: 89-114 cm (35-45 in)</td>\n",
       "      <td>...</td>\n",
       "      <td>Breast Pattern: Solid</td>\n",
       "      <td>Flight Pattern: Alternates between strong flap...</td>\n",
       "      <td>Wingspan Range: 165 cm (65 in)</td>\n",
       "      <td>Wing Shape: Broad-Wings, Pointed-Wings</td>\n",
       "      <td>Tail shape: Squared Tail</td>\n",
       "      <td>Tail Pattern: Solid</td>\n",
       "      <td>Upper Tail: Black</td>\n",
       "      <td>Under Tail: White</td>\n",
       "      <td>Leg Color: Gray-black</td>\n",
       "      <td>Family\\nStorks (Ciconiidae)</td>\n",
       "    </tr>\n",
       "    <tr>\n",
       "      <th>4</th>\n",
       "      <td>Sandhill Crane</td>\n",
       "      <td>Bill Shape: Dagger</td>\n",
       "      <td>Eye Color: Dark yellow-brown in hatchlings, be...</td>\n",
       "      <td>Head pattern: Capped, Unique pattern</td>\n",
       "      <td>Crown Color: Red and gray.</td>\n",
       "      <td>Forehead Color: Red</td>\n",
       "      <td>Nape Color: Gray</td>\n",
       "      <td>Throat Color: White</td>\n",
       "      <td>Cere color: No Data</td>\n",
       "      <td>Length Range: 86-122 cm (34-48 in)</td>\n",
       "      <td>...</td>\n",
       "      <td>Breast Pattern: Solid</td>\n",
       "      <td>Flight Pattern: Heavy, labored, steady wing be...</td>\n",
       "      <td>Wingspan Range: 185-229 cm (73-90 in)</td>\n",
       "      <td>Wing Shape: Pointed-Wings, Long-Wings</td>\n",
       "      <td>Tail shape: Squared Tail</td>\n",
       "      <td>Tail Pattern: Solid</td>\n",
       "      <td>Upper Tail: Gray</td>\n",
       "      <td>Under Tail: Gray</td>\n",
       "      <td>Leg Color: Black</td>\n",
       "      <td>Family\\nCranes (Gruidae)</td>\n",
       "    </tr>\n",
       "  </tbody>\n",
       "</table>\n",
       "<p>5 rows × 27 columns</p>\n",
       "</div>"
      ],
      "text/plain": [
       "                  0                                        1  \\\n",
       "0  Mississippi Kite                       Bill Shape: Hooked   \n",
       "1   Swainson's Hawk                       Bill Shape: Hooked   \n",
       "2     Reddish Egret                       Bill Shape: Dagger   \n",
       "3        Wood Stork  Bill Shape: Dagger, Curved (up or down)   \n",
       "4    Sandhill Crane                       Bill Shape: Dagger   \n",
       "\n",
       "                                                   2  \\\n",
       "0  Eye Color: Juvenile altering gradually to oran...   \n",
       "1  Eye Color: Gray or blue gray in Juvenal plumag...   \n",
       "2                    Eye Color: White to pale straw.   \n",
       "3  Eye Color: Dark brown in adults, pale blue in ...   \n",
       "4  Eye Color: Dark yellow-brown in hatchlings, be...   \n",
       "\n",
       "                                                   3  \\\n",
       "0                Head pattern: Plain, Unique pattern   \n",
       "1                Head pattern: Plain, Unique pattern   \n",
       "2  Head pattern: Plain, Crested or plumed, Unique...   \n",
       "3        Head pattern: Capped, Plain, Unique pattern   \n",
       "4               Head pattern: Capped, Unique pattern   \n",
       "\n",
       "                              4                                5  \\\n",
       "0             Crown Color: Gray             Forehead Color: Gray   \n",
       "1            Crown Color: Brown            Forehead Color: Brown   \n",
       "2        Crown Color: Red-brown        Forehead Color: Red-brown   \n",
       "3  Crown Color: Bare gray skin.  Forehead Color: Bare gray skin.   \n",
       "4    Crown Color: Red and gray.              Forehead Color: Red   \n",
       "\n",
       "                             6                                              7  \\\n",
       "0             Nape Color: Gray                             Throat Color: Gray   \n",
       "1            Nape Color: Brown  Throat Color: Red-brown with brown streaking.   \n",
       "2        Nape Color: Red-brown                        Throat Color: Red-brown   \n",
       "3  Nape Color: Bare gray skin.                  Throat Color: Bare gray skin.   \n",
       "4             Nape Color: Gray                            Throat Color: White   \n",
       "\n",
       "                     8                                   9  ...  \\\n",
       "0     Cere color: Gray   Length Range: 33-43 cm (13-17 in)  ...   \n",
       "1   Cere color: Yellow   Length Range: 48-51 cm (19-20 in)  ...   \n",
       "2  Cere color: No Data   Length Range: 69-81 cm (27-32 in)  ...   \n",
       "3  Cere color: No Data  Length Range: 89-114 cm (35-45 in)  ...   \n",
       "4  Cere color: No Data  Length Range: 86-122 cm (34-48 in)  ...   \n",
       "\n",
       "                      17                                                 18  \\\n",
       "0  Breast Pattern: Solid  Flight Pattern: Buoyant flight with steady win...   \n",
       "1  Breast Pattern: Solid  Flight Pattern: Soars on thermals., Alternates...   \n",
       "2  Breast Pattern: Solid  Flight Pattern: Direct flight with buoyant ste...   \n",
       "3  Breast Pattern: Solid  Flight Pattern: Alternates between strong flap...   \n",
       "4  Breast Pattern: Solid  Flight Pattern: Heavy, labored, steady wing be...   \n",
       "\n",
       "                                      19  \\\n",
       "0    Wingspan Range: 86-94 cm (34-37 in)   \n",
       "1  Wingspan Range: 117-147 cm (46-58 in)   \n",
       "2         Wingspan Range: 117 cm (46 in)   \n",
       "3         Wingspan Range: 165 cm (65 in)   \n",
       "4  Wingspan Range: 185-229 cm (73-90 in)   \n",
       "\n",
       "                                       20                        21  \\\n",
       "0               Wing Shape: Pointed-Wings  Tail shape: Notched Tail   \n",
       "1               Wing Shape: Pointed-Wings  Tail shape: Squared Tail   \n",
       "2     Wing Shape: Broad-Wings, Long-Wings  Tail shape: Squared Tail   \n",
       "3  Wing Shape: Broad-Wings, Pointed-Wings  Tail shape: Squared Tail   \n",
       "4   Wing Shape: Pointed-Wings, Long-Wings  Tail shape: Squared Tail   \n",
       "\n",
       "                                                  22  \\\n",
       "0                         Tail Pattern: Solid Black.   \n",
       "1  Tail Pattern: Narrow gray bands with wide dark...   \n",
       "2                                Tail Pattern: Solid   \n",
       "3                                Tail Pattern: Solid   \n",
       "4                                Tail Pattern: Solid   \n",
       "\n",
       "                                    23                                   24  \\\n",
       "0                    Upper Tail: Black                    Under Tail: Black   \n",
       "1  Upper Tail: Gray with narrow bands.  Under Tail: Gray with narrow bands.   \n",
       "2                     Upper Tail: Gray                     Under Tail: Gray   \n",
       "3                    Upper Tail: Black                    Under Tail: White   \n",
       "4                     Upper Tail: Gray                     Under Tail: Gray   \n",
       "\n",
       "                         25                                          Family  \n",
       "0  Leg Color: Orange-yellow  Family\\nKites, Eagles and Hawks (Accipitridae)  \n",
       "1         Leg Color: Yellow  Family\\nKites, Eagles and Hawks (Accipitridae)  \n",
       "2      Leg Color: Blue-gray  Family\\nBitterns, Herons and Egrets (Ardeidae)  \n",
       "3     Leg Color: Gray-black                     Family\\nStorks (Ciconiidae)  \n",
       "4          Leg Color: Black                        Family\\nCranes (Gruidae)  \n",
       "\n",
       "[5 rows x 27 columns]"
      ]
     },
     "execution_count": 505,
     "metadata": {},
     "output_type": "execute_result"
    }
   ],
   "source": [
    "df = pd.DataFrame(unique_birds)\n",
    "df['Family'] = bird_families"
   ]
  },
  {
   "cell_type": "code",
   "execution_count": 1223,
   "metadata": {},
   "outputs": [],
   "source": [
    "df.to_csv('bird_dataset.csv')"
   ]
  },
  {
   "cell_type": "code",
   "execution_count": 519,
   "metadata": {},
   "outputs": [],
   "source": [
    "df.drop_duplicates(subset =\"0\", \n",
    "                     keep = 'first', inplace = True) "
   ]
  },
  {
   "cell_type": "code",
   "execution_count": 524,
   "metadata": {},
   "outputs": [],
   "source": [
    "df.columns = df.columns.astype(str)\n",
    "subset = df[['Family','0','1','2','3','4','5','6','7','8','9','10','11','12','13','14','15','16','17','18','19', '20', '21', '22', '23', '24', '25']]\n",
    "tuples = [tuple(x) for x in subset.values]"
   ]
  },
  {
   "cell_type": "code",
   "execution_count": 6,
   "metadata": {},
   "outputs": [],
   "source": [
    "cnx = mysql.connector.connect(\n",
    "    host = config.host,\n",
    "    user = config.user,\n",
    "    passwd = config.pw,\n",
    "    database = db_name\n",
    ")\n",
    "cur = cnx.cursor()"
   ]
  },
  {
   "cell_type": "code",
   "execution_count": 531,
   "metadata": {},
   "outputs": [
    {
     "data": {
      "application/vnd.jupyter.widget-view+json": {
       "model_id": "4ea865bc7cbe467a8cb2a07a0393bbaf",
       "version_major": 2,
       "version_minor": 0
      },
      "text/plain": [
       "HBox(children=(IntProgress(value=0, max=828), HTML(value='')))"
      ]
     },
     "metadata": {},
     "output_type": "display_data"
    }
   ],
   "source": [
    "for i in tqdm(tuples):\n",
    "    try:\n",
    "        stmt = \"\"\"INSERT INTO birds (Family, Name, Bill_Shape, Eye_Color, Head_Pattern, Crown_Color, Forehead_Color,\n",
    "        Nape_Color, Throat_Color, Cere_Color, Length_Range, Weight, Size, Primary_Color, Underparts, Upperparts, \n",
    "        Back_Pattern, Belly_Pattern, Breast_Pattern, Flight_Pattern, Wingspan, Wing_Shape, Tail_Shape, Tail_Pattern,\n",
    "        Upper_Tail, Under_Tail, Leg_Color) VALUES(%s,%s,%s,%s,%s,%s,%s,%s,%s,%s,%s,%s,%s,%s,%s,%s,%s,%s,%s,%s,%s,%s,%s,%s,%s,%s,%s)\n",
    "        \n",
    "        \"\"\"\n",
    "        cur.execute(stmt, (i))\n",
    "        cnx.commit()\n",
    "    except mysql.connector.Error as err:\n",
    "        print(err, i)"
   ]
  },
  {
   "cell_type": "code",
   "execution_count": 7,
   "metadata": {},
   "outputs": [],
   "source": [
    "cur.execute(\"\"\"SELECT * FROM birds\"\"\")\n",
    "df1 = pd.DataFrame(cur.fetchall())\n",
    "df1.columns = [x[0] for x in cur.description]"
   ]
  },
  {
   "cell_type": "markdown",
   "metadata": {},
   "source": [
    "## Cleaning Up Columns"
   ]
  },
  {
   "cell_type": "code",
   "execution_count": 8,
   "metadata": {},
   "outputs": [],
   "source": [
    "fams = list(df1.Family)\n",
    "\n",
    "new_fams = []\n",
    "for i in fams:\n",
    "    new_fams.append(i.split(\"(\"))\n",
    "\n",
    "real_fams = []\n",
    "for i in new_fams:\n",
    "    real_fams.append(i[1].split(\")\")[0])\n",
    "\n",
    "df1['Family'] = real_fams"
   ]
  },
  {
   "cell_type": "code",
   "execution_count": 9,
   "metadata": {},
   "outputs": [],
   "source": [
    "df1.Eye_Color = df1.Eye_Color.str[11:]"
   ]
  },
  {
   "cell_type": "code",
   "execution_count": 10,
   "metadata": {},
   "outputs": [],
   "source": [
    "df1 = df1[~df1.Bill_Shape.str.contains(\"Eye Color\")]\n",
    "df1 = df1[~df1.Eye_Color.str.contains(\"Eye Color\")]"
   ]
  },
  {
   "cell_type": "code",
   "execution_count": 11,
   "metadata": {},
   "outputs": [],
   "source": [
    "### Removing redundant column label in each row ###\n",
    "\n",
    "df1.Bill_Shape = df1.Bill_Shape.str[12:]\n",
    "df1.Eye_Color = df1.Eye_Color.str[11:]\n",
    "df1.Head_Pattern = df1.Head_Pattern.str[14:]\n",
    "df1.Crown_Color = df1.Crown_Color.str[13:]\n",
    "df1.Forehead_Color = df1.Forehead_Color.str[16:]\n",
    "df1.Nape_Color = df1.Nape_Color.str[12:]\n",
    "df1.Throat_Color = df1.Throat_Color.str[14:]\n",
    "df1.Cere_Color = df1.Cere_Color.str[12:]\n",
    "df1.Length_Range = df1.Length_Range.str[14:]\n",
    "df1.Weight = df1.Weight.str[8:]\n",
    "df1.Size = df1.Size.str[5:]\n",
    "df1.Primary_Color = df1.Primary_Color.str[15:]\n",
    "df1.Underparts = df1.Underparts.str[12:]\n",
    "df1.Upperparts = df1.Upperparts.str[12:]\n",
    "df1.Back_Pattern = df1.Back_Pattern.str[14:]\n",
    "df1.Belly_Pattern = df1.Belly_Pattern.str[15:]\n",
    "df1.Breast_Pattern = df1.Breast_Pattern.str[16:]\n",
    "df1.Flight_Pattern = df1.Flight_Pattern.str[16:]\n",
    "df1.Wingspan = df1.Wingspan.str[10:]\n",
    "df1.Wing_Shape = df1.Wing_Shape.str[11:]\n",
    "df1.Tail_Shape = df1.Tail_Shape.str[12:]\n",
    "df1.Tail_Pattern = df1.Tail_Pattern.str[14:]\n",
    "df1.Upper_Tail = df1.Upper_Tail.str[12:]\n",
    "df1.Under_Tail = df1.Under_Tail.str[12:]\n",
    "df1.Leg_Color = df1.Leg_Color.str[11:]"
   ]
  },
  {
   "cell_type": "code",
   "execution_count": 12,
   "metadata": {},
   "outputs": [],
   "source": [
    "df1 = df1.drop(columns=['Eye_Color'])"
   ]
  },
  {
   "cell_type": "markdown",
   "metadata": {},
   "source": [
    "# Training a Vanilla Classifier (Decision Tree)"
   ]
  },
  {
   "cell_type": "code",
   "execution_count": 395,
   "metadata": {},
   "outputs": [],
   "source": [
    "X = pd.get_dummies(df1.drop(columns=['Family','Name','Size','Length_Range','Weight','Wingspan']))\n",
    "y = (df1['Family'])\n",
    "\n",
    "X_train,X_test, y_train,y_test = train_test_split(X,y,test_size = 0.3,random_state=10)"
   ]
  },
  {
   "cell_type": "code",
   "execution_count": 257,
   "metadata": {},
   "outputs": [
    {
     "data": {
      "text/plain": [
       "DecisionTreeClassifier(class_weight=None, criterion='entropy', max_depth=None,\n",
       "                       max_features=None, max_leaf_nodes=None,\n",
       "                       min_impurity_decrease=0.0, min_impurity_split=None,\n",
       "                       min_samples_leaf=1, min_samples_split=2,\n",
       "                       min_weight_fraction_leaf=0.0, presort=False,\n",
       "                       random_state=10, splitter='best')"
      ]
     },
     "execution_count": 257,
     "metadata": {},
     "output_type": "execute_result"
    }
   ],
   "source": [
    "dtclass = DecisionTreeClassifier(criterion='entropy',random_state=10)\n",
    "dtclass.fit(X_train,y_train)"
   ]
  },
  {
   "cell_type": "code",
   "execution_count": 258,
   "metadata": {},
   "outputs": [],
   "source": [
    "y_preds = dtclass.predict(X_test)\n"
   ]
  },
  {
   "cell_type": "code",
   "execution_count": 259,
   "metadata": {
    "scrolled": true
   },
   "outputs": [
    {
     "name": "stdout",
     "output_type": "stream",
     "text": [
      "Accuracy score is 59.18%\n"
     ]
    }
   ],
   "source": [
    "# Calculate Accuracy \n",
    "acc = accuracy_score(y_test,y_preds)*100\n",
    "print(\"Accuracy score is {:.4}%\".format(acc))"
   ]
  },
  {
   "cell_type": "markdown",
   "metadata": {},
   "source": [
    "**Initial Testing Score of 59.18%. Nice!**"
   ]
  },
  {
   "cell_type": "code",
   "execution_count": 263,
   "metadata": {},
   "outputs": [],
   "source": [
    "def performance(y_true, y_predict):\n",
    "    \"\"\" \n",
    "    Calculates and returns the performance score between \n",
    "    true and predicted values based on the metric chosen.\n",
    "    \"\"\"    \n",
    "    r2 = (metrics.r2_score(y_true,y_predict))\n",
    "    mse = metrics.mean_squared_error(y_true,y_predict)\n",
    "    return r2,mse\n",
    "performance(y_test,y_preds)"
   ]
  },
  {
   "cell_type": "markdown",
   "metadata": {},
   "source": [
    "# Bagged Tree"
   ]
  },
  {
   "cell_type": "code",
   "execution_count": 236,
   "metadata": {
    "collapsed": true
   },
   "outputs": [
    {
     "data": {
      "text/plain": [
       "BaggingClassifier(base_estimator=DecisionTreeClassifier(class_weight=None,\n",
       "                                                        criterion='gini',\n",
       "                                                        max_depth=5,\n",
       "                                                        max_features=None,\n",
       "                                                        max_leaf_nodes=None,\n",
       "                                                        min_impurity_decrease=0.0,\n",
       "                                                        min_impurity_split=None,\n",
       "                                                        min_samples_leaf=1,\n",
       "                                                        min_samples_split=2,\n",
       "                                                        min_weight_fraction_leaf=0.0,\n",
       "                                                        presort=False,\n",
       "                                                        random_state=10,\n",
       "                                                        splitter='best'),\n",
       "                  bootstrap=True, bootstrap_features=False, max_features=1.0,\n",
       "                  max_samples=1.0, n_estimators=20, n_jobs=None,\n",
       "                  oob_score=False, random_state=10, verbose=0,\n",
       "                  warm_start=False)"
      ]
     },
     "execution_count": 236,
     "metadata": {},
     "output_type": "execute_result"
    }
   ],
   "source": [
    "bagged_tree = BaggingClassifier(DecisionTreeClassifier(criterion='gini', max_depth=5,random_state=10),n_estimators=20,random_state=10)\n",
    "bagged_tree.fit(X_train,y_train)"
   ]
  },
  {
   "cell_type": "code",
   "execution_count": 260,
   "metadata": {},
   "outputs": [
    {
     "data": {
      "text/plain": [
       "0.4263157894736842"
      ]
     },
     "execution_count": 260,
     "metadata": {},
     "output_type": "execute_result"
    }
   ],
   "source": [
    "print(bagged_tree.score(X_train,y_train))\n",
    "print(bagged_tree.score(X_test,y_test))"
   ]
  },
  {
   "cell_type": "markdown",
   "metadata": {},
   "source": [
    "# Random Forest"
   ]
  },
  {
   "cell_type": "markdown",
   "metadata": {},
   "source": [
    "## Vanilla Model"
   ]
  },
  {
   "cell_type": "code",
   "execution_count": 239,
   "metadata": {},
   "outputs": [
    {
     "data": {
      "text/plain": [
       "RandomForestClassifier(bootstrap=True, class_weight=None, criterion='gini',\n",
       "                       max_depth=5, max_features='auto', max_leaf_nodes=None,\n",
       "                       min_impurity_decrease=0.0, min_impurity_split=None,\n",
       "                       min_samples_leaf=1, min_samples_split=2,\n",
       "                       min_weight_fraction_leaf=0.0, n_estimators=100,\n",
       "                       n_jobs=None, oob_score=False, random_state=10, verbose=0,\n",
       "                       warm_start=False)"
      ]
     },
     "execution_count": 239,
     "metadata": {},
     "output_type": "execute_result"
    }
   ],
   "source": [
    "forest = RandomForestClassifier(n_estimators=100,max_depth=5,random_state=10)\n",
    "forest.fit(X_train,y_train)"
   ]
  },
  {
   "cell_type": "code",
   "execution_count": 240,
   "metadata": {},
   "outputs": [
    {
     "data": {
      "text/plain": [
       "0.5245614035087719"
      ]
     },
     "execution_count": 240,
     "metadata": {},
     "output_type": "execute_result"
    }
   ],
   "source": [
    "print(forest.score(X_train,y_train))\n",
    "print(forest.score(X_test,y_test))"
   ]
  },
  {
   "cell_type": "code",
   "execution_count": 242,
   "metadata": {
    "scrolled": false
   },
   "outputs": [
    {
     "name": "stderr",
     "output_type": "stream",
     "text": [
      "/Users/reuben/anaconda3/lib/python3.7/site-packages/sklearn/model_selection/_split.py:657: Warning: The least populated class in y has only 1 members, which is too few. The minimum number of members in any class cannot be less than n_splits=3.\n",
      "  % (min_groups, self.n_splits)), Warning)\n"
     ]
    },
    {
     "name": "stdout",
     "output_type": "stream",
     "text": [
      "Mean Cross Validation Score: 57.62%\n"
     ]
    }
   ],
   "source": [
    "dt_cv_score = cross_val_score(dtclass,X,y,cv=3)\n",
    "mean_dt_cv_score = np.mean(dt_cv_score)\n",
    "print(\"Mean Cross Validation Score: {:.4}%\".format(mean_dt_cv_score*100))"
   ]
  },
  {
   "cell_type": "markdown",
   "metadata": {},
   "source": [
    "## Gridsearching Random Forest"
   ]
  },
  {
   "cell_type": "code",
   "execution_count": 29,
   "metadata": {},
   "outputs": [],
   "source": [
    "dt_param_grid = {\n",
    "    \"criterion\": [\"gini\", \"entropy\"],\n",
    "    \"max_depth\": [None, 2, 3, 4, 5, 6, 8, 10, 12, 14, 16 ,18, 20, 22, 24, 26, 28, 30, 32, 34],\n",
    "    \"min_samples_split\": [2, 5, 10],\n",
    "    \"min_samples_leaf\" : [1, 2, 3, 4, 5, 6]\n",
    "}\n",
    "dt_grid_search = GridSearchCV(dtclass,dt_param_grid,cv=3,return_train_score=True)\n",
    "\n",
    "dt_grid_search.fit(X, y)"
   ]
  },
  {
   "cell_type": "code",
   "execution_count": 31,
   "metadata": {},
   "outputs": [
    {
     "name": "stdout",
     "output_type": "stream",
     "text": [
      "Mean Training Score: 63.71%\n",
      "Mean Testing Score: 80.61%\n",
      "Best Parameter Combination Found During Grid Search:\n"
     ]
    },
    {
     "data": {
      "text/plain": [
       "{'criterion': 'gini',\n",
       " 'max_depth': 18,\n",
       " 'min_samples_leaf': 1,\n",
       " 'min_samples_split': 5}"
      ]
     },
     "execution_count": 31,
     "metadata": {},
     "output_type": "execute_result"
    }
   ],
   "source": [
    "dt_gs_training_score = dt_grid_search.cv_results_['mean_train_score']\n",
    "dt_gs_testing_score = dt_grid_search.score(X,y)\n",
    "\n",
    "print(\"Mean Training Score: {:.4}%\".format(np.mean(dt_gs_training_score) * 100))\n",
    "print(\"Mean Testing Score: {:.4}%\".format(np.mean(dt_gs_testing_score) * 100))\n",
    "print(\"Best Parameter Combination Found During Grid Search:\")\n",
    "dt_grid_search.best_params_"
   ]
  },
  {
   "cell_type": "code",
   "execution_count": 265,
   "metadata": {},
   "outputs": [
    {
     "name": "stderr",
     "output_type": "stream",
     "text": [
      "/Users/reuben/anaconda3/lib/python3.7/site-packages/sklearn/model_selection/_split.py:657: Warning: The least populated class in y has only 1 members, which is too few. The minimum number of members in any class cannot be less than n_splits=3.\n",
      "  % (min_groups, self.n_splits)), Warning)\n",
      "/Users/reuben/anaconda3/lib/python3.7/site-packages/sklearn/ensemble/forest.py:245: FutureWarning: The default value of n_estimators will change from 10 in version 0.20 to 100 in 0.22.\n",
      "  \"10 in version 0.20 to 100 in 0.22.\", FutureWarning)\n",
      "/Users/reuben/anaconda3/lib/python3.7/site-packages/sklearn/ensemble/forest.py:245: FutureWarning: The default value of n_estimators will change from 10 in version 0.20 to 100 in 0.22.\n",
      "  \"10 in version 0.20 to 100 in 0.22.\", FutureWarning)\n",
      "/Users/reuben/anaconda3/lib/python3.7/site-packages/sklearn/ensemble/forest.py:245: FutureWarning: The default value of n_estimators will change from 10 in version 0.20 to 100 in 0.22.\n",
      "  \"10 in version 0.20 to 100 in 0.22.\", FutureWarning)\n"
     ]
    },
    {
     "name": "stdout",
     "output_type": "stream",
     "text": [
      "Mean Cross Validation Score for Random Forest Classifier: 58.11%\n"
     ]
    }
   ],
   "source": [
    "forest_class = RandomForestClassifier()\n",
    "dt_cv_score = cross_val_score(forest_class,X,y,cv=3)\n",
    "mean_rf_cv_score = np.mean(dt_cv_score)\n",
    "print(\"Mean Cross Validation Score for Random Forest Classifier: {:.4}%\".format(mean_rf_cv_score * 100))"
   ]
  },
  {
   "cell_type": "code",
   "execution_count": 33,
   "metadata": {},
   "outputs": [],
   "source": [
    "rf_param_grid = {\n",
    "    \"criterion\": [\"gini\", \"entropy\"],\n",
    "    \"max_depth\": [None, 2, 3, 4, 5, 6, 8, 10, 12, 14, 16 ,18, 20, 22, 24, 26, 28, 30, 32, 34],\n",
    "    \"min_samples_split\": [2, 5, 10],\n",
    "    \"min_samples_leaf\" : [1, 2, 3, 4, 5, 6],\n",
    "    \"n_estimators\" : [10, 30, 100]\n",
    "}"
   ]
  },
  {
   "cell_type": "code",
   "execution_count": 34,
   "metadata": {},
   "outputs": [
    {
     "name": "stderr",
     "output_type": "stream",
     "text": [
      "/Users/reuben/anaconda3/lib/python3.7/site-packages/sklearn/model_selection/_split.py:657: Warning: The least populated class in y has only 1 members, which is too few. The minimum number of members in any class cannot be less than n_splits=3.\n",
      "  % (min_groups, self.n_splits)), Warning)\n",
      "/Users/reuben/anaconda3/lib/python3.7/site-packages/sklearn/model_selection/_search.py:813: DeprecationWarning: The default of the `iid` parameter will change from True to False in version 0.22 and will be removed in 0.24. This will change numeric results when test-set sizes are unequal.\n",
      "  DeprecationWarning)\n"
     ]
    },
    {
     "name": "stdout",
     "output_type": "stream",
     "text": [
      "Testing Accuracy: 66.38%\n",
      "Total Runtime for Grid Search on Random Forest Classifier: 686.8 seconds\n",
      "\n",
      "Optimal Parameters: {'criterion': 'gini', 'max_depth': None, 'min_samples_leaf': 1, 'min_samples_split': 2, 'n_estimators': 100}\n"
     ]
    }
   ],
   "source": [
    "start = time.time()\n",
    "rf_grid_search = GridSearchCV(forest_class,rf_param_grid,cv=3)\n",
    "rf_grid_search.fit(X, y)\n",
    "\n",
    "print(\"Testing Accuracy: {:.4}%\".format(rf_grid_search.best_score_ * 100))\n",
    "print(\"Total Runtime for Grid Search on Random Forest Classifier: {:.4} seconds\".format(time.time() - start))\n",
    "print(\"\")\n",
    "print(\"Optimal Parameters: {}\".format(rf_grid_search.best_params_))"
   ]
  },
  {
   "cell_type": "markdown",
   "metadata": {},
   "source": [
    " **Up to 66.38%. Better!**"
   ]
  },
  {
   "cell_type": "markdown",
   "metadata": {},
   "source": [
    "## Changed Target to Size and Combined 5 categories into 3"
   ]
  },
  {
   "cell_type": "code",
   "execution_count": 266,
   "metadata": {},
   "outputs": [],
   "source": [
    "df1.loc[df1['Size'] == ' Very Small (3 - 5 in)', 'Size'] = ' Small (5 - 9 in)'\n",
    "df1.loc[df1['Size'] == ' Very Large (32 - 72 in)'] = ' Large (16 - 32 in)'"
   ]
  },
  {
   "cell_type": "code",
   "execution_count": 644,
   "metadata": {},
   "outputs": [
    {
     "data": {
      "text/plain": [
       " Small (5 - 9 in)      391\n",
       " Medium (9 - 16 in)    219\n",
       " Large (16 - 32 in)    205\n",
       "Name: Size, dtype: int64"
      ]
     },
     "execution_count": 644,
     "metadata": {},
     "output_type": "execute_result"
    }
   ],
   "source": [
    "df1.Size.value_counts()"
   ]
  },
  {
   "cell_type": "code",
   "execution_count": 651,
   "metadata": {},
   "outputs": [],
   "source": [
    "X = pd.get_dummies(df1.drop(columns=['Family','Name','Size','Length_Range','Weight','Wingspan']))\n",
    "y = (df1['Size'])\n",
    "\n",
    "X_train,X_test, y_train,y_test = train_test_split(X,y,test_size = 0.4,random_state=10)"
   ]
  },
  {
   "cell_type": "code",
   "execution_count": 652,
   "metadata": {},
   "outputs": [
    {
     "name": "stderr",
     "output_type": "stream",
     "text": [
      "/Users/reuben/anaconda3/lib/python3.7/site-packages/sklearn/ensemble/forest.py:245: FutureWarning: The default value of n_estimators will change from 10 in version 0.20 to 100 in 0.22.\n",
      "  \"10 in version 0.20 to 100 in 0.22.\", FutureWarning)\n"
     ]
    },
    {
     "data": {
      "text/plain": [
       "RandomForestClassifier(bootstrap=True, class_weight=None, criterion='gini',\n",
       "                       max_depth=None, max_features='auto', max_leaf_nodes=None,\n",
       "                       min_impurity_decrease=0.0, min_impurity_split=None,\n",
       "                       min_samples_leaf=1, min_samples_split=2,\n",
       "                       min_weight_fraction_leaf=0.0, n_estimators=10,\n",
       "                       n_jobs=None, oob_score=False, random_state=10, verbose=0,\n",
       "                       warm_start=False)"
      ]
     },
     "execution_count": 652,
     "metadata": {},
     "output_type": "execute_result"
    }
   ],
   "source": [
    "forest = RandomForestClassifier(random_state=10)\n",
    "forest.fit(X_train,y_train)"
   ]
  },
  {
   "cell_type": "code",
   "execution_count": 653,
   "metadata": {},
   "outputs": [
    {
     "data": {
      "text/plain": [
       "0.647239263803681"
      ]
     },
     "execution_count": 653,
     "metadata": {},
     "output_type": "execute_result"
    }
   ],
   "source": [
    "forest.score(X_test,y_test)"
   ]
  },
  {
   "cell_type": "code",
   "execution_count": 654,
   "metadata": {},
   "outputs": [
    {
     "name": "stdout",
     "output_type": "stream",
     "text": [
      "Mean Cross Validation Score: 67.12%\n"
     ]
    }
   ],
   "source": [
    "dt_cv_score = cross_val_score(forest,X,y,cv=3)\n",
    "mean_dt_cv_score = np.mean(dt_cv_score)\n",
    "print(\"Mean Cross Validation Score: {:.4}%\".format(mean_dt_cv_score*100))"
   ]
  },
  {
   "cell_type": "code",
   "execution_count": 248,
   "metadata": {},
   "outputs": [],
   "source": [
    "forest_param_grid = {\n",
    "    \"criterion\": [\"gini\", \"entropy\"],\n",
    "    \"max_depth\": [None, 2, 3, 4, 5, 6, 8, 10, 12, 14, 16 ,18, 20, 22, 24, 26, 28, 30, 32, 34],\n",
    "    \"min_samples_split\": [2, 5, 10],\n",
    "    \"min_samples_leaf\" : [1, 2, 3, 4, 5, 6]\n",
    "}\n",
    "\n",
    "dt_grid_search = GridSearchCV(forest,forest_param_grid,cv=3,return_train_score=True)\n",
    "\n",
    "dt_grid_search.fit(X, y)\n",
    "\n",
    "dt_gs_training_score = dt_grid_search.cv_results_['mean_train_score']\n",
    "dt_gs_testing_score = dt_grid_search.score(X,y)\n",
    "\n",
    "print(\"Mean Training Score: {:.4}%\".format(np.mean(dt_gs_training_score) * 100))\n",
    "print(\"Mean Testing Score: {:.4}%\".format(np.mean(dt_gs_testing_score) * 100))\n",
    "print(\"Best Parameter Combination Found During Grid Search:\")\n",
    "dt_grid_search.best_params_"
   ]
  },
  {
   "cell_type": "code",
   "execution_count": 660,
   "metadata": {},
   "outputs": [
    {
     "name": "stderr",
     "output_type": "stream",
     "text": [
      "/Users/reuben/anaconda3/lib/python3.7/site-packages/sklearn/ensemble/forest.py:245: FutureWarning: The default value of n_estimators will change from 10 in version 0.20 to 100 in 0.22.\n",
      "  \"10 in version 0.20 to 100 in 0.22.\", FutureWarning)\n"
     ]
    },
    {
     "data": {
      "text/plain": [
       "RandomForestClassifier(bootstrap=True, class_weight=None, criterion='gini',\n",
       "                       max_depth=34, max_features='auto', max_leaf_nodes=None,\n",
       "                       min_impurity_decrease=0.0, min_impurity_split=None,\n",
       "                       min_samples_leaf=1, min_samples_split=5,\n",
       "                       min_weight_fraction_leaf=0.0, n_estimators=10,\n",
       "                       n_jobs=None, oob_score=False, random_state=10, verbose=0,\n",
       "                       warm_start=False)"
      ]
     },
     "execution_count": 660,
     "metadata": {},
     "output_type": "execute_result"
    }
   ],
   "source": [
    "forest = RandomForestClassifier(random_state=10, max_depth=34, min_samples_leaf=1, min_samples_split=5, criterion='gini')\n",
    "forest.fit(X_train,y_train)"
   ]
  },
  {
   "cell_type": "code",
   "execution_count": 661,
   "metadata": {},
   "outputs": [
    {
     "name": "stdout",
     "output_type": "stream",
     "text": [
      "Mean Cross Validation Score: 69.21%\n"
     ]
    }
   ],
   "source": [
    "dt_cv_score = cross_val_score(forest,X,y,cv=3)\n",
    "mean_dt_cv_score = np.mean(dt_cv_score)\n",
    "print(\"Mean Cross Validation Score: {:.4}%\".format(mean_dt_cv_score*100))"
   ]
  },
  {
   "cell_type": "code",
   "execution_count": 662,
   "metadata": {},
   "outputs": [],
   "source": [
    "y_pred = forest.predict(X_test)"
   ]
  },
  {
   "cell_type": "code",
   "execution_count": 664,
   "metadata": {},
   "outputs": [
    {
     "name": "stdout",
     "output_type": "stream",
     "text": [
      "Confusion Matrix, without normalization\n",
      "[[ 53  25  11]\n",
      " [ 22  22  41]\n",
      " [ 11  16 125]]\n",
      "[0.61627907 0.34920635 0.70621469]\n"
     ]
    },
    {
     "data": {
      "image/png": "[encoded data removed]",
      "text/plain": [
       "<Figure size 432x288 with 2 Axes>"
      ]
     },
     "metadata": {},
     "output_type": "display_data"
    }
   ],
   "source": [
    "cm = confusion_matrix(y_test,y_pred)\n",
    "classes = ['Small','Medium','Large']\n",
    "plot_confusion_matrix(cm, classes,\n",
    "                          normalize=False,\n",
    "                          title='Confusion matrix',\n",
    "                          cmap=plt.cm.Blues)\n",
    "print(precision_score(y_test, y_pred,average=None))"
   ]
  },
  {
   "cell_type": "markdown",
   "metadata": {},
   "source": [
    "## Support Vector Classifier"
   ]
  },
  {
   "cell_type": "code",
   "execution_count": 44,
   "metadata": {},
   "outputs": [
    {
     "name": "stderr",
     "output_type": "stream",
     "text": [
      "/Users/reuben/anaconda3/lib/python3.7/site-packages/sklearn/svm/base.py:193: FutureWarning: The default value of gamma will change from 'auto' to 'scale' in version 0.22 to account better for unscaled features. Set gamma explicitly to 'auto' or 'scale' to avoid this warning.\n",
      "  \"avoid this warning.\", FutureWarning)\n"
     ]
    },
    {
     "name": "stdout",
     "output_type": "stream",
     "text": [
      "run time is 1.3344769477844238 seconds\n"
     ]
    }
   ],
   "source": [
    "tic = time()\n",
    "svclassifier = SVC(kernel='rbf', C=1)  \n",
    "svclassifier.fit(X_train, y_train) \n",
    "y_pred = svclassifier.predict(X_test)\n",
    "toc = time()\n",
    "print(\"run time is {} seconds\".format(toc-tic))"
   ]
  },
  {
   "cell_type": "code",
   "execution_count": 666,
   "metadata": {},
   "outputs": [
    {
     "name": "stdout",
     "output_type": "stream",
     "text": [
      "[[ 53  25  11]\n",
      " [ 22  22  41]\n",
      " [ 11  16 125]]\n",
      "                     precision    recall  f1-score   support\n",
      "\n",
      " Large (16 - 32 in)       0.62      0.60      0.61        89\n",
      " Medium (9 - 16 in)       0.35      0.26      0.30        85\n",
      "   Small (5 - 9 in)       0.71      0.82      0.76       152\n",
      "\n",
      "           accuracy                           0.61       326\n",
      "          macro avg       0.56      0.56      0.55       326\n",
      "       weighted avg       0.59      0.61      0.60       326\n",
      "\n",
      "The accuracy score is 0.6134969325153374\n"
     ]
    }
   ],
   "source": [
    "print(confusion_matrix(y_test,y_pred))\n",
    "print(classification_report(y_test,y_pred)) \n",
    "print(\"The accuracy score is\" + \" \"+ str(accuracy_score(y_test, y_pred)))"
   ]
  },
  {
   "cell_type": "code",
   "execution_count": null,
   "metadata": {},
   "outputs": [],
   "source": []
  },
  {
   "cell_type": "code",
   "execution_count": 667,
   "metadata": {},
   "outputs": [],
   "source": [
    "def svc_param_selection(X, y, nfolds):\n",
    "    Cs = [0.001, 0.01, 0.1, 1, 10]\n",
    "    gammas = [0.001, 0.01, 0.1, 1]\n",
    "    param_grid = {'C': Cs, 'gamma' : gammas}\n",
    "    grid_search = GridSearchCV(svm.SVC(kernel='rbf'), param_grid, cv=nfolds)\n",
    "    grid_search.fit(X, y)\n",
    "    grid_search.best_params_\n",
    "    return grid_search.best_params_"
   ]
  },
  {
   "cell_type": "code",
   "execution_count": 669,
   "metadata": {},
   "outputs": [
    {
     "data": {
      "text/plain": [
       "{'C': 10, 'gamma': 0.01}"
      ]
     },
     "execution_count": 669,
     "metadata": {},
     "output_type": "execute_result"
    }
   ],
   "source": [
    "svc_param_selection(X, y, 5)"
   ]
  },
  {
   "cell_type": "markdown",
   "metadata": {},
   "source": [
    "## Re-running SVC with Optimal Parameters"
   ]
  },
  {
   "cell_type": "code",
   "execution_count": 670,
   "metadata": {},
   "outputs": [
    {
     "name": "stdout",
     "output_type": "stream",
     "text": [
      "run time is 1.660149097442627 seconds\n"
     ]
    }
   ],
   "source": [
    "\n",
    "tic = time()\n",
    "svclassifier = SVC(kernel='rbf', C=10, gamma=0.01)  \n",
    "svclassifier.fit(X_train, y_train) \n",
    "y_pred = svclassifier.predict(X_test)\n",
    "toc = time()\n",
    "print(\"run time is {} seconds\".format(toc-tic))"
   ]
  },
  {
   "cell_type": "code",
   "execution_count": 671,
   "metadata": {},
   "outputs": [
    {
     "name": "stdout",
     "output_type": "stream",
     "text": [
      "[[ 55  30   4]\n",
      " [ 26  28  31]\n",
      " [ 14  21 117]]\n",
      "                     precision    recall  f1-score   support\n",
      "\n",
      " Large (16 - 32 in)       0.58      0.62      0.60        89\n",
      " Medium (9 - 16 in)       0.35      0.33      0.34        85\n",
      "   Small (5 - 9 in)       0.77      0.77      0.77       152\n",
      "\n",
      "           accuracy                           0.61       326\n",
      "          macro avg       0.57      0.57      0.57       326\n",
      "       weighted avg       0.61      0.61      0.61       326\n",
      "\n",
      "The accuracy score is 0.6134969325153374\n"
     ]
    }
   ],
   "source": [
    "print(confusion_matrix(y_test,y_pred))\n",
    "print(classification_report(y_test,y_pred)) \n",
    "print(\"The accuracy score is\" + \" \"+ str(accuracy_score(y_test, y_pred)))"
   ]
  },
  {
   "cell_type": "markdown",
   "metadata": {},
   "source": [
    "## Using Synthetic Minority Over-sampling Technique (SMOTE) on Imbalanced Dataset"
   ]
  },
  {
   "cell_type": "code",
   "execution_count": 674,
   "metadata": {},
   "outputs": [],
   "source": [
    "smt = SMOTE()\n",
    "X_train, y_train = smt.fit_sample(X_train, y_train)"
   ]
  },
  {
   "cell_type": "code",
   "execution_count": 679,
   "metadata": {},
   "outputs": [
    {
     "data": {
      "text/plain": [
       "0.6134969325153374"
      ]
     },
     "execution_count": 679,
     "metadata": {},
     "output_type": "execute_result"
    }
   ],
   "source": [
    "smote = SVC(kernel='rbf', C=10, gamma=0.01).fit(X_train,y_train)\n",
    "smote_pred = smote.predict(X_test)\n",
    "\n",
    "# Checking accuracy\n",
    "accuracy_score(y_test, smote_pred)"
   ]
  },
  {
   "cell_type": "code",
   "execution_count": 680,
   "metadata": {},
   "outputs": [
    {
     "name": "stdout",
     "output_type": "stream",
     "text": [
      "[[ 55  30   4]\n",
      " [ 26  28  31]\n",
      " [ 14  21 117]]\n",
      "                     precision    recall  f1-score   support\n",
      "\n",
      " Large (16 - 32 in)       0.58      0.62      0.60        89\n",
      " Medium (9 - 16 in)       0.35      0.33      0.34        85\n",
      "   Small (5 - 9 in)       0.77      0.77      0.77       152\n",
      "\n",
      "           accuracy                           0.61       326\n",
      "          macro avg       0.57      0.57      0.57       326\n",
      "       weighted avg       0.61      0.61      0.61       326\n",
      "\n"
     ]
    }
   ],
   "source": [
    "print(confusion_matrix(y_test, smote_pred))\n",
    "print(classification_report(y_test,smote_pred))"
   ]
  },
  {
   "cell_type": "code",
   "execution_count": 57,
   "metadata": {},
   "outputs": [],
   "source": [
    "df1.to_csv('real_bird_dataset.csv')"
   ]
  },
  {
   "cell_type": "markdown",
   "metadata": {},
   "source": [
    "## Gridsearched Neural Network Using Bag of Words"
   ]
  },
  {
   "cell_type": "code",
   "execution_count": 711,
   "metadata": {},
   "outputs": [],
   "source": [
    "vectorizer = CountVectorizer()\n",
    "\n",
    "X = vectorizer.fit_transform(df1.Flight_Pattern)"
   ]
  },
  {
   "cell_type": "code",
   "execution_count": 713,
   "metadata": {},
   "outputs": [],
   "source": [
    "x_words = X.toarray()"
   ]
  },
  {
   "cell_type": "code",
   "execution_count": 714,
   "metadata": {},
   "outputs": [],
   "source": [
    "x_words = pd.DataFrame(x_words)"
   ]
  },
  {
   "cell_type": "code",
   "execution_count": 715,
   "metadata": {},
   "outputs": [],
   "source": [
    "x_words.reset_index(drop=True, inplace=True)\n",
    "df1.reset_index(drop=True, inplace=True)"
   ]
  },
  {
   "cell_type": "code",
   "execution_count": 716,
   "metadata": {},
   "outputs": [],
   "source": [
    "bow_X = pd.concat([df1,x_words], axis=1, ignore_index=True)"
   ]
  },
  {
   "cell_type": "code",
   "execution_count": 717,
   "metadata": {},
   "outputs": [],
   "source": [
    "bow_X = bow_X.drop(columns=[0,1,9,10,11,19])"
   ]
  },
  {
   "cell_type": "code",
   "execution_count": 718,
   "metadata": {
    "scrolled": true
   },
   "outputs": [],
   "source": [
    "bow_with_features = pd.get_dummies(bow_X)\n",
    "y = df1['Size']"
   ]
  },
  {
   "cell_type": "code",
   "execution_count": 719,
   "metadata": {},
   "outputs": [],
   "source": [
    "X_train,X_test, y_train,y_test = train_test_split(bow_with_features,y,test_size=0.3)"
   ]
  },
  {
   "cell_type": "code",
   "execution_count": 197,
   "metadata": {
    "scrolled": true
   },
   "outputs": [
    {
     "name": "stderr",
     "output_type": "stream",
     "text": [
      "/Users/reuben/anaconda3/lib/python3.7/site-packages/sklearn/ensemble/forest.py:245: FutureWarning: The default value of n_estimators will change from 10 in version 0.20 to 100 in 0.22.\n",
      "  \"10 in version 0.20 to 100 in 0.22.\", FutureWarning)\n"
     ]
    },
    {
     "data": {
      "text/plain": [
       "RandomForestClassifier(bootstrap=True, class_weight=None, criterion='gini',\n",
       "                       max_depth=None, max_features='auto', max_leaf_nodes=None,\n",
       "                       min_impurity_decrease=0.0, min_impurity_split=None,\n",
       "                       min_samples_leaf=1, min_samples_split=2,\n",
       "                       min_weight_fraction_leaf=0.0, n_estimators=10,\n",
       "                       n_jobs=None, oob_score=False, random_state=45, verbose=0,\n",
       "                       warm_start=False)"
      ]
     },
     "execution_count": 197,
     "metadata": {},
     "output_type": "execute_result"
    }
   ],
   "source": [
    "forest = RandomForestClassifier(random_state=45)\n",
    "forest.fit(X_train,y_train)"
   ]
  },
  {
   "cell_type": "code",
   "execution_count": 198,
   "metadata": {},
   "outputs": [
    {
     "name": "stdout",
     "output_type": "stream",
     "text": [
      "Mean Cross Validation Score: 63.56%\n"
     ]
    }
   ],
   "source": [
    "dt_cv_score = cross_val_score(forest,X,y,cv=3)\n",
    "mean_dt_cv_score = np.mean(dt_cv_score)\n",
    "print(\"Mean Cross Validation Score: {:.4}%\".format(mean_dt_cv_score*100))"
   ]
  },
  {
   "cell_type": "code",
   "execution_count": 199,
   "metadata": {},
   "outputs": [],
   "source": [
    "rf_param_grid = {\n",
    "    \"criterion\": [\"gini\", \"entropy\"],\n",
    "    \"max_depth\": [None, 2, 3, 4, 5, 6, 8, 10, 12, 14, 16 ,18, 20, 22, 24, 26, 28, 30, 32, 34],\n",
    "    \"min_samples_split\": [2, 5, 10],\n",
    "    \"min_samples_leaf\" : [1, 2, 3, 4, 5, 6],\n",
    "    \"n_estimators\" : [10, 30, 100]\n",
    "}"
   ]
  },
  {
   "cell_type": "code",
   "execution_count": 71,
   "metadata": {},
   "outputs": [
    {
     "data": {
      "text/plain": [
       "GridSearchCV(cv=3, error_score='raise-deprecating',\n",
       "             estimator=RandomForestClassifier(bootstrap=True, class_weight=None,\n",
       "                                              criterion='gini', max_depth=None,\n",
       "                                              max_features='auto',\n",
       "                                              max_leaf_nodes=None,\n",
       "                                              min_impurity_decrease=0.0,\n",
       "                                              min_impurity_split=None,\n",
       "                                              min_samples_leaf=1,\n",
       "                                              min_samples_split=2,\n",
       "                                              min_weight_fraction_leaf=0.0,\n",
       "                                              n_estimators=10, n_jobs=None,\n",
       "                                              oob_score=False, random_state=45,\n",
       "                                              verbose=0, warm_start=False),\n",
       "             iid='warn', n_jobs=None,\n",
       "             param_grid={'criterion': ['gini', 'entropy'],\n",
       "                         'max_depth': [None, 2, 3, 4, 5, 6, 8, 10, 12, 14, 16,\n",
       "                                       18, 20, 22, 24, 26, 28, 30, 32, 34],\n",
       "                         'min_samples_leaf': [1, 2, 3, 4, 5, 6],\n",
       "                         'min_samples_split': [2, 5, 10],\n",
       "                         'n_estimators': [10, 30, 100]},\n",
       "             pre_dispatch='2*n_jobs', refit=True, return_train_score=True,\n",
       "             scoring=None, verbose=0)"
      ]
     },
     "execution_count": 71,
     "metadata": {},
     "output_type": "execute_result"
    }
   ],
   "source": [
    "dt_grid_search = GridSearchCV(forest,rf_param_grid,cv=3,return_train_score=True)\n",
    "\n",
    "dt_grid_search.fit(X, y)"
   ]
  },
  {
   "cell_type": "code",
   "execution_count": 213,
   "metadata": {},
   "outputs": [
    {
     "name": "stdout",
     "output_type": "stream",
     "text": [
      "Testing Accuracy: 67.61%\n",
      "\n",
      "Optimal Parameters: {'criterion': 'entropy', 'max_depth': 20, 'min_samples_leaf': 1, 'min_samples_split': 10, 'n_estimators': 30}\n"
     ]
    }
   ],
   "source": [
    "print(\"Testing Accuracy: {:.4}%\".format(dt_grid_search.best_score_ * 100))\n",
    "print(\"\")\n",
    "print(\"Optimal Parameters: {}\".format(dt_grid_search.best_params_))"
   ]
  },
  {
   "cell_type": "code",
   "execution_count": 720,
   "metadata": {},
   "outputs": [],
   "source": [
    "### SMOTE ###\n",
    "smt = SMOTE()\n",
    "X_train, y_train = smt.fit_sample(X_train, y_train)"
   ]
  },
  {
   "cell_type": "markdown",
   "metadata": {},
   "source": [
    "## Random-searched SVC Using Bag of Words"
   ]
  },
  {
   "cell_type": "code",
   "execution_count": 721,
   "metadata": {
    "collapsed": true
   },
   "outputs": [
    {
     "ename": "KeyboardInterrupt",
     "evalue": "",
     "output_type": "error",
     "traceback": [
      "\u001b[0;31m---------------------------------------------------------------------------\u001b[0m",
      "\u001b[0;31mKeyboardInterrupt\u001b[0m                         Traceback (most recent call last)",
      "\u001b[0;32m<ipython-input-721-4d61a3b9c7c5>\u001b[0m in \u001b[0;36m<module>\u001b[0;34m\u001b[0m\n\u001b[0;32m----> 1\u001b[0;31m \u001b[0msvc_param_selection\u001b[0m\u001b[0;34m(\u001b[0m\u001b[0mbow_with_features\u001b[0m\u001b[0;34m,\u001b[0m \u001b[0my\u001b[0m\u001b[0;34m,\u001b[0m \u001b[0;36m5\u001b[0m\u001b[0;34m)\u001b[0m\u001b[0;34m\u001b[0m\u001b[0;34m\u001b[0m\u001b[0m\n\u001b[0m",
      "\u001b[0;32m<ipython-input-667-721c45d7701d>\u001b[0m in \u001b[0;36msvc_param_selection\u001b[0;34m(X, y, nfolds)\u001b[0m\n\u001b[1;32m      4\u001b[0m     \u001b[0mparam_grid\u001b[0m \u001b[0;34m=\u001b[0m \u001b[0;34m{\u001b[0m\u001b[0;34m'C'\u001b[0m\u001b[0;34m:\u001b[0m \u001b[0mCs\u001b[0m\u001b[0;34m,\u001b[0m \u001b[0;34m'gamma'\u001b[0m \u001b[0;34m:\u001b[0m \u001b[0mgammas\u001b[0m\u001b[0;34m}\u001b[0m\u001b[0;34m\u001b[0m\u001b[0;34m\u001b[0m\u001b[0m\n\u001b[1;32m      5\u001b[0m     \u001b[0mgrid_search\u001b[0m \u001b[0;34m=\u001b[0m \u001b[0mGridSearchCV\u001b[0m\u001b[0;34m(\u001b[0m\u001b[0msvm\u001b[0m\u001b[0;34m.\u001b[0m\u001b[0mSVC\u001b[0m\u001b[0;34m(\u001b[0m\u001b[0mkernel\u001b[0m\u001b[0;34m=\u001b[0m\u001b[0;34m'rbf'\u001b[0m\u001b[0;34m)\u001b[0m\u001b[0;34m,\u001b[0m \u001b[0mparam_grid\u001b[0m\u001b[0;34m,\u001b[0m \u001b[0mcv\u001b[0m\u001b[0;34m=\u001b[0m\u001b[0mnfolds\u001b[0m\u001b[0;34m)\u001b[0m\u001b[0;34m\u001b[0m\u001b[0;34m\u001b[0m\u001b[0m\n\u001b[0;32m----> 6\u001b[0;31m     \u001b[0mgrid_search\u001b[0m\u001b[0;34m.\u001b[0m\u001b[0mfit\u001b[0m\u001b[0;34m(\u001b[0m\u001b[0mX\u001b[0m\u001b[0;34m,\u001b[0m \u001b[0my\u001b[0m\u001b[0;34m)\u001b[0m\u001b[0;34m\u001b[0m\u001b[0;34m\u001b[0m\u001b[0m\n\u001b[0m\u001b[1;32m      7\u001b[0m     \u001b[0mgrid_search\u001b[0m\u001b[0;34m.\u001b[0m\u001b[0mbest_params_\u001b[0m\u001b[0;34m\u001b[0m\u001b[0;34m\u001b[0m\u001b[0m\n\u001b[1;32m      8\u001b[0m     \u001b[0;32mreturn\u001b[0m \u001b[0mgrid_search\u001b[0m\u001b[0;34m.\u001b[0m\u001b[0mbest_params_\u001b[0m\u001b[0;34m\u001b[0m\u001b[0;34m\u001b[0m\u001b[0m\n",
      "\u001b[0;32m~/anaconda3/lib/python3.7/site-packages/sklearn/model_selection/_search.py\u001b[0m in \u001b[0;36mfit\u001b[0;34m(self, X, y, groups, **fit_params)\u001b[0m\n\u001b[1;32m    685\u001b[0m                 \u001b[0;32mreturn\u001b[0m \u001b[0mresults\u001b[0m\u001b[0;34m\u001b[0m\u001b[0;34m\u001b[0m\u001b[0m\n\u001b[1;32m    686\u001b[0m \u001b[0;34m\u001b[0m\u001b[0m\n\u001b[0;32m--> 687\u001b[0;31m             \u001b[0mself\u001b[0m\u001b[0;34m.\u001b[0m\u001b[0m_run_search\u001b[0m\u001b[0;34m(\u001b[0m\u001b[0mevaluate_candidates\u001b[0m\u001b[0;34m)\u001b[0m\u001b[0;34m\u001b[0m\u001b[0;34m\u001b[0m\u001b[0m\n\u001b[0m\u001b[1;32m    688\u001b[0m \u001b[0;34m\u001b[0m\u001b[0m\n\u001b[1;32m    689\u001b[0m         \u001b[0;31m# For multi-metric evaluation, store the best_index_, best_params_ and\u001b[0m\u001b[0;34m\u001b[0m\u001b[0;34m\u001b[0m\u001b[0;34m\u001b[0m\u001b[0m\n",
      "\u001b[0;32m~/anaconda3/lib/python3.7/site-packages/sklearn/model_selection/_search.py\u001b[0m in \u001b[0;36m_run_search\u001b[0;34m(self, evaluate_candidates)\u001b[0m\n\u001b[1;32m   1146\u001b[0m     \u001b[0;32mdef\u001b[0m \u001b[0m_run_search\u001b[0m\u001b[0;34m(\u001b[0m\u001b[0mself\u001b[0m\u001b[0;34m,\u001b[0m \u001b[0mevaluate_candidates\u001b[0m\u001b[0;34m)\u001b[0m\u001b[0;34m:\u001b[0m\u001b[0;34m\u001b[0m\u001b[0;34m\u001b[0m\u001b[0m\n\u001b[1;32m   1147\u001b[0m         \u001b[0;34m\"\"\"Search all candidates in param_grid\"\"\"\u001b[0m\u001b[0;34m\u001b[0m\u001b[0;34m\u001b[0m\u001b[0m\n\u001b[0;32m-> 1148\u001b[0;31m         \u001b[0mevaluate_candidates\u001b[0m\u001b[0;34m(\u001b[0m\u001b[0mParameterGrid\u001b[0m\u001b[0;34m(\u001b[0m\u001b[0mself\u001b[0m\u001b[0;34m.\u001b[0m\u001b[0mparam_grid\u001b[0m\u001b[0;34m)\u001b[0m\u001b[0;34m)\u001b[0m\u001b[0;34m\u001b[0m\u001b[0;34m\u001b[0m\u001b[0m\n\u001b[0m\u001b[1;32m   1149\u001b[0m \u001b[0;34m\u001b[0m\u001b[0m\n\u001b[1;32m   1150\u001b[0m \u001b[0;34m\u001b[0m\u001b[0m\n",
      "\u001b[0;32m~/anaconda3/lib/python3.7/site-packages/sklearn/model_selection/_search.py\u001b[0m in \u001b[0;36mevaluate_candidates\u001b[0;34m(candidate_params)\u001b[0m\n\u001b[1;32m    664\u001b[0m                                \u001b[0;32mfor\u001b[0m \u001b[0mparameters\u001b[0m\u001b[0;34m,\u001b[0m \u001b[0;34m(\u001b[0m\u001b[0mtrain\u001b[0m\u001b[0;34m,\u001b[0m \u001b[0mtest\u001b[0m\u001b[0;34m)\u001b[0m\u001b[0;34m\u001b[0m\u001b[0;34m\u001b[0m\u001b[0m\n\u001b[1;32m    665\u001b[0m                                in product(candidate_params,\n\u001b[0;32m--> 666\u001b[0;31m                                           cv.split(X, y, groups)))\n\u001b[0m\u001b[1;32m    667\u001b[0m \u001b[0;34m\u001b[0m\u001b[0m\n\u001b[1;32m    668\u001b[0m                 \u001b[0;32mif\u001b[0m \u001b[0mlen\u001b[0m\u001b[0;34m(\u001b[0m\u001b[0mout\u001b[0m\u001b[0;34m)\u001b[0m \u001b[0;34m<\u001b[0m \u001b[0;36m1\u001b[0m\u001b[0;34m:\u001b[0m\u001b[0;34m\u001b[0m\u001b[0;34m\u001b[0m\u001b[0m\n",
      "\u001b[0;32m~/anaconda3/lib/python3.7/site-packages/joblib/parallel.py\u001b[0m in \u001b[0;36m__call__\u001b[0;34m(self, iterable)\u001b[0m\n\u001b[1;32m    922\u001b[0m                 \u001b[0mself\u001b[0m\u001b[0;34m.\u001b[0m\u001b[0m_iterating\u001b[0m \u001b[0;34m=\u001b[0m \u001b[0mself\u001b[0m\u001b[0;34m.\u001b[0m\u001b[0m_original_iterator\u001b[0m \u001b[0;32mis\u001b[0m \u001b[0;32mnot\u001b[0m \u001b[0;32mNone\u001b[0m\u001b[0;34m\u001b[0m\u001b[0;34m\u001b[0m\u001b[0m\n\u001b[1;32m    923\u001b[0m \u001b[0;34m\u001b[0m\u001b[0m\n\u001b[0;32m--> 924\u001b[0;31m             \u001b[0;32mwhile\u001b[0m \u001b[0mself\u001b[0m\u001b[0;34m.\u001b[0m\u001b[0mdispatch_one_batch\u001b[0m\u001b[0;34m(\u001b[0m\u001b[0miterator\u001b[0m\u001b[0;34m)\u001b[0m\u001b[0;34m:\u001b[0m\u001b[0;34m\u001b[0m\u001b[0;34m\u001b[0m\u001b[0m\n\u001b[0m\u001b[1;32m    925\u001b[0m                 \u001b[0;32mpass\u001b[0m\u001b[0;34m\u001b[0m\u001b[0;34m\u001b[0m\u001b[0m\n\u001b[1;32m    926\u001b[0m \u001b[0;34m\u001b[0m\u001b[0m\n",
      "\u001b[0;32m~/anaconda3/lib/python3.7/site-packages/joblib/parallel.py\u001b[0m in \u001b[0;36mdispatch_one_batch\u001b[0;34m(self, iterator)\u001b[0m\n\u001b[1;32m    757\u001b[0m                 \u001b[0;32mreturn\u001b[0m \u001b[0;32mFalse\u001b[0m\u001b[0;34m\u001b[0m\u001b[0;34m\u001b[0m\u001b[0m\n\u001b[1;32m    758\u001b[0m             \u001b[0;32melse\u001b[0m\u001b[0;34m:\u001b[0m\u001b[0;34m\u001b[0m\u001b[0;34m\u001b[0m\u001b[0m\n\u001b[0;32m--> 759\u001b[0;31m                 \u001b[0mself\u001b[0m\u001b[0;34m.\u001b[0m\u001b[0m_dispatch\u001b[0m\u001b[0;34m(\u001b[0m\u001b[0mtasks\u001b[0m\u001b[0;34m)\u001b[0m\u001b[0;34m\u001b[0m\u001b[0;34m\u001b[0m\u001b[0m\n\u001b[0m\u001b[1;32m    760\u001b[0m                 \u001b[0;32mreturn\u001b[0m \u001b[0;32mTrue\u001b[0m\u001b[0;34m\u001b[0m\u001b[0;34m\u001b[0m\u001b[0m\n\u001b[1;32m    761\u001b[0m \u001b[0;34m\u001b[0m\u001b[0m\n",
      "\u001b[0;32m~/anaconda3/lib/python3.7/site-packages/joblib/parallel.py\u001b[0m in \u001b[0;36m_dispatch\u001b[0;34m(self, batch)\u001b[0m\n\u001b[1;32m    714\u001b[0m         \u001b[0;32mwith\u001b[0m \u001b[0mself\u001b[0m\u001b[0;34m.\u001b[0m\u001b[0m_lock\u001b[0m\u001b[0;34m:\u001b[0m\u001b[0;34m\u001b[0m\u001b[0;34m\u001b[0m\u001b[0m\n\u001b[1;32m    715\u001b[0m             \u001b[0mjob_idx\u001b[0m \u001b[0;34m=\u001b[0m \u001b[0mlen\u001b[0m\u001b[0;34m(\u001b[0m\u001b[0mself\u001b[0m\u001b[0;34m.\u001b[0m\u001b[0m_jobs\u001b[0m\u001b[0;34m)\u001b[0m\u001b[0;34m\u001b[0m\u001b[0;34m\u001b[0m\u001b[0m\n\u001b[0;32m--> 716\u001b[0;31m             \u001b[0mjob\u001b[0m \u001b[0;34m=\u001b[0m \u001b[0mself\u001b[0m\u001b[0;34m.\u001b[0m\u001b[0m_backend\u001b[0m\u001b[0;34m.\u001b[0m\u001b[0mapply_async\u001b[0m\u001b[0;34m(\u001b[0m\u001b[0mbatch\u001b[0m\u001b[0;34m,\u001b[0m \u001b[0mcallback\u001b[0m\u001b[0;34m=\u001b[0m\u001b[0mcb\u001b[0m\u001b[0;34m)\u001b[0m\u001b[0;34m\u001b[0m\u001b[0;34m\u001b[0m\u001b[0m\n\u001b[0m\u001b[1;32m    717\u001b[0m             \u001b[0;31m# A job can complete so quickly than its callback is\u001b[0m\u001b[0;34m\u001b[0m\u001b[0;34m\u001b[0m\u001b[0;34m\u001b[0m\u001b[0m\n\u001b[1;32m    718\u001b[0m             \u001b[0;31m# called before we get here, causing self._jobs to\u001b[0m\u001b[0;34m\u001b[0m\u001b[0;34m\u001b[0m\u001b[0;34m\u001b[0m\u001b[0m\n",
      "\u001b[0;32m~/anaconda3/lib/python3.7/site-packages/joblib/_parallel_backends.py\u001b[0m in \u001b[0;36mapply_async\u001b[0;34m(self, func, callback)\u001b[0m\n\u001b[1;32m    180\u001b[0m     \u001b[0;32mdef\u001b[0m \u001b[0mapply_async\u001b[0m\u001b[0;34m(\u001b[0m\u001b[0mself\u001b[0m\u001b[0;34m,\u001b[0m \u001b[0mfunc\u001b[0m\u001b[0;34m,\u001b[0m \u001b[0mcallback\u001b[0m\u001b[0;34m=\u001b[0m\u001b[0;32mNone\u001b[0m\u001b[0;34m)\u001b[0m\u001b[0;34m:\u001b[0m\u001b[0;34m\u001b[0m\u001b[0;34m\u001b[0m\u001b[0m\n\u001b[1;32m    181\u001b[0m         \u001b[0;34m\"\"\"Schedule a func to be run\"\"\"\u001b[0m\u001b[0;34m\u001b[0m\u001b[0;34m\u001b[0m\u001b[0m\n\u001b[0;32m--> 182\u001b[0;31m         \u001b[0mresult\u001b[0m \u001b[0;34m=\u001b[0m \u001b[0mImmediateResult\u001b[0m\u001b[0;34m(\u001b[0m\u001b[0mfunc\u001b[0m\u001b[0;34m)\u001b[0m\u001b[0;34m\u001b[0m\u001b[0;34m\u001b[0m\u001b[0m\n\u001b[0m\u001b[1;32m    183\u001b[0m         \u001b[0;32mif\u001b[0m \u001b[0mcallback\u001b[0m\u001b[0;34m:\u001b[0m\u001b[0;34m\u001b[0m\u001b[0;34m\u001b[0m\u001b[0m\n\u001b[1;32m    184\u001b[0m             \u001b[0mcallback\u001b[0m\u001b[0;34m(\u001b[0m\u001b[0mresult\u001b[0m\u001b[0;34m)\u001b[0m\u001b[0;34m\u001b[0m\u001b[0;34m\u001b[0m\u001b[0m\n",
      "\u001b[0;32m~/anaconda3/lib/python3.7/site-packages/joblib/_parallel_backends.py\u001b[0m in \u001b[0;36m__init__\u001b[0;34m(self, batch)\u001b[0m\n\u001b[1;32m    547\u001b[0m         \u001b[0;31m# Don't delay the application, to avoid keeping the input\u001b[0m\u001b[0;34m\u001b[0m\u001b[0;34m\u001b[0m\u001b[0;34m\u001b[0m\u001b[0m\n\u001b[1;32m    548\u001b[0m         \u001b[0;31m# arguments in memory\u001b[0m\u001b[0;34m\u001b[0m\u001b[0;34m\u001b[0m\u001b[0;34m\u001b[0m\u001b[0m\n\u001b[0;32m--> 549\u001b[0;31m         \u001b[0mself\u001b[0m\u001b[0;34m.\u001b[0m\u001b[0mresults\u001b[0m \u001b[0;34m=\u001b[0m \u001b[0mbatch\u001b[0m\u001b[0;34m(\u001b[0m\u001b[0;34m)\u001b[0m\u001b[0;34m\u001b[0m\u001b[0;34m\u001b[0m\u001b[0m\n\u001b[0m\u001b[1;32m    550\u001b[0m \u001b[0;34m\u001b[0m\u001b[0m\n\u001b[1;32m    551\u001b[0m     \u001b[0;32mdef\u001b[0m \u001b[0mget\u001b[0m\u001b[0;34m(\u001b[0m\u001b[0mself\u001b[0m\u001b[0;34m)\u001b[0m\u001b[0;34m:\u001b[0m\u001b[0;34m\u001b[0m\u001b[0;34m\u001b[0m\u001b[0m\n",
      "\u001b[0;32m~/anaconda3/lib/python3.7/site-packages/joblib/parallel.py\u001b[0m in \u001b[0;36m__call__\u001b[0;34m(self)\u001b[0m\n\u001b[1;32m    223\u001b[0m         \u001b[0;32mwith\u001b[0m \u001b[0mparallel_backend\u001b[0m\u001b[0;34m(\u001b[0m\u001b[0mself\u001b[0m\u001b[0;34m.\u001b[0m\u001b[0m_backend\u001b[0m\u001b[0;34m,\u001b[0m \u001b[0mn_jobs\u001b[0m\u001b[0;34m=\u001b[0m\u001b[0mself\u001b[0m\u001b[0;34m.\u001b[0m\u001b[0m_n_jobs\u001b[0m\u001b[0;34m)\u001b[0m\u001b[0;34m:\u001b[0m\u001b[0;34m\u001b[0m\u001b[0;34m\u001b[0m\u001b[0m\n\u001b[1;32m    224\u001b[0m             return [func(*args, **kwargs)\n\u001b[0;32m--> 225\u001b[0;31m                     for func, args, kwargs in self.items]\n\u001b[0m\u001b[1;32m    226\u001b[0m \u001b[0;34m\u001b[0m\u001b[0m\n\u001b[1;32m    227\u001b[0m     \u001b[0;32mdef\u001b[0m \u001b[0m__len__\u001b[0m\u001b[0;34m(\u001b[0m\u001b[0mself\u001b[0m\u001b[0;34m)\u001b[0m\u001b[0;34m:\u001b[0m\u001b[0;34m\u001b[0m\u001b[0;34m\u001b[0m\u001b[0m\n",
      "\u001b[0;32m~/anaconda3/lib/python3.7/site-packages/joblib/parallel.py\u001b[0m in \u001b[0;36m<listcomp>\u001b[0;34m(.0)\u001b[0m\n\u001b[1;32m    223\u001b[0m         \u001b[0;32mwith\u001b[0m \u001b[0mparallel_backend\u001b[0m\u001b[0;34m(\u001b[0m\u001b[0mself\u001b[0m\u001b[0;34m.\u001b[0m\u001b[0m_backend\u001b[0m\u001b[0;34m,\u001b[0m \u001b[0mn_jobs\u001b[0m\u001b[0;34m=\u001b[0m\u001b[0mself\u001b[0m\u001b[0;34m.\u001b[0m\u001b[0m_n_jobs\u001b[0m\u001b[0;34m)\u001b[0m\u001b[0;34m:\u001b[0m\u001b[0;34m\u001b[0m\u001b[0;34m\u001b[0m\u001b[0m\n\u001b[1;32m    224\u001b[0m             return [func(*args, **kwargs)\n\u001b[0;32m--> 225\u001b[0;31m                     for func, args, kwargs in self.items]\n\u001b[0m\u001b[1;32m    226\u001b[0m \u001b[0;34m\u001b[0m\u001b[0m\n\u001b[1;32m    227\u001b[0m     \u001b[0;32mdef\u001b[0m \u001b[0m__len__\u001b[0m\u001b[0;34m(\u001b[0m\u001b[0mself\u001b[0m\u001b[0;34m)\u001b[0m\u001b[0;34m:\u001b[0m\u001b[0;34m\u001b[0m\u001b[0;34m\u001b[0m\u001b[0m\n",
      "\u001b[0;32m~/anaconda3/lib/python3.7/site-packages/sklearn/model_selection/_validation.py\u001b[0m in \u001b[0;36m_fit_and_score\u001b[0;34m(estimator, X, y, scorer, train, test, verbose, parameters, fit_params, return_train_score, return_parameters, return_n_test_samples, return_times, return_estimator, error_score)\u001b[0m\n\u001b[1;32m    512\u001b[0m             \u001b[0mestimator\u001b[0m\u001b[0;34m.\u001b[0m\u001b[0mfit\u001b[0m\u001b[0;34m(\u001b[0m\u001b[0mX_train\u001b[0m\u001b[0;34m,\u001b[0m \u001b[0;34m**\u001b[0m\u001b[0mfit_params\u001b[0m\u001b[0;34m)\u001b[0m\u001b[0;34m\u001b[0m\u001b[0;34m\u001b[0m\u001b[0m\n\u001b[1;32m    513\u001b[0m         \u001b[0;32melse\u001b[0m\u001b[0;34m:\u001b[0m\u001b[0;34m\u001b[0m\u001b[0;34m\u001b[0m\u001b[0m\n\u001b[0;32m--> 514\u001b[0;31m             \u001b[0mestimator\u001b[0m\u001b[0;34m.\u001b[0m\u001b[0mfit\u001b[0m\u001b[0;34m(\u001b[0m\u001b[0mX_train\u001b[0m\u001b[0;34m,\u001b[0m \u001b[0my_train\u001b[0m\u001b[0;34m,\u001b[0m \u001b[0;34m**\u001b[0m\u001b[0mfit_params\u001b[0m\u001b[0;34m)\u001b[0m\u001b[0;34m\u001b[0m\u001b[0;34m\u001b[0m\u001b[0m\n\u001b[0m\u001b[1;32m    515\u001b[0m \u001b[0;34m\u001b[0m\u001b[0m\n\u001b[1;32m    516\u001b[0m     \u001b[0;32mexcept\u001b[0m \u001b[0mException\u001b[0m \u001b[0;32mas\u001b[0m \u001b[0me\u001b[0m\u001b[0;34m:\u001b[0m\u001b[0;34m\u001b[0m\u001b[0;34m\u001b[0m\u001b[0m\n",
      "\u001b[0;32m~/anaconda3/lib/python3.7/site-packages/sklearn/svm/base.py\u001b[0m in \u001b[0;36mfit\u001b[0;34m(self, X, y, sample_weight)\u001b[0m\n\u001b[1;32m    207\u001b[0m \u001b[0;34m\u001b[0m\u001b[0m\n\u001b[1;32m    208\u001b[0m         \u001b[0mseed\u001b[0m \u001b[0;34m=\u001b[0m \u001b[0mrnd\u001b[0m\u001b[0;34m.\u001b[0m\u001b[0mrandint\u001b[0m\u001b[0;34m(\u001b[0m\u001b[0mnp\u001b[0m\u001b[0;34m.\u001b[0m\u001b[0miinfo\u001b[0m\u001b[0;34m(\u001b[0m\u001b[0;34m'i'\u001b[0m\u001b[0;34m)\u001b[0m\u001b[0;34m.\u001b[0m\u001b[0mmax\u001b[0m\u001b[0;34m)\u001b[0m\u001b[0;34m\u001b[0m\u001b[0;34m\u001b[0m\u001b[0m\n\u001b[0;32m--> 209\u001b[0;31m         \u001b[0mfit\u001b[0m\u001b[0;34m(\u001b[0m\u001b[0mX\u001b[0m\u001b[0;34m,\u001b[0m \u001b[0my\u001b[0m\u001b[0;34m,\u001b[0m \u001b[0msample_weight\u001b[0m\u001b[0;34m,\u001b[0m \u001b[0msolver_type\u001b[0m\u001b[0;34m,\u001b[0m \u001b[0mkernel\u001b[0m\u001b[0;34m,\u001b[0m \u001b[0mrandom_seed\u001b[0m\u001b[0;34m=\u001b[0m\u001b[0mseed\u001b[0m\u001b[0;34m)\u001b[0m\u001b[0;34m\u001b[0m\u001b[0;34m\u001b[0m\u001b[0m\n\u001b[0m\u001b[1;32m    210\u001b[0m         \u001b[0;31m# see comment on the other call to np.iinfo in this file\u001b[0m\u001b[0;34m\u001b[0m\u001b[0;34m\u001b[0m\u001b[0;34m\u001b[0m\u001b[0m\n\u001b[1;32m    211\u001b[0m \u001b[0;34m\u001b[0m\u001b[0m\n",
      "\u001b[0;32m~/anaconda3/lib/python3.7/site-packages/sklearn/svm/base.py\u001b[0m in \u001b[0;36m_dense_fit\u001b[0;34m(self, X, y, sample_weight, solver_type, kernel, random_seed)\u001b[0m\n\u001b[1;32m    266\u001b[0m                 \u001b[0mcache_size\u001b[0m\u001b[0;34m=\u001b[0m\u001b[0mself\u001b[0m\u001b[0;34m.\u001b[0m\u001b[0mcache_size\u001b[0m\u001b[0;34m,\u001b[0m \u001b[0mcoef0\u001b[0m\u001b[0;34m=\u001b[0m\u001b[0mself\u001b[0m\u001b[0;34m.\u001b[0m\u001b[0mcoef0\u001b[0m\u001b[0;34m,\u001b[0m\u001b[0;34m\u001b[0m\u001b[0;34m\u001b[0m\u001b[0m\n\u001b[1;32m    267\u001b[0m                 \u001b[0mgamma\u001b[0m\u001b[0;34m=\u001b[0m\u001b[0mself\u001b[0m\u001b[0;34m.\u001b[0m\u001b[0m_gamma\u001b[0m\u001b[0;34m,\u001b[0m \u001b[0mepsilon\u001b[0m\u001b[0;34m=\u001b[0m\u001b[0mself\u001b[0m\u001b[0;34m.\u001b[0m\u001b[0mepsilon\u001b[0m\u001b[0;34m,\u001b[0m\u001b[0;34m\u001b[0m\u001b[0;34m\u001b[0m\u001b[0m\n\u001b[0;32m--> 268\u001b[0;31m                 max_iter=self.max_iter, random_seed=random_seed)\n\u001b[0m\u001b[1;32m    269\u001b[0m \u001b[0;34m\u001b[0m\u001b[0m\n\u001b[1;32m    270\u001b[0m         \u001b[0mself\u001b[0m\u001b[0;34m.\u001b[0m\u001b[0m_warn_from_fit_status\u001b[0m\u001b[0;34m(\u001b[0m\u001b[0;34m)\u001b[0m\u001b[0;34m\u001b[0m\u001b[0;34m\u001b[0m\u001b[0m\n",
      "\u001b[0;31mKeyboardInterrupt\u001b[0m: "
     ]
    }
   ],
   "source": [
    "svc_param_selection(bow_with_features, y, 5)"
   ]
  },
  {
   "cell_type": "code",
   "execution_count": 722,
   "metadata": {},
   "outputs": [
    {
     "data": {
      "text/plain": [
       "0.7306122448979592"
      ]
     },
     "execution_count": 722,
     "metadata": {},
     "output_type": "execute_result"
    }
   ],
   "source": [
    "smote = SVC(kernel='rbf', C=10, gamma=0.01,random_state=10).fit(X_train,y_train)\n",
    "smote_pred = smote.predict(X_test)\n",
    "\n",
    "# Checking accuracy\n",
    "accuracy_score(y_test, smote_pred)"
   ]
  },
  {
   "cell_type": "code",
   "execution_count": 723,
   "metadata": {},
   "outputs": [
    {
     "name": "stdout",
     "output_type": "stream",
     "text": [
      "[[51 12  2]\n",
      " [13 32 26]\n",
      " [ 1 12 96]]\n",
      "                     precision    recall  f1-score   support\n",
      "\n",
      " Large (16 - 32 in)       0.78      0.78      0.78        65\n",
      " Medium (9 - 16 in)       0.57      0.45      0.50        71\n",
      "   Small (5 - 9 in)       0.77      0.88      0.82       109\n",
      "\n",
      "           accuracy                           0.73       245\n",
      "          macro avg       0.71      0.71      0.70       245\n",
      "       weighted avg       0.72      0.73      0.72       245\n",
      "\n",
      "The accuracy score is 0.7306122448979592\n"
     ]
    }
   ],
   "source": [
    "print(confusion_matrix(y_test, smote_pred))\n",
    "print(classification_report(y_test,smote_pred))\n",
    "print(\"The accuracy score is\" + \" \"+ str(accuracy_score(y_test, smote_pred)))"
   ]
  },
  {
   "cell_type": "code",
   "execution_count": 734,
   "metadata": {},
   "outputs": [],
   "source": [
    "def svc_randomizedsearchCV(X, y, nfolds):\n",
    "    degrees = [2,3,4,5]\n",
    "    kernels = ['rbf','poly']\n",
    "    Cs = [0.001, 0.01, 0.1, 1, 10]\n",
    "    gammas = [0.001, 0.01, 0.1, 1]\n",
    "    param_grid = {'C': Cs, 'gamma' : gammas, 'kernel': kernels, 'degree': degrees}\n",
    "    grid_search = RandomizedSearchCV(svm.SVC(), param_grid, cv=nfolds, n_jobs=-1)\n",
    "    grid_search.fit(X, y)\n",
    "    grid_search.best_params_\n",
    "    return grid_search.best_params_"
   ]
  },
  {
   "cell_type": "code",
   "execution_count": 735,
   "metadata": {},
   "outputs": [
    {
     "data": {
      "text/plain": [
       "{'kernel': 'poly', 'gamma': 1, 'degree': 2, 'C': 0.01}"
      ]
     },
     "execution_count": 735,
     "metadata": {},
     "output_type": "execute_result"
    }
   ],
   "source": [
    "svc_randomizedsearchCV(bow_with_features,y,5)"
   ]
  },
  {
   "cell_type": "code",
   "execution_count": 754,
   "metadata": {},
   "outputs": [],
   "source": [
    "smote = SVC(kernel='rbf', C=1, gamma=0.01, degree=5,random_state=10).fit(X_train,y_train)\n",
    "smote_pred = smote.predict(X_test)"
   ]
  },
  {
   "cell_type": "code",
   "execution_count": 755,
   "metadata": {},
   "outputs": [
    {
     "data": {
      "text/plain": [
       "array([0.79365079, 0.58490566, 0.76744186])"
      ]
     },
     "execution_count": 755,
     "metadata": {},
     "output_type": "execute_result"
    }
   ],
   "source": [
    "precision_score(y_test, smote_pred,average=None)"
   ]
  },
  {
   "cell_type": "code",
   "execution_count": 756,
   "metadata": {},
   "outputs": [
    {
     "name": "stdout",
     "output_type": "stream",
     "text": [
      "[[50 13  2]\n",
      " [12 31 28]\n",
      " [ 1  9 99]]\n",
      "                     precision    recall  f1-score   support\n",
      "\n",
      " Large (16 - 32 in)       0.79      0.77      0.78        65\n",
      " Medium (9 - 16 in)       0.58      0.44      0.50        71\n",
      "   Small (5 - 9 in)       0.77      0.91      0.83       109\n",
      "\n",
      "           accuracy                           0.73       245\n",
      "          macro avg       0.72      0.70      0.70       245\n",
      "       weighted avg       0.72      0.73      0.72       245\n",
      "\n",
      "The accuracy score is 0.7346938775510204\n"
     ]
    }
   ],
   "source": [
    "print(confusion_matrix(y_test, smote_pred))\n",
    "print(classification_report(y_test,smote_pred)) \n",
    "print(\"The accuracy score is\" + \" \"+ str(accuracy_score(y_test, smote_pred)))"
   ]
  },
  {
   "cell_type": "markdown",
   "metadata": {},
   "source": [
    "**BEST MODEL  ^^^^^**"
   ]
  },
  {
   "cell_type": "markdown",
   "metadata": {},
   "source": [
    "# Attempting Better Score Using Principle Component Analysis\n"
   ]
  },
  {
   "cell_type": "code",
   "execution_count": 538,
   "metadata": {},
   "outputs": [],
   "source": [
    "X = bow_with_features\n",
    "y = (df1['Size'])\n",
    "\n",
    "X_train,X_test, y_train,y_test = train_test_split(X,y,test_size = 0.3,random_state=10)"
   ]
  },
  {
   "cell_type": "code",
   "execution_count": 478,
   "metadata": {},
   "outputs": [],
   "source": [
    "pca = PCA()\n",
    "transformed = pca.fit_transform(X)\n",
    "\n",
    "# Your code here \n",
    "\n",
    "first_two_comp = (transformed[:,0], transformed[:,1]);"
   ]
  },
  {
   "cell_type": "code",
   "execution_count": 479,
   "metadata": {
    "scrolled": true
   },
   "outputs": [
    {
     "data": {
      "image/png": "[encoded data removed]",
      "text/plain": [
       "<Figure size 432x288 with 1 Axes>"
      ]
     },
     "metadata": {},
     "output_type": "display_data"
    }
   ],
   "source": [
    "plt.scatter(transformed[:,0], transformed[:,1]);"
   ]
  },
  {
   "cell_type": "code",
   "execution_count": 480,
   "metadata": {},
   "outputs": [
    {
     "data": {
      "text/plain": [
       "array([[ 0.03615488,  0.00626905,  0.00374305, ...,  0.00059026,\n",
       "         0.0004335 , -0.00312162],\n",
       "       [ 0.00626905,  0.03780391, -0.00034924, ...,  0.00018773,\n",
       "         0.00125791, -0.00229525],\n",
       "       [ 0.00374305, -0.00034924,  0.02292258, ..., -0.00233838,\n",
       "        -0.00372542, -0.0023643 ],\n",
       "       ...,\n",
       "       [ 0.00059026,  0.00018773, -0.00233838, ...,  0.02645058,\n",
       "        -0.00196197, -0.00183126],\n",
       "       [ 0.0004335 ,  0.00125791, -0.00372542, ..., -0.00196197,\n",
       "         0.0421065 ,  0.00292587],\n",
       "       [-0.00312162, -0.00229525, -0.0023643 , ..., -0.00183126,\n",
       "         0.00292587,  0.02516942]])"
      ]
     },
     "execution_count": 480,
     "metadata": {},
     "output_type": "execute_result"
    }
   ],
   "source": [
    "cov = np.cov(transformed)"
   ]
  },
  {
   "cell_type": "code",
   "execution_count": 481,
   "metadata": {},
   "outputs": [],
   "source": [
    "eigen_value, eigen_vector = np.linalg.eig(cov)"
   ]
  },
  {
   "cell_type": "code",
   "execution_count": 482,
   "metadata": {},
   "outputs": [],
   "source": [
    "e_indices = np.argsort(eigen_value)[::-1] #Get the index values of the sorted eigenvalues\n",
    "eigenvectors_sorted = eigen_vector[:,e_indices]"
   ]
  },
  {
   "cell_type": "code",
   "execution_count": 483,
   "metadata": {},
   "outputs": [
    {
     "data": {
      "text/plain": [
       "array([[-1.56844305+0.02003691j, -0.33711334+0.02003691j,\n",
       "        -1.43072285+0.02003691j, ..., -0.41433232+0.02003691j,\n",
       "        -0.67127222+0.02003691j, -0.23285208+0.02003691j],\n",
       "       [-0.07362514+0.06052449j,  0.19106085+0.06052449j,\n",
       "         0.42629408+0.06052449j, ..., -0.23879843+0.06052449j,\n",
       "        -0.40159658+0.06052449j,  1.58573903+0.06052449j],\n",
       "       [-0.0571983 +0.03842199j, -0.51588532+0.03842199j,\n",
       "         0.74838199+0.03842199j, ...,  1.0791471 +0.03842199j,\n",
       "         0.98407192+0.03842199j, -1.0287157 +0.03842199j],\n",
       "       [-0.62367361-0.05828554j, -0.68640537-0.05828554j,\n",
       "        -0.12398604-0.05828554j, ..., -0.19945926-0.05828554j,\n",
       "         0.34282461-0.05828554j,  0.18161854-0.05828554j],\n",
       "       [ 0.10998571-0.0014008j , -1.73048876-0.0014008j ,\n",
       "         0.58541881-0.0014008j , ..., -0.33847096-0.0014008j ,\n",
       "        -0.2963644 -0.0014008j ,  0.69045215-0.0014008j ]])"
      ]
     },
     "execution_count": 483,
     "metadata": {},
     "output_type": "execute_result"
    }
   ],
   "source": [
    "transformed = eigenvectors_sorted.dot(transformed).T"
   ]
  },
  {
   "cell_type": "code",
   "execution_count": 484,
   "metadata": {},
   "outputs": [],
   "source": [
    "pcs=pd.DataFrame(first_two_comp).T"
   ]
  },
  {
   "cell_type": "code",
   "execution_count": 487,
   "metadata": {
    "collapsed": true
   },
   "outputs": [
    {
     "name": "stdout",
     "output_type": "stream",
     "text": [
      "Variance of each component: [6.22500654e-02 4.05656124e-02 3.85501061e-02 2.75046607e-02\n",
      " 2.46004373e-02 2.31763528e-02 2.04719491e-02 1.62398418e-02\n",
      " 1.46289104e-02 1.37767455e-02 1.33382109e-02 1.26105281e-02\n",
      " 1.11430197e-02 1.04688475e-02 1.02853021e-02 9.41727278e-03\n",
      " 9.01665687e-03 8.92724218e-03 8.57330188e-03 8.44268638e-03\n",
      " 8.19616165e-03 7.96998555e-03 7.73051627e-03 7.15020368e-03\n",
      " 7.04927261e-03 6.90533854e-03 6.74844042e-03 6.48260771e-03\n",
      " 6.16416457e-03 5.98079310e-03 5.90596549e-03 5.75391919e-03\n",
      " 5.50733658e-03 5.46669397e-03 5.09500430e-03 5.00699691e-03\n",
      " 4.94890655e-03 4.76758029e-03 4.67269978e-03 4.56666751e-03\n",
      " 4.49002026e-03 4.36540647e-03 4.23451451e-03 4.19575209e-03\n",
      " 4.13665806e-03 4.03237501e-03 3.93978520e-03 3.86877960e-03\n",
      " 3.81437987e-03 3.78531810e-03 3.77556783e-03 3.69188130e-03\n",
      " 3.65916942e-03 3.57328041e-03 3.45051412e-03 3.43117215e-03\n",
      " 3.36255106e-03 3.34444004e-03 3.22142829e-03 3.17704003e-03\n",
      " 3.13073592e-03 3.07523678e-03 3.04350201e-03 3.03649456e-03\n",
      " 2.96870642e-03 2.91244879e-03 2.89605564e-03 2.82589517e-03\n",
      " 2.74285198e-03 2.70544840e-03 2.67303014e-03 2.66006444e-03\n",
      " 2.64221613e-03 2.61237942e-03 2.57538288e-03 2.50212546e-03\n",
      " 2.48070433e-03 2.45757270e-03 2.42767927e-03 2.40314235e-03\n",
      " 2.36275131e-03 2.32480035e-03 2.30947473e-03 2.28050875e-03\n",
      " 2.24889380e-03 2.21739930e-03 2.17191486e-03 2.16715170e-03\n",
      " 2.15644265e-03 2.12892052e-03 2.09995502e-03 2.05601387e-03\n",
      " 2.03715836e-03 2.02282784e-03 1.99175119e-03 1.97803827e-03\n",
      " 1.96293317e-03 1.91673145e-03 1.89984942e-03 1.88887049e-03\n",
      " 1.86755550e-03 1.85291641e-03 1.82789021e-03 1.79729599e-03\n",
      " 1.78216955e-03 1.77082711e-03 1.75351195e-03 1.73133979e-03\n",
      " 1.71740129e-03 1.69652545e-03 1.69340782e-03 1.64248894e-03\n",
      " 1.63977203e-03 1.62336306e-03 1.61209676e-03 1.60431959e-03\n",
      " 1.58036018e-03 1.57450546e-03 1.55351837e-03 1.54220011e-03\n",
      " 1.53386499e-03 1.51977784e-03 1.50578823e-03 1.48630240e-03\n",
      " 1.48300686e-03 1.45755567e-03 1.44476730e-03 1.43344540e-03\n",
      " 1.41738118e-03 1.40732745e-03 1.39922857e-03 1.38393109e-03\n",
      " 1.36673663e-03 1.35879846e-03 1.35340731e-03 1.34057768e-03\n",
      " 1.33545260e-03 1.32909306e-03 1.31334306e-03 1.30215310e-03\n",
      " 1.29554341e-03 1.28266954e-03 1.27872804e-03 1.27368508e-03\n",
      " 1.25257271e-03 1.24504151e-03 1.23264964e-03 1.21942494e-03\n",
      " 1.20997958e-03 1.20621731e-03 1.20082692e-03 1.19216838e-03\n",
      " 1.17039346e-03 1.16169285e-03 1.15903100e-03 1.15410529e-03\n",
      " 1.14447594e-03 1.13223925e-03 1.12656502e-03 1.11597078e-03\n",
      " 1.10800712e-03 1.09165597e-03 1.08702501e-03 1.08020393e-03\n",
      " 1.07365825e-03 1.06928496e-03 1.06392126e-03 1.06148131e-03\n",
      " 1.05199377e-03 1.05022805e-03 1.04265778e-03 1.03756839e-03\n",
      " 1.03302517e-03 1.01738807e-03 1.01158745e-03 1.00222262e-03\n",
      " 9.97231172e-04 9.90242444e-04 9.86121430e-04 9.79972351e-04\n",
      " 9.73506207e-04 9.66710093e-04 9.60493693e-04 9.50640418e-04\n",
      " 9.45220010e-04 9.34943559e-04 9.32182866e-04 9.29541920e-04\n",
      " 9.27164904e-04 9.22520476e-04 9.16983814e-04 9.10485182e-04\n",
      " 9.08274746e-04 9.06588408e-04 8.97135374e-04 8.90627610e-04\n",
      " 8.89712741e-04 8.83312050e-04 8.77769183e-04 8.73092125e-04\n",
      " 8.65075569e-04 8.63464109e-04 8.61035551e-04 8.57222154e-04\n",
      " 8.54191805e-04 8.50179249e-04 8.42475567e-04 8.40881823e-04\n",
      " 8.35274017e-04 8.28600433e-04 8.25772291e-04 8.21249273e-04\n",
      " 8.19296342e-04 8.15888870e-04 8.07042185e-04 8.03056366e-04\n",
      " 7.99469490e-04 7.95645162e-04 7.94490251e-04 7.86911474e-04\n",
      " 7.82711387e-04 7.78920465e-04 7.75053996e-04 7.68883550e-04\n",
      " 7.68716653e-04 7.64417983e-04 7.58770388e-04 7.57946431e-04\n",
      " 7.54666605e-04 7.52646127e-04 7.49492230e-04 7.46796805e-04\n",
      " 7.40296545e-04 7.36852857e-04 7.35690541e-04 7.32048339e-04\n",
      " 7.27609166e-04 7.26203815e-04 7.19517273e-04 7.16295328e-04\n",
      " 7.13909352e-04 7.07732745e-04 7.06351031e-04 7.05156598e-04\n",
      " 7.01583033e-04 6.98393027e-04 6.93904059e-04 6.89090792e-04\n",
      " 6.87271658e-04 6.84273762e-04 6.82738726e-04 6.80252452e-04\n",
      " 6.76439069e-04 6.74236980e-04 6.72249610e-04 6.68552502e-04\n",
      " 6.65454379e-04 6.60475771e-04 6.59916009e-04 6.59260316e-04\n",
      " 6.56348300e-04 6.53313593e-04 6.51514669e-04 6.50020927e-04\n",
      " 6.44521333e-04 6.42938299e-04 6.42057629e-04 6.37497889e-04\n",
      " 6.35657473e-04 6.32069291e-04 6.30366981e-04 6.26339789e-04\n",
      " 6.24014557e-04 6.21614549e-04 6.19487936e-04 6.17767552e-04\n",
      " 6.14869778e-04 6.09245966e-04 6.08302377e-04 6.06539693e-04\n",
      " 6.04936733e-04 6.02151835e-04 5.97506554e-04 5.96098799e-04\n",
      " 5.93195872e-04 5.91272142e-04 5.90932135e-04 5.86634248e-04\n",
      " 5.84799972e-04 5.83279828e-04 5.80230807e-04 5.77999220e-04\n",
      " 5.75380789e-04 5.72705562e-04 5.71171171e-04 5.68352850e-04\n",
      " 5.67202932e-04 5.66266425e-04 5.64931524e-04 5.64325627e-04\n",
      " 5.61727421e-04 5.58759812e-04 5.55957944e-04 5.51951985e-04\n",
      " 5.50943087e-04 5.48451881e-04 5.48331568e-04 5.42583761e-04\n",
      " 5.41302393e-04 5.40161812e-04 5.38720553e-04 5.36556287e-04\n",
      " 5.35493565e-04 5.34349060e-04 5.34055539e-04 5.28750761e-04\n",
      " 5.27553246e-04 5.24256077e-04 5.22012044e-04 5.20600588e-04\n",
      " 5.18803373e-04 5.16721574e-04 5.15691766e-04 5.14015456e-04\n",
      " 5.12633996e-04 5.11542150e-04 5.09807574e-04 5.09091654e-04\n",
      " 5.05937583e-04 5.04676976e-04 5.01537777e-04 5.00178227e-04\n",
      " 4.98657058e-04 4.96289605e-04 4.96039379e-04 4.94060222e-04\n",
      " 4.91500800e-04 4.89281259e-04 4.88304276e-04 4.86506053e-04\n",
      " 4.84906993e-04 4.83667649e-04 4.80056504e-04 4.79790228e-04\n",
      " 4.77975959e-04 4.76849693e-04 4.74955658e-04 4.71937380e-04\n",
      " 4.71107652e-04 4.70176860e-04 4.68560722e-04 4.66151096e-04\n",
      " 4.65129538e-04 4.62468639e-04 4.60714143e-04 4.59567332e-04\n",
      " 4.57675142e-04 4.55438631e-04 4.54822322e-04 4.53456704e-04\n",
      " 4.52722211e-04 4.50590142e-04 4.48713204e-04 4.47369927e-04\n",
      " 4.45965905e-04 4.44978446e-04 4.43375317e-04 4.41577308e-04\n",
      " 4.40346775e-04 4.38784641e-04 4.38385587e-04 4.36575052e-04\n",
      " 4.35226424e-04 4.33993660e-04 4.31116762e-04 4.30009135e-04\n",
      " 4.29188153e-04 4.28642156e-04 4.26217543e-04 4.25837178e-04\n",
      " 4.24048631e-04 4.23039867e-04 4.21014947e-04 4.20836061e-04\n",
      " 4.19479808e-04 4.17848881e-04 4.16648740e-04 4.14889214e-04\n",
      " 4.13631539e-04 4.12563367e-04 4.12282741e-04 4.10230822e-04\n",
      " 4.07728577e-04 4.06941746e-04 4.06306714e-04 4.04711483e-04\n",
      " 4.03239816e-04 4.01752181e-04 4.01027466e-04 3.99684676e-04\n",
      " 3.98120199e-04 3.96185420e-04 3.94989929e-04 3.93158010e-04\n",
      " 3.92564842e-04 3.91531181e-04 3.91160607e-04 3.89842191e-04\n",
      " 3.88783582e-04 3.87928441e-04 3.86316510e-04 3.85198209e-04\n",
      " 3.83757616e-04 3.81630568e-04 3.81334193e-04 3.80696773e-04\n",
      " 3.78407877e-04 3.77405700e-04 3.76299795e-04 3.74402998e-04\n",
      " 3.73712065e-04 3.73009125e-04 3.72195402e-04 3.68574444e-04\n",
      " 3.67509523e-04 3.66024325e-04 3.65689072e-04 3.64265476e-04\n",
      " 3.63119841e-04 3.62240870e-04 3.61057565e-04 3.60557779e-04\n",
      " 3.58617469e-04 3.56659246e-04 3.56103465e-04 3.55234135e-04\n",
      " 3.53870238e-04 3.52887629e-04 3.52328334e-04 3.51092323e-04\n",
      " 3.50156527e-04 3.49055841e-04 3.47809504e-04 3.47051593e-04\n",
      " 3.45370488e-04 3.44022496e-04 3.41674151e-04 3.40555591e-04\n",
      " 3.39838591e-04 3.38360806e-04 3.37502349e-04 3.37114661e-04\n",
      " 3.36183444e-04 3.35530417e-04 3.33173031e-04 3.32200917e-04\n",
      " 3.31843894e-04 3.30940190e-04 3.29722593e-04 3.28590320e-04\n",
      " 3.26969320e-04 3.26327048e-04 3.25193687e-04 3.24742653e-04\n",
      " 3.24039967e-04 3.23065662e-04 3.22096357e-04 3.20585479e-04\n",
      " 3.20194772e-04 3.19029675e-04 3.16836227e-04 3.15735588e-04\n",
      " 3.15167619e-04 3.14790259e-04 3.14008623e-04 3.12238035e-04\n",
      " 3.10177544e-04 3.09426837e-04 3.08629874e-04 3.06910017e-04\n",
      " 3.05632248e-04 3.05024537e-04 3.04259515e-04 3.03710670e-04\n",
      " 3.02241031e-04 3.01961968e-04 3.01337226e-04 2.98939343e-04\n",
      " 2.97780661e-04 2.96132786e-04 2.94898016e-04 2.93779368e-04\n",
      " 2.92084630e-04 2.91750894e-04 2.90431388e-04 2.89163701e-04\n",
      " 2.88762863e-04 2.88002858e-04 2.86832253e-04 2.85061565e-04\n",
      " 2.84962507e-04 2.84406434e-04 2.83786568e-04 2.82903023e-04\n",
      " 2.81674247e-04 2.81225146e-04 2.79703853e-04 2.78768949e-04\n",
      " 2.77345215e-04 2.76695582e-04 2.76335487e-04 2.74817152e-04\n",
      " 2.74618604e-04 2.72645197e-04 2.71783282e-04 2.71050819e-04\n",
      " 2.69472149e-04 2.68365518e-04 2.67752221e-04 2.66983022e-04\n",
      " 2.66784210e-04 2.66182740e-04 2.65594883e-04 2.63969987e-04\n",
      " 2.63218345e-04 2.62401801e-04 2.60612629e-04 2.60234091e-04\n",
      " 2.59094823e-04 2.57730819e-04 2.56953352e-04 2.56229044e-04\n",
      " 2.55946779e-04 2.55494572e-04 2.53943492e-04 2.52440690e-04\n",
      " 2.52130708e-04 2.50920446e-04 2.49929367e-04 2.48456105e-04\n",
      " 2.47609861e-04 2.46855142e-04 2.45892182e-04 2.44319274e-04\n",
      " 2.44059020e-04 2.43497341e-04 2.42158470e-04 2.41518366e-04\n",
      " 2.40913547e-04 2.39954754e-04 2.38458464e-04 2.37654240e-04\n",
      " 2.36796396e-04 2.35933479e-04 2.34463313e-04 2.34289000e-04\n",
      " 2.33105361e-04 2.32040427e-04 2.31738525e-04 2.30542333e-04\n",
      " 2.30117281e-04 2.29669357e-04 2.27907912e-04 2.27423595e-04\n",
      " 2.26427004e-04 2.25598535e-04 2.24781796e-04 2.24672396e-04\n",
      " 2.22993344e-04 2.22415205e-04 2.22300271e-04 2.20497982e-04\n",
      " 2.19573042e-04 2.18859435e-04 2.18471257e-04 2.17636039e-04\n",
      " 2.17092971e-04 2.15341903e-04 2.14336414e-04 2.13731260e-04\n",
      " 2.12631843e-04 2.11898367e-04 2.10205703e-04 2.09315080e-04\n",
      " 2.08715554e-04 2.08106300e-04 2.07360807e-04 2.06861396e-04\n",
      " 2.05833509e-04 2.05427505e-04 2.04186939e-04 2.03369457e-04\n",
      " 2.03024110e-04 2.02097847e-04 2.01109854e-04 1.99797322e-04\n",
      " 1.99107862e-04 1.98637338e-04 1.97649607e-04 1.97035943e-04\n",
      " 1.96806891e-04 1.96179542e-04 1.93963609e-04 1.93501753e-04\n",
      " 1.92825954e-04 1.92501680e-04 1.91539919e-04 1.90972706e-04\n",
      " 1.90145967e-04 1.87802745e-04 1.87221487e-04 1.86944350e-04\n",
      " 1.86526525e-04 1.86211446e-04 1.85506520e-04 1.84114972e-04\n",
      " 1.83866398e-04 1.83184564e-04 1.82069608e-04 1.81526310e-04\n",
      " 1.80484112e-04 1.79059043e-04 1.77697405e-04 1.77314815e-04\n",
      " 1.75774524e-04 1.74737288e-04 1.74223360e-04 1.73256891e-04\n",
      " 1.72439236e-04 1.71701563e-04 1.71084625e-04 1.70239899e-04\n",
      " 1.69800069e-04 1.69294444e-04 1.68326906e-04 1.66827351e-04\n",
      " 1.65510269e-04 1.65423692e-04 1.64519825e-04 1.63635025e-04\n",
      " 1.63032411e-04 1.62200587e-04 1.61925380e-04 1.60525713e-04\n",
      " 1.59632914e-04 1.59375897e-04 1.57939260e-04 1.56393445e-04\n",
      " 1.54753036e-04 1.54379310e-04 1.54128187e-04 1.53645565e-04\n",
      " 1.52227845e-04 1.51359624e-04 1.50923908e-04 1.49613886e-04\n",
      " 1.48775729e-04 1.48479032e-04 1.47441532e-04 1.47021193e-04\n",
      " 1.46658607e-04 1.44866634e-04 1.43781397e-04 1.43129358e-04\n",
      " 1.42190360e-04 1.41184909e-04 1.40458375e-04 1.39522939e-04\n",
      " 1.38303343e-04 1.37986722e-04 1.37646423e-04 1.36295187e-04\n",
      " 1.35529615e-04 1.34663737e-04 1.33579747e-04 1.33573025e-04\n",
      " 1.32724943e-04 1.32143244e-04 1.30270834e-04 1.29572845e-04\n",
      " 1.28677427e-04 1.28243327e-04 1.27701271e-04 1.26575189e-04\n",
      " 1.25892418e-04 1.25416042e-04 1.24733361e-04 1.23676244e-04\n",
      " 1.23560230e-04 1.22387061e-04 1.21265841e-04 1.20275172e-04\n",
      " 1.19358732e-04 1.17928137e-04 1.16148852e-04 1.15318649e-04\n",
      " 1.14397943e-04 1.14275831e-04 1.12015902e-04 1.11614449e-04\n",
      " 1.10900861e-04 1.09685242e-04 1.08822433e-04 1.08728147e-04\n",
      " 1.07892015e-04 1.06965257e-04 1.05367196e-04 1.04828878e-04\n",
      " 1.04059959e-04 1.02950999e-04 1.02254772e-04 1.00496665e-04\n",
      " 1.00374867e-04 9.96745372e-05 9.79054927e-05 9.78153910e-05\n",
      " 9.62839134e-05 9.53380392e-05 9.48490787e-05 9.43432452e-05\n",
      " 9.34389747e-05 9.32371834e-05 9.27447656e-05 9.17402439e-05\n",
      " 9.16313846e-05 8.93051606e-05 8.86165616e-05 8.77092811e-05\n",
      " 8.67124442e-05 8.55718780e-05 8.40656593e-05 8.37200256e-05\n",
      " 8.30316669e-05 8.21813675e-05 8.13872727e-05 8.04422028e-05\n",
      " 7.93964203e-05 7.76343033e-05 7.70905557e-05 7.65404745e-05\n",
      " 7.52956697e-05 7.44050932e-05 7.38180829e-05 7.31257239e-05\n",
      " 7.17665805e-05 7.10741621e-05 7.01492176e-05 6.91845755e-05\n",
      " 6.80997572e-05 6.72599893e-05 6.60439742e-05 6.52517665e-05\n",
      " 6.47547492e-05 6.25681671e-05 6.15395976e-05 6.07656420e-05\n",
      " 5.91533861e-05 5.77411536e-05 5.56000392e-05 5.43988041e-05\n",
      " 5.42652799e-05 5.11076301e-05 5.06961904e-05 4.88837823e-05\n",
      " 4.76740175e-05 4.69599645e-05 4.47797458e-05 4.28030471e-05\n",
      " 4.04027201e-05 4.00944462e-05 3.93924133e-05 3.60288743e-05\n",
      " 3.36771660e-05 3.27961298e-05 3.06730258e-05 2.90000758e-05\n",
      " 2.62147136e-05 2.30620319e-05 2.09293427e-05 1.32460786e-05\n",
      " 3.34758424e-06 4.50734353e-31 3.42382192e-31 5.31370022e-33\n",
      " 3.63454788e-34 2.36513970e-34 2.36513970e-34 2.36513970e-34\n",
      " 2.36513970e-34 2.36513970e-34 2.36513970e-34 2.36513970e-34\n",
      " 2.36513970e-34 2.36513970e-34 2.36513970e-34 2.36513970e-34\n",
      " 2.36513970e-34 2.36513970e-34 2.36513970e-34 2.36513970e-34\n",
      " 2.36513970e-34 2.36513970e-34 2.36513970e-34 2.36513970e-34\n",
      " 2.36513970e-34 2.36513970e-34 2.36513970e-34 2.36513970e-34\n",
      " 2.36513970e-34 2.36513970e-34 2.36513970e-34 6.51582002e-35\n",
      " 5.84733789e-35 5.55667252e-35 3.50804974e-35]\n",
      "\n",
      " Total Variance Explained: 100.0\n"
     ]
    }
   ],
   "source": [
    "print('Variance of each component:', pca.explained_variance_ratio_)\n",
    "print('\\n Total Variance Explained:', round(sum(list(pca.explained_variance_ratio_))*100, 2))"
   ]
  },
  {
   "cell_type": "code",
   "execution_count": 279,
   "metadata": {},
   "outputs": [
    {
     "name": "stdout",
     "output_type": "stream",
     "text": [
      "Accuracy: 0.5460122699386503\n",
      "Time Taken: 0.03277993202209473\n"
     ]
    }
   ],
   "source": [
    "X = pcs\n",
    "y = (df1['Size'])\n",
    "start = time.time()\n",
    "X_train, X_test, y_train, y_test = train_test_split(X, y, test_size=0.2, random_state=9)\n",
    "model = SVC(kernel='rbf', C=10, gamma=0.001, degree=4).fit(X_train,y_train)\n",
    "model.fit(X_train, Y_train)\n",
    "Yhat = model.predict(X_test)\n",
    "acc = metrics.accuracy_score(Yhat, Y_test)\n",
    "end = time.time()\n",
    "print(\"Accuracy:\",acc)\n",
    "print (\"Time Taken:\", end - start)"
   ]
  },
  {
   "cell_type": "markdown",
   "metadata": {},
   "source": [
    "**After playing around with the different eigenvalues, accuracy using PCA isn't as good as our SVC model**"
   ]
  },
  {
   "cell_type": "markdown",
   "metadata": {},
   "source": [
    "# Some Classification Evaluation! // BEST MODEL: SMOTE SVC"
   ]
  },
  {
   "cell_type": "code",
   "execution_count": 314,
   "metadata": {},
   "outputs": [
    {
     "name": "stdout",
     "output_type": "stream",
     "text": [
      "Target Variable\n",
      "Size\n",
      " Large (16 - 32 in)    205\n",
      " Medium (9 - 16 in)    219\n",
      " Small (5 - 9 in)      391\n",
      "Name: Size, dtype: int64\n"
     ]
    },
    {
     "data": {
      "image/png": "[encoded data removed]",
      "text/plain": [
       "<Figure size 720x360 with 1 Axes>"
      ]
     },
     "metadata": {},
     "output_type": "display_data"
    }
   ],
   "source": [
    "# Survival Count\n",
    "print('Target Variable')\n",
    "print(df1.groupby(['Size']).Size.count())\n",
    "\n",
    "# Target Variable Countplot\n",
    "sns.set_style('darkgrid')\n",
    "plt.figure(figsize = (10,5))\n",
    "sns.countplot(df1['Size'], alpha =.80, palette= ['yellowgreen','lightgreen','darkgreen'])\n",
    "plt.title('Bird Sizes')\n",
    "plt.ylabel('# of Birds')\n",
    "plt.show()"
   ]
  },
  {
   "cell_type": "code",
   "execution_count": 370,
   "metadata": {},
   "outputs": [],
   "source": [
    "cm = confusion_matrix(y_test,smote_pred)\n",
    "classes = ['Small','Medium','Large']\n",
    "def plot_confusion_matrix(cm, classes,\n",
    "                          normalize=False,\n",
    "                          title='Confusion matrix',\n",
    "                          cmap=plt.cm.Blues):\n",
    "    \"\"\"\n",
    "    This function prints and plots the confusion matrix.\n",
    "    Normalization can be applied by setting `normalize=True`.\n",
    "    \"\"\"\n",
    "    if normalize:\n",
    "        cm = cm.astype('float') / cm.sum(axis=1)[:, np.newaxis]\n",
    "        print(\"Normalized confusion matrix\")\n",
    "    else:\n",
    "        print('Confusion Matrix, without normalization')\n",
    "\n",
    "    print(cm)\n",
    "\n",
    "    plt.imshow(cm, interpolation='nearest', cmap=cmap)\n",
    "    plt.title(title)\n",
    "    plt.colorbar()\n",
    "    tick_marks = np.arange(len(classes))\n",
    "    plt.xticks(tick_marks, classes, rotation=45)\n",
    "    plt.yticks(tick_marks, classes)\n",
    "\n",
    "    fmt = '.2f' if normalize else 'd'\n",
    "    thresh = cm.max() / 2.\n",
    "    for i, j in itertools.product(range(cm.shape[0]), range(cm.shape[1])):\n",
    "        plt.text(j, i, format(cm[i, j], fmt),\n",
    "                 horizontalalignment=\"center\",\n",
    "                 color=\"white\" if cm[i, j] > thresh else \"black\")\n",
    "\n",
    "    plt.tight_layout()\n",
    "    plt.ylabel('True label')\n",
    "    plt.xlabel('Predicted label')"
   ]
  },
  {
   "cell_type": "code",
   "execution_count": 641,
   "metadata": {},
   "outputs": [
    {
     "name": "stdout",
     "output_type": "stream",
     "text": [
      "Confusion Matrix, without normalization\n",
      "[[ 46  11   1]\n",
      " [ 14  34  18]\n",
      " [  5  15 101]]\n",
      "[0.34722222 0.35185185 0.45378151]\n"
     ]
    },
    {
     "data": {
      "image/png": "[encoded data removed]",
      "text/plain": [
       "<Figure size 432x288 with 2 Axes>"
      ]
     },
     "metadata": {},
     "output_type": "display_data"
    }
   ],
   "source": [
    "plot_confusion_matrix(cm, classes,\n",
    "                          normalize=False,\n",
    "                          title='Confusion matrix',\n",
    "                          cmap=plt.cm.Blues)\n",
    "print(precision_score(y_test, smote_pred,average=None))"
   ]
  },
  {
   "cell_type": "code",
   "execution_count": 377,
   "metadata": {},
   "outputs": [
    {
     "name": "stdout",
     "output_type": "stream",
     "text": [
      "True: [' Small (5 - 9 in)' ' Small (5 - 9 in)' ' Medium (9 - 16 in)'\n",
      " ' Large (16 - 32 in)' ' Small (5 - 9 in)' ' Medium (9 - 16 in)'\n",
      " ' Small (5 - 9 in)' ' Large (16 - 32 in)' ' Medium (9 - 16 in)'\n",
      " ' Medium (9 - 16 in)' ' Large (16 - 32 in)' ' Medium (9 - 16 in)'\n",
      " ' Small (5 - 9 in)' ' Small (5 - 9 in)' ' Medium (9 - 16 in)'\n",
      " ' Small (5 - 9 in)' ' Large (16 - 32 in)' ' Medium (9 - 16 in)'\n",
      " ' Medium (9 - 16 in)' ' Small (5 - 9 in)' ' Small (5 - 9 in)'\n",
      " ' Large (16 - 32 in)' ' Large (16 - 32 in)' ' Medium (9 - 16 in)'\n",
      " ' Small (5 - 9 in)']\n",
      "Pred: [' Small (5 - 9 in)' ' Small (5 - 9 in)' ' Medium (9 - 16 in)'\n",
      " ' Medium (9 - 16 in)' ' Small (5 - 9 in)' ' Small (5 - 9 in)'\n",
      " ' Medium (9 - 16 in)' ' Small (5 - 9 in)' ' Small (5 - 9 in)'\n",
      " ' Small (5 - 9 in)' ' Large (16 - 32 in)' ' Medium (9 - 16 in)'\n",
      " ' Small (5 - 9 in)' ' Small (5 - 9 in)' ' Medium (9 - 16 in)'\n",
      " ' Small (5 - 9 in)' ' Large (16 - 32 in)' ' Medium (9 - 16 in)'\n",
      " ' Small (5 - 9 in)' ' Small (5 - 9 in)' ' Small (5 - 9 in)'\n",
      " ' Large (16 - 32 in)' ' Large (16 - 32 in)' ' Small (5 - 9 in)'\n",
      " ' Small (5 - 9 in)']\n"
     ]
    }
   ],
   "source": [
    "# print the first 25 true and predicted responses\n",
    "print('True:', y_test.values[0:25])\n",
    "print('Pred:', smote_pred[0:25])"
   ]
  },
  {
   "cell_type": "code",
   "execution_count": 382,
   "metadata": {},
   "outputs": [
    {
     "name": "stdout",
     "output_type": "stream",
     "text": [
      "[0.70769231 0.56666667 0.84166667]\n"
     ]
    }
   ],
   "source": [
    "print(metrics.precision_score(y_test, smote_pred, average=None))\n",
    "print(metrics.recall_score(y_test, smote_pred, average=None))"
   ]
  },
  {
   "cell_type": "code",
   "execution_count": 390,
   "metadata": {},
   "outputs": [
    {
     "data": {
      "text/plain": [
       "array([0.74796748, 0.53968254, 0.83817427])"
      ]
     },
     "execution_count": 390,
     "metadata": {},
     "output_type": "execute_result"
    }
   ],
   "source": [
    "#calculating the F1 score\n",
    "2*(metrics.precision_score(y_test, smote_pred,average=None)*metrics.recall_score(y_test, smote_pred,average=None))/(metrics.precision_score(y_test, smote_pred,average=None)+metrics.recall_score(y_test, smote_pred,average=None))\n",
    "   "
   ]
  },
  {
   "cell_type": "code",
   "execution_count": 761,
   "metadata": {},
   "outputs": [
    {
     "name": "stderr",
     "output_type": "stream",
     "text": [
      "/Users/reuben/anaconda3/lib/python3.7/site-packages/sklearn/linear_model/logistic.py:432: FutureWarning: Default solver will be changed to 'lbfgs' in 0.22. Specify a solver to silence this warning.\n",
      "  FutureWarning)\n",
      "/Users/reuben/anaconda3/lib/python3.7/site-packages/sklearn/linear_model/logistic.py:469: FutureWarning: Default multi_class will be changed to 'auto' in 0.22. Specify the multi_class option to silence this warning.\n",
      "  \"this warning.\", FutureWarning)\n"
     ]
    },
    {
     "data": {
      "text/html": [
       "<div>\n",
       "<style scoped>\n",
       "    .dataframe tbody tr th:only-of-type {\n",
       "        vertical-align: middle;\n",
       "    }\n",
       "\n",
       "    .dataframe tbody tr th {\n",
       "        vertical-align: top;\n",
       "    }\n",
       "\n",
       "    .dataframe thead th {\n",
       "        text-align: right;\n",
       "    }\n",
       "</style>\n",
       "<table border=\"1\" class=\"dataframe\">\n",
       "  <thead>\n",
       "    <tr style=\"text-align: right;\">\n",
       "      <th></th>\n",
       "      <th>0</th>\n",
       "    </tr>\n",
       "  </thead>\n",
       "  <tbody>\n",
       "    <tr>\n",
       "      <th>recall</th>\n",
       "      <td>0.704702</td>\n",
       "    </tr>\n",
       "    <tr>\n",
       "      <th>precision</th>\n",
       "      <td>0.715333</td>\n",
       "    </tr>\n",
       "    <tr>\n",
       "      <th>F1</th>\n",
       "      <td>0.704394</td>\n",
       "    </tr>\n",
       "  </tbody>\n",
       "</table>\n",
       "</div>"
      ],
      "text/plain": [
       "                  0\n",
       "recall     0.704702\n",
       "precision  0.715333\n",
       "F1         0.704394"
      ]
     },
     "execution_count": 761,
     "metadata": {},
     "output_type": "execute_result"
    }
   ],
   "source": [
    "from sklearn.linear_model import LogisticRegression\n",
    "logreg = LogisticRegression()\n",
    "logreg.fit(X_train, y_train)\n",
    "THRESHOLD = 0.5\n",
    "preds = np.where(logreg.predict_proba(X_test)[:,1] > THRESHOLD, 1, 0)\n",
    "\n",
    "pd.DataFrame(data=[np.mean(metrics.recall_score(y_test, smote_pred,average=None)),\n",
    "                   np.mean(metrics.precision_score(y_test, smote_pred,average=None)), np.mean(metrics.f1_score(y_test, smote_pred,average=None))], \n",
    "             index=[\"recall\", \"precision\", \"F1\"])"
   ]
  },
  {
   "cell_type": "code",
   "execution_count": 795,
   "metadata": {},
   "outputs": [
    {
     "data": {
      "text/plain": [
       "Text(0, 0.5, 'Frequency')"
      ]
     },
     "execution_count": 795,
     "metadata": {},
     "output_type": "execute_result"
    },
    {
     "data": {
      "image/png": "[encoded data removed]",
      "text/plain": [
       "<Figure size 432x288 with 1 Axes>"
      ]
     },
     "metadata": {},
     "output_type": "display_data"
    }
   ],
   "source": [
    "y_pred_prob = logreg.predict_proba(X_test)[:, 2]\n",
    "plt.hist(y_pred_prob, bins=8)\n",
    "plt.xlim(0, 1)\n",
    "plt.title('Histogram of Predicted Probabilities')\n",
    "plt.xlabel('Predicted Probability of Bird Being Medium')\n",
    "plt.ylabel('Frequency')"
   ]
  },
  {
   "cell_type": "markdown",
   "metadata": {},
   "source": [
    "## AdaBoost"
   ]
  },
  {
   "cell_type": "code",
   "execution_count": 453,
   "metadata": {},
   "outputs": [
    {
     "name": "stdout",
     "output_type": "stream",
     "text": [
      "Mean Cross Validation Score for AdaBoost: 65.03%\n"
     ]
    }
   ],
   "source": [
    "adaboost_clf = AdaBoostClassifier()\n",
    "adaboost_mean_cv_score = np.mean(cross_val_score(adaboost_clf, X, y, cv=3))\n",
    "print(\"Mean Cross Validation Score for AdaBoost: {:.4}%\".format(adaboost_mean_cv_score * 100))"
   ]
  },
  {
   "cell_type": "code",
   "execution_count": 455,
   "metadata": {},
   "outputs": [],
   "source": [
    "adaboost_param_grid = {\n",
    "    'n_estimators': [50,100,250, 500],\n",
    "    'learning_rate': [1.0, 0.5, 0.1]\n",
    "}"
   ]
  },
  {
   "cell_type": "code",
   "execution_count": 456,
   "metadata": {},
   "outputs": [
    {
     "name": "stdout",
     "output_type": "stream",
     "text": [
      "Testing Accuracy: 66.38%\n",
      "Total Runtime for Grid Search on AdaBoost: 1.033e+04 seconds\n",
      "\n",
      "Optimal Parameters: {'learning_rate': 1.0, 'n_estimators': 250}\n"
     ]
    }
   ],
   "source": [
    "adaboost_grid_search = GridSearchCV(adaboost_clf, adaboost_param_grid, cv=3)\n",
    "adaboost_grid_search.fit(X, y)\n",
    "print(\"Testing Accuracy: {:.4}%\".format(adaboost_grid_search.best_score_ * 100))\n",
    "print(\"Total Runtime for Grid Search on AdaBoost: {:.4} seconds\".format(time.time() - start))\n",
    "print(\"\")\n",
    "print(\"Optimal Parameters: {}\".format(adaboost_grid_search.best_params_))"
   ]
  },
  {
   "cell_type": "code",
   "execution_count": 462,
   "metadata": {},
   "outputs": [
    {
     "data": {
      "text/plain": [
       "GradientBoostingClassifier(criterion='friedman_mse', init=None,\n",
       "                           learning_rate=0.1, loss='deviance', max_depth=3,\n",
       "                           max_features=None, max_leaf_nodes=None,\n",
       "                           min_impurity_decrease=0.0, min_impurity_split=None,\n",
       "                           min_samples_leaf=1, min_samples_split=2,\n",
       "                           min_weight_fraction_leaf=0.0, n_estimators=100,\n",
       "                           n_iter_no_change=None, presort='auto',\n",
       "                           random_state=None, subsample=1.0, tol=0.0001,\n",
       "                           validation_fraction=0.1, verbose=0,\n",
       "                           warm_start=False)"
      ]
     },
     "execution_count": 462,
     "metadata": {},
     "output_type": "execute_result"
    }
   ],
   "source": [
    "gbt_clf = GradientBoostingClassifier()\n",
    "gbt_clf.fit(X_train, y_train)\n"
   ]
  },
  {
   "cell_type": "code",
   "execution_count": 464,
   "metadata": {},
   "outputs": [],
   "source": [
    "gbt_clf_train_preds = gbt_clf.predict(X_train)\n",
    "gbt_clf_test_preds = gbt_clf.predict(X_test)"
   ]
  },
  {
   "cell_type": "code",
   "execution_count": 468,
   "metadata": {},
   "outputs": [
    {
     "name": "stdout",
     "output_type": "stream",
     "text": [
      "Model: Gradient Boosted Trees\n",
      "Accuracy: 0.9912280701754386\n",
      "F1-Score: 0.9912100456895858\n",
      "\n",
      "Model: Gradient Boosted Trees\n",
      "Accuracy: 0.7510204081632653\n",
      "F1-Score: 0.7454922179043959\n"
     ]
    }
   ],
   "source": [
    "def display_acc_and_f1_score(true, preds, model_name):\n",
    "    acc = accuracy_score(true, preds)\n",
    "    f1 = f1_score(true, preds, average='weighted')\n",
    "    print(\"Model: {}\".format(model_name))\n",
    "    print(\"Accuracy: {}\".format(acc))\n",
    "    print(\"F1-Score: {}\".format(f1))\n",
    "    \n",
    "\n",
    "display_acc_and_f1_score(y_train, gbt_clf_train_preds, model_name='Gradient Boosted Trees')\n",
    "print(\"\")\n",
    "display_acc_and_f1_score(y_test, gbt_clf_test_preds, model_name='Gradient Boosted Trees')"
   ]
  },
  {
   "cell_type": "code",
   "execution_count": 470,
   "metadata": {},
   "outputs": [
    {
     "name": "stdout",
     "output_type": "stream",
     "text": [
      "[[ 45  13   6]\n",
      " [ 10  28  19]\n",
      " [  3  10 111]]\n",
      "                     precision    recall  f1-score   support\n",
      "\n",
      " Large (16 - 32 in)       0.78      0.70      0.74        64\n",
      " Medium (9 - 16 in)       0.55      0.49      0.52        57\n",
      "   Small (5 - 9 in)       0.82      0.90      0.85       124\n",
      "\n",
      "           accuracy                           0.75       245\n",
      "          macro avg       0.71      0.70      0.70       245\n",
      "       weighted avg       0.74      0.75      0.75       245\n",
      "\n"
     ]
    }
   ],
   "source": [
    "gbt_confusion_matrix = confusion_matrix(y_test, gbt_clf_test_preds)\n",
    "print(gbt_confusion_matrix)\n",
    "gbt_classification_report = classification_report(y_test, gbt_clf_test_preds)\n",
    "print(gbt_classification_report)\n",
    "\n"
   ]
  },
  {
   "cell_type": "code",
   "execution_count": 471,
   "metadata": {},
   "outputs": [
    {
     "name": "stdout",
     "output_type": "stream",
     "text": [
      "Mean GBT Cross-Val Score (k=5):\n",
      "0.7423722066123184\n"
     ]
    }
   ],
   "source": [
    "print('Mean GBT Cross-Val Score (k=5):')\n",
    "print(cross_val_score(gbt_clf, X, y, cv=5).mean())"
   ]
  },
  {
   "cell_type": "markdown",
   "metadata": {},
   "source": [
    "## XG Boost"
   ]
  },
  {
   "cell_type": "code",
   "execution_count": null,
   "metadata": {},
   "outputs": [],
   "source": []
  },
  {
   "cell_type": "code",
   "execution_count": 637,
   "metadata": {},
   "outputs": [],
   "source": [
    "X = bow_with_features\n",
    "y = (df1['Size'])\n",
    "X.columns = X.columns.astype(str)\n",
    "X.columns = X.columns.str.replace(' ', '_')\n",
    "X_train,X_test, y_train,y_test = train_test_split(X,y,test_size = 0.3,random_state=10)"
   ]
  },
  {
   "cell_type": "code",
   "execution_count": 420,
   "metadata": {},
   "outputs": [],
   "source": [
    "xgb_param_grid = {\n",
    "    \"learning_rate\": [0.1],\n",
    "    'max_depth': [6],\n",
    "    'min_child_weight': [10],\n",
    "    'subsample': [ 0.7],\n",
    "    'n_estimators': [5, 30, 100, 250],\n",
    "}"
   ]
  },
  {
   "cell_type": "code",
   "execution_count": 583,
   "metadata": {
    "scrolled": true
   },
   "outputs": [
    {
     "data": {
      "text/plain": [
       "XGBClassifier(base_score=0.5, booster='gbtree', colsample_bylevel=1,\n",
       "              colsample_bynode=1, colsample_bytree=1, gamma=0,\n",
       "              learning_rate=0.1, max_delta_step=0, max_depth=3,\n",
       "              min_child_weight=1, missing=None, n_estimators=100, n_jobs=1,\n",
       "              nthread=None, objective='multi:softprob', random_state=0,\n",
       "              reg_alpha=0, reg_lambda=1, scale_pos_weight=1, seed=None,\n",
       "              silent=None, subsample=1, verbosity=1)"
      ]
     },
     "execution_count": 583,
     "metadata": {},
     "output_type": "execute_result"
    }
   ],
   "source": [
    "clfX=XGBClassifier()\n",
    "clfX.fit(X_train, y_train)"
   ]
  },
  {
   "cell_type": "code",
   "execution_count": 500,
   "metadata": {
    "scrolled": true
   },
   "outputs": [
    {
     "name": "stdout",
     "output_type": "stream",
     "text": [
      "Grid Search found the following optimal parameters: \n",
      "learning_rate: 0.1\n",
      "max_depth: 6\n",
      "min_child_weight: 10\n",
      "n_estimators: 250\n",
      "subsample: 0.7\n",
      "\n",
      "Training Accuracy: 92.98%\n",
      "Validation accuracy: 95.92%\n",
      "Testing Accuracy(Best Score): 72.39%\n"
     ]
    }
   ],
   "source": [
    "grid_clf = GridSearchCV(clfX, xgb_param_grid, scoring='accuracy', cv=5, n_jobs=1)\n",
    "grid_clf.fit(bow_with_features, y)\n",
    "best_parameters = grid_clf.best_params_\n",
    "print(\"Grid Search found the following optimal parameters: \")\n",
    "for param_name in sorted(best_parameters.keys()):\n",
    "    print(\"%s: %r\" % (param_name, best_parameters[param_name]))\n",
    "training_preds = grid_clf.predict(X_train)\n",
    "val_preds = grid_clf.predict(X_test)\n",
    "training_accuracy = accuracy_score(y_train, training_preds)\n",
    "val_accuracy = accuracy_score(y_test, val_preds)\n",
    "print(\"\")\n",
    "print(\"Training Accuracy: {:.4}%\".format(training_accuracy * 100))\n",
    "print(\"Validation accuracy: {:.4}%\".format(val_accuracy * 100))\n",
    "print(\"Testing Accuracy(Best Score): {:.4}%\".format(grid_clf.best_score_ * 100))\n"
   ]
  },
  {
   "cell_type": "code",
   "execution_count": 617,
   "metadata": {},
   "outputs": [],
   "source": [
    "def plot_feature_importances(model):\n",
    "    n_features = X_train.shape[1]\n",
    "    plt.figure(figsize=(13,10))\n",
    "    plt.barh(range(n_features), model.feature_importances_, align='center') \n",
    "    plt.yticks(np.arange(n_features), X_train.columns.values) \n",
    "    plt.xlabel(\"Feature importance\")\n",
    "    plt.ylabel(\"Feature\")"
   ]
  },
  {
   "cell_type": "code",
   "execution_count": 633,
   "metadata": {},
   "outputs": [
    {
     "data": {
      "image/png": "[encoded data removed]",
      "text/plain": [
       "<Figure size 432x288 with 1 Axes>"
      ]
     },
     "metadata": {},
     "output_type": "display_data"
    }
   ],
   "source": [
    "from xgboost import plot_importance\n",
    "plot_importance(clfX,max_num_features=20);"
   ]
  },
  {
   "cell_type": "code",
   "execution_count": 609,
   "metadata": {},
   "outputs": [
    {
     "data": {
      "image/png": "[encoded data removed]",
      "text/plain": [
       "<Figure size 7200x4320 with 1 Axes>"
      ]
     },
     "metadata": {},
     "output_type": "display_data"
    }
   ],
   "source": [
    "plot_tree(clfX, num_trees=1)\n",
    "fig = plt.gcf()\n",
    "fig.set_size_inches(100, 60)"
   ]
  }
 ],
 "metadata": {
  "kernelspec": {
   "display_name": "Python 3",
   "language": "python",
   "name": "python3"
  },
  "language_info": {
   "codemirror_mode": {
    "name": "ipython",
    "version": 3
   },
   "file_extension": ".py",
   "mimetype": "text/x-python",
   "name": "python",
   "nbconvert_exporter": "python",
   "pygments_lexer": "ipython3",
   "version": "3.7.3"
  },
  "toc": {
   "base_numbering": 1,
   "nav_menu": {},
   "number_sections": true,
   "sideBar": true,
   "skip_h1_title": false,
   "title_cell": "Table of Contents",
   "title_sidebar": "Contents",
   "toc_cell": false,
   "toc_position": {
    "height": "calc(100% - 180px)",
    "left": "10px",
    "top": "150px",
    "width": "256px"
   },
   "toc_section_display": true,
   "toc_window_display": true
  }
 },
 "nbformat": 4,
 "nbformat_minor": 2
}
