{
 "cells": [
  {
   "cell_type": "markdown",
   "metadata": {},
   "source": [
    "**Importing Required Libraries**"
   ]
  },
  {
   "cell_type": "code",
   "execution_count": null,
   "metadata": {},
   "outputs": [],
   "source": [
    "%%capture\n",
    "from tqdm import tqdm_notebook as tqdm\n",
    "tqdm().pandas()\n",
    "\n",
    "import config\n",
    "import mysql.connector\n",
    "from mysql.connector import errorcode\n",
    "\n",
    "import requests\n",
    "import pydotplus\n",
    "import itertools\n",
    "import numpy as np\n",
    "import pandas as pd\n",
    "import seaborn as sns\n",
    "import matplotlib.pyplot as plt\n",
    "\n",
    "from xgboost import plot_tree\n",
    "from xgboost.sklearn import XGBClassifier\n",
    "\n",
    "from scipy.sparse import csr_matrix\n",
    "from imblearn.over_sampling import SMOTE\n",
    "\n",
    "from time import time\n",
    "import xgboost as xgb\n",
    "from sklearn.svm import SVC  \n",
    "from sklearn import tree, metrics, svm, datasets\n",
    "from IPython.display import Image\n",
    "from sklearn.externals.six import StringIO\n",
    "from sklearn.multiclass import OneVsRestClassifier\n",
    "from sklearn.feature_extraction.text import CountVectorizer\n",
    "from sklearn.preprocessing import OneHotEncoder, label_binarize\n",
    "from sklearn.tree import export_graphviz, DecisionTreeClassifier\n",
    "from sklearn.ensemble import BaggingClassifier, RandomForestClassifier, AdaBoostClassifier, GradientBoostingClassifier\n",
    "from sklearn.model_selection import train_test_split, GridSearchCV, cross_val_score, RandomizedSearchCV\n",
    "from sklearn.metrics import accuracy_score, classification_report, confusion_matrix, mean_squared_error, average_precision_score, precision_score, f1_score\n",
    "from sklearn.decomposition import PCA\n",
    "\n",
    "from bs4 import BeautifulSoup\n",
    "from selenium import webdriver\n",
    "from selenium.webdriver.common.by import By\n",
    "from selenium.webdriver.common.keys import Keys\n",
    "from selenium.common.exceptions import TimeoutException\n",
    "from selenium.webdriver.support.ui import WebDriverWait\n",
    "from selenium.webdriver.support import expected_conditions as EC"
   ]
  },
  {
   "cell_type": "markdown",
   "metadata": {},
   "source": [
    "# Collecting Relevant Data"
   ]
  },
  {
   "cell_type": "markdown",
   "metadata": {},
   "source": [
    "## Webscraping"
   ]
  },
  {
   "cell_type": "code",
   "execution_count": null,
   "metadata": {},
   "outputs": [],
   "source": [
    "driver = webdriver.Chrome()\n",
    "driver.get('https://www.whatbird.com/browse/attributes.aspx')\n",
    "location_table = driver.find_element_by_class_name('BrowseTable')\n",
    "links = location_table.find_elements_by_css_selector(\"a\")\n",
    "\n",
    "bird_families = [] \n",
    "bird_chars = []\n",
    "for i in tqdm(range(1, len(links))):\n",
    "    locale = driver.find_element_by_class_name('BrowseTable').find_elements_by_css_selector(\"a\")[i]\n",
    "    locale.click()\n",
    "    landing_page = driver.current_url\n",
    "    for ind in tqdm(range(len(driver.find_elements_by_xpath(\"//*[contains(@class,'ObjectLink')]\")))):\n",
    "        location_page = driver.current_url\n",
    "        driver.find_elements_by_xpath(\"//*[contains(@class,'ObjectLink')]\")[ind].click()\n",
    "        driver.find_element_by_link_text('Identification').click()\n",
    "        bird_chars_table = driver.find_element_by_class_name('contentbg')\n",
    "        char_list = bird_chars_table.find_elements_by_css_selector('li')\n",
    "        bird_text = [driver.find_element_by_id('BirdName').text]\n",
    "        for i in char_list:\n",
    "            bird_text.append(i.text)\n",
    "\n",
    "        bird_chars.append(bird_text)\n",
    "        bird_families.append(driver.find_element_by_id(\"Family\").text)\n",
    "        driver.get(location_page)\n",
    "\n",
    "    driver.get('https://www.whatbird.com/browse/attributes.aspx')"
   ]
  },
  {
   "cell_type": "markdown",
   "metadata": {},
   "source": [
    "## Combining Scraped Data and Removing Duplicates"
   ]
  },
  {
   "cell_type": "code",
   "execution_count": null,
   "metadata": {},
   "outputs": [],
   "source": [
    "birds = []\n",
    "for elem in bird_chars:\n",
    "    if elem not in birds:\n",
    "        birds.append(elem)"
   ]
  },
  {
   "cell_type": "markdown",
   "metadata": {},
   "source": [
    "## Connecting to MySQL/Creating a Database"
   ]
  },
  {
   "cell_type": "code",
   "execution_count": null,
   "metadata": {},
   "outputs": [],
   "source": [
    "db_name = 'Bird_Classifier_Project'\n",
    "cnx = mysql.connector.connect(\n",
    "    host = config.host,\n",
    "    user = config.user,\n",
    "    passwd = config.pw\n",
    "\n",
    ")\n",
    "cur = cnx.cursor()"
   ]
  },
  {
   "cell_type": "code",
   "execution_count": null,
   "metadata": {},
   "outputs": [],
   "source": [
    "def create_database(cursor, database):\n",
    "    try:\n",
    "        cur.execute(\n",
    "            \"CREATE DATABASE {} DEFAULT CHARACTER SET 'utf8'\".format(database))\n",
    "    except mysql.connector.Error as err:\n",
    "        print(\"Failed creating database: {}\".format(err))\n",
    "        exit(1)\n",
    "\n",
    "try:\n",
    "    cur.execute(\"USE {}\".format(db_name))\n",
    "except mysql.connector.Error as err:\n",
    "    print(\"Database {} does not exists.\".format(db_name))\n",
    "    if err.errno == errorcode.ER_BAD_DB_ERROR:\n",
    "        create_database(cur, db_name)\n",
    "        print(\"Database {} created successfully.\".format(db_name))\n",
    "        cnx.database = db_name\n",
    "    else:\n",
    "        print(err)\n",
    "        exit(1)        "
   ]
  },
  {
   "cell_type": "code",
   "execution_count": null,
   "metadata": {},
   "outputs": [],
   "source": [
    "cur.execute(\"\"\"\n",
    "CREATE TABLE birds (\n",
    "Family VARCHAR(255),\n",
    "Name VARCHAR(255),\n",
    "Bill_Shape VARCHAR(255),\n",
    "Eye_Color VARCHAR(255),\n",
    "Head_Pattern VARCHAR(255),\n",
    "Crown_Color VARCHAR(255),\n",
    "Forehead_Color VARCHAR(255),\n",
    "Nape_Color VARCHAR(255),\n",
    "Throat_Color VARCHAR(255),\n",
    "Cere_Color VARCHAR(255),\n",
    "Length_Range VARCHAR(255),\n",
    "Weight VARCHAR(255),\n",
    "Size VARCHAR(255),\n",
    "Primary_Color VARCHAR(255),\n",
    "Underparts VARCHAR(255),\n",
    "Upperparts VARCHAR(255),\n",
    "Back_Pattern VARCHAR(255),\n",
    "Belly_Pattern VARCHAR(255),\n",
    "Breast_Pattern VARCHAR(255),\n",
    "Flight_Pattern VARCHAR(255),\n",
    "Wingspan VARCHAR(255),\n",
    "Wing_Shape VARCHAR(255),\n",
    "Tail_Shape VARCHAR(255),\n",
    "Tail_Pattern VARCHAR(255),\n",
    "Upper_Tail VARCHAR(255),\n",
    "Under_Tail VARCHAR(255),\n",
    "Leg_Color VARCHAR(255)\n",
    ")\n",
    "\"\"\")"
   ]
  },
  {
   "cell_type": "code",
   "execution_count": null,
   "metadata": {},
   "outputs": [],
   "source": [
    "cleaner_list = []\n",
    "for i in range(len(bird_chars)):\n",
    "    cleaner_list.append(tuple((bird_chars[1][0][0],bird_chars[i][1:])))"
   ]
  },
  {
   "cell_type": "code",
   "execution_count": null,
   "metadata": {},
   "outputs": [],
   "source": [
    "nested_lists = []\n",
    "for i in range(len(cleaner_list)):\n",
    "    nested_lists.append([clieaner_list[i][0]]+cleaner_list[i][1])"
   ]
  },
  {
   "cell_type": "code",
   "execution_count": null,
   "metadata": {},
   "outputs": [],
   "source": [
    "unique_birds = list(nested_lists for nested_lists,_ in itertools.groupby(nested_lists))"
   ]
  },
  {
   "cell_type": "code",
   "execution_count": null,
   "metadata": {},
   "outputs": [],
   "source": [
    "for i in unique_birds:\n",
    "    del i[0]"
   ]
  },
  {
   "cell_type": "code",
   "execution_count": null,
   "metadata": {},
   "outputs": [],
   "source": [
    "df = pd.DataFrame(unique_birds)\n",
    "df['Family'] = bird_families"
   ]
  },
  {
   "cell_type": "code",
   "execution_count": null,
   "metadata": {},
   "outputs": [],
   "source": [
    "df.to_csv('bird_dataset.csv')"
   ]
  },
  {
   "cell_type": "code",
   "execution_count": null,
   "metadata": {},
   "outputs": [],
   "source": [
    "df.drop_duplicates(subset =\"0\", \n",
    "                     keep = 'first', inplace = True) "
   ]
  },
  {
   "cell_type": "code",
   "execution_count": null,
   "metadata": {},
   "outputs": [],
   "source": [
    "df.columns = df.columns.astype(str)\n",
    "subset = df[['Family','0','1','2','3','4','5','6','7','8','9','10','11','12','13','14','15','16','17','18','19', '20', '21', '22', '23', '24', '25']]\n",
    "tuples = [tuple(x) for x in subset.values]"
   ]
  },
  {
   "cell_type": "code",
   "execution_count": null,
   "metadata": {},
   "outputs": [],
   "source": [
    "cnx = mysql.connector.connect(\n",
    "    host = config.host,\n",
    "    user = config.user,\n",
    "    passwd = config.pw,\n",
    "    database = db_name\n",
    ")\n",
    "cur = cnx.cursor()"
   ]
  },
  {
   "cell_type": "code",
   "execution_count": null,
   "metadata": {},
   "outputs": [],
   "source": [
    "for i in tqdm(tuples):\n",
    "    try:\n",
    "        stmt = \"\"\"INSERT INTO birds (Family, Name, Bill_Shape, Eye_Color, Head_Pattern, Crown_Color, Forehead_Color,\n",
    "        Nape_Color, Throat_Color, Cere_Color, Length_Range, Weight, Size, Primary_Color, Underparts, Upperparts, \n",
    "        Back_Pattern, Belly_Pattern, Breast_Pattern, Flight_Pattern, Wingspan, Wing_Shape, Tail_Shape, Tail_Pattern,\n",
    "        Upper_Tail, Under_Tail, Leg_Color) VALUES(%s,%s,%s,%s,%s,%s,%s,%s,%s,%s,%s,%s,%s,%s,%s,%s,%s,%s,%s,%s,%s,%s,%s,%s,%s,%s,%s)\n",
    "        \n",
    "        \"\"\"\n",
    "        cur.execute(stmt, (i))\n",
    "        cnx.commit()\n",
    "    except mysql.connector.Error as err:\n",
    "        print(err, i)"
   ]
  },
  {
   "cell_type": "code",
   "execution_count": null,
   "metadata": {},
   "outputs": [],
   "source": [
    "cur.execute(\"\"\"SELECT * FROM birds\"\"\")\n",
    "df1 = pd.DataFrame(cur.fetchall())\n",
    "df1.columns = [x[0] for x in cur.description]"
   ]
  },
  {
   "cell_type": "markdown",
   "metadata": {},
   "source": [
    "## Cleaning Up Columns"
   ]
  },
  {
   "cell_type": "code",
   "execution_count": null,
   "metadata": {},
   "outputs": [],
   "source": [
    "fams = list(df1.Family)\n",
    "\n",
    "new_fams = []\n",
    "for i in fams:\n",
    "    new_fams.append(i.split(\"(\"))\n",
    "\n",
    "real_fams = []\n",
    "for i in new_fams:\n",
    "    real_fams.append(i[1].split(\")\")[0])\n",
    "\n",
    "df1['Family'] = real_fams"
   ]
  },
  {
   "cell_type": "code",
   "execution_count": null,
   "metadata": {},
   "outputs": [],
   "source": [
    "df1.Eye_Color = df1.Eye_Color.str[11:]"
   ]
  },
  {
   "cell_type": "code",
   "execution_count": null,
   "metadata": {},
   "outputs": [],
   "source": [
    "df1 = df1[~df1.Bill_Shape.str.contains(\"Eye Color\")]\n",
    "df1 = df1[~df1.Eye_Color.str.contains(\"Eye Color\")]"
   ]
  },
  {
   "cell_type": "code",
   "execution_count": null,
   "metadata": {},
   "outputs": [],
   "source": [
    "### Removing redundant column label in each row ###\n",
    "\n",
    "df1.Bill_Shape = df1.Bill_Shape.str[12:]\n",
    "df1.Eye_Color = df1.Eye_Color.str[11:]\n",
    "df1.Head_Pattern = df1.Head_Pattern.str[14:]\n",
    "df1.Crown_Color = df1.Crown_Color.str[13:]\n",
    "df1.Forehead_Color = df1.Forehead_Color.str[16:]\n",
    "df1.Nape_Color = df1.Nape_Color.str[12:]\n",
    "df1.Throat_Color = df1.Throat_Color.str[14:]\n",
    "df1.Cere_Color = df1.Cere_Color.str[12:]\n",
    "df1.Length_Range = df1.Length_Range.str[14:]\n",
    "df1.Weight = df1.Weight.str[8:]\n",
    "df1.Size = df1.Size.str[5:]\n",
    "df1.Primary_Color = df1.Primary_Color.str[15:]\n",
    "df1.Underparts = df1.Underparts.str[12:]\n",
    "df1.Upperparts = df1.Upperparts.str[12:]\n",
    "df1.Back_Pattern = df1.Back_Pattern.str[14:]\n",
    "df1.Belly_Pattern = df1.Belly_Pattern.str[15:]\n",
    "df1.Breast_Pattern = df1.Breast_Pattern.str[16:]\n",
    "df1.Flight_Pattern = df1.Flight_Pattern.str[16:]\n",
    "df1.Wingspan = df1.Wingspan.str[10:]\n",
    "df1.Wing_Shape = df1.Wing_Shape.str[11:]\n",
    "df1.Tail_Shape = df1.Tail_Shape.str[12:]\n",
    "df1.Tail_Pattern = df1.Tail_Pattern.str[14:]\n",
    "df1.Upper_Tail = df1.Upper_Tail.str[12:]\n",
    "df1.Under_Tail = df1.Under_Tail.str[12:]\n",
    "df1.Leg_Color = df1.Leg_Color.str[11:]"
   ]
  },
  {
   "cell_type": "code",
   "execution_count": null,
   "metadata": {},
   "outputs": [],
   "source": [
    "df1 = df1.drop(columns=['Eye_Color'])"
   ]
  },
  {
   "cell_type": "markdown",
   "metadata": {},
   "source": [
    "# Training a Vanilla Classifier (Decision Tree)"
   ]
  },
  {
   "cell_type": "code",
   "execution_count": null,
   "metadata": {},
   "outputs": [],
   "source": [
    "X = pd.get_dummies(df1.drop(columns=['Family','Name','Size','Length_Range','Weight','Wingspan']))\n",
    "y = (df1['Family'])\n",
    "\n",
    "X_train,X_test, y_train,y_test = train_test_split(X,y,test_size = 0.3,random_state=10)"
   ]
  },
  {
   "cell_type": "code",
   "execution_count": null,
   "metadata": {},
   "outputs": [],
   "source": [
    "dtclass = DecisionTreeClassifier(criterion='entropy',random_state=10)\n",
    "dtclass.fit(X_train,y_train)"
   ]
  },
  {
   "cell_type": "code",
   "execution_count": null,
   "metadata": {},
   "outputs": [],
   "source": [
    "y_preds = dtclass.predict(X_test)\n"
   ]
  },
  {
   "cell_type": "code",
   "execution_count": null,
   "metadata": {
    "scrolled": true
   },
   "outputs": [],
   "source": [
    "# Calculate Accuracy \n",
    "acc = accuracy_score(y_test,y_preds)*100\n",
    "print(\"Accuracy score is {:.4}%\".format(acc))"
   ]
  },
  {
   "cell_type": "markdown",
   "metadata": {},
   "source": [
    "**Initial Testing Score of 59.18%. Nice!**"
   ]
  },
  {
   "cell_type": "code",
   "execution_count": null,
   "metadata": {},
   "outputs": [],
   "source": [
    "def performance(y_true, y_predict):\n",
    "    \"\"\" \n",
    "    Calculates and returns the performance score between \n",
    "    true and predicted values based on the metric chosen.\n",
    "    \"\"\"    \n",
    "    r2 = (metrics.r2_score(y_true,y_predict))\n",
    "    mse = metrics.mean_squared_error(y_true,y_predict)\n",
    "    return r2,mse\n",
    "performance(y_test,y_preds)"
   ]
  },
  {
   "cell_type": "markdown",
   "metadata": {},
   "source": [
    "# Bagged Tree"
   ]
  },
  {
   "cell_type": "code",
   "execution_count": null,
   "metadata": {},
   "outputs": [],
   "source": [
    "bagged_tree = BaggingClassifier(DecisionTreeClassifier(criterion='gini', max_depth=5,random_state=10),n_estimators=20,random_state=10)\n",
    "bagged_tree.fit(X_train,y_train)"
   ]
  },
  {
   "cell_type": "code",
   "execution_count": null,
   "metadata": {},
   "outputs": [],
   "source": [
    "print(bagged_tree.score(X_train,y_train))\n",
    "print(bagged_tree.score(X_test,y_test))"
   ]
  },
  {
   "cell_type": "markdown",
   "metadata": {},
   "source": [
    "# Random Forest"
   ]
  },
  {
   "cell_type": "markdown",
   "metadata": {},
   "source": [
    "## Vanilla Model"
   ]
  },
  {
   "cell_type": "code",
   "execution_count": null,
   "metadata": {},
   "outputs": [],
   "source": [
    "forest = RandomForestClassifier(n_estimators=100,max_depth=5,random_state=10)\n",
    "forest.fit(X_train,y_train)"
   ]
  },
  {
   "cell_type": "code",
   "execution_count": null,
   "metadata": {},
   "outputs": [],
   "source": [
    "print(forest.score(X_train,y_train))\n",
    "print(forest.score(X_test,y_test))"
   ]
  },
  {
   "cell_type": "code",
   "execution_count": null,
   "metadata": {
    "scrolled": false
   },
   "outputs": [],
   "source": [
    "dt_cv_score = cross_val_score(dtclass,X,y,cv=3)\n",
    "mean_dt_cv_score = np.mean(dt_cv_score)\n",
    "print(\"Mean Cross Validation Score: {:.4}%\".format(mean_dt_cv_score*100))"
   ]
  },
  {
   "cell_type": "markdown",
   "metadata": {},
   "source": [
    "## Gridsearching Random Forest"
   ]
  },
  {
   "cell_type": "code",
   "execution_count": null,
   "metadata": {},
   "outputs": [],
   "source": [
    "dt_param_grid = {\n",
    "    \"criterion\": [\"gini\", \"entropy\"],\n",
    "    \"max_depth\": [None, 2, 3, 4, 5, 6, 8, 10, 12, 14, 16 ,18, 20, 22, 24, 26, 28, 30, 32, 34],\n",
    "    \"min_samples_split\": [2, 5, 10],\n",
    "    \"min_samples_leaf\" : [1, 2, 3, 4, 5, 6]\n",
    "}\n",
    "dt_grid_search = GridSearchCV(dtclass,dt_param_grid,cv=3,return_train_score=True)\n",
    "\n",
    "dt_grid_search.fit(X, y)"
   ]
  },
  {
   "cell_type": "code",
   "execution_count": null,
   "metadata": {},
   "outputs": [],
   "source": [
    "dt_gs_training_score = dt_grid_search.cv_results_['mean_train_score']\n",
    "dt_gs_testing_score = dt_grid_search.score(X,y)\n",
    "\n",
    "print(\"Mean Training Score: {:.4}%\".format(np.mean(dt_gs_training_score) * 100))\n",
    "print(\"Mean Testing Score: {:.4}%\".format(np.mean(dt_gs_testing_score) * 100))\n",
    "print(\"Best Parameter Combination Found During Grid Search:\")\n",
    "dt_grid_search.best_params_"
   ]
  },
  {
   "cell_type": "code",
   "execution_count": null,
   "metadata": {},
   "outputs": [],
   "source": [
    "forest_class = RandomForestClassifier()\n",
    "dt_cv_score = cross_val_score(forest_class,X,y,cv=3)\n",
    "mean_rf_cv_score = np.mean(dt_cv_score)\n",
    "print(\"Mean Cross Validation Score for Random Forest Classifier: {:.4}%\".format(mean_rf_cv_score * 100))"
   ]
  },
  {
   "cell_type": "code",
   "execution_count": null,
   "metadata": {},
   "outputs": [],
   "source": [
    "rf_param_grid = {\n",
    "    \"criterion\": [\"gini\", \"entropy\"],\n",
    "    \"max_depth\": [None, 2, 3, 4, 5, 6, 8, 10, 12, 14, 16 ,18, 20, 22, 24, 26, 28, 30, 32, 34],\n",
    "    \"min_samples_split\": [2, 5, 10],\n",
    "    \"min_samples_leaf\" : [1, 2, 3, 4, 5, 6],\n",
    "    \"n_estimators\" : [10, 30, 100]\n",
    "}"
   ]
  },
  {
   "cell_type": "code",
   "execution_count": null,
   "metadata": {},
   "outputs": [],
   "source": [
    "start = time.time()\n",
    "rf_grid_search = GridSearchCV(forest_class,rf_param_grid,cv=3)\n",
    "rf_grid_search.fit(X, y)\n",
    "\n",
    "print(\"Testing Accuracy: {:.4}%\".format(rf_grid_search.best_score_ * 100))\n",
    "print(\"Total Runtime for Grid Search on Random Forest Classifier: {:.4} seconds\".format(time.time() - start))\n",
    "print(\"\")\n",
    "print(\"Optimal Parameters: {}\".format(rf_grid_search.best_params_))"
   ]
  },
  {
   "cell_type": "markdown",
   "metadata": {},
   "source": [
    " **Up to 66.38%. Better!**"
   ]
  },
  {
   "cell_type": "markdown",
   "metadata": {},
   "source": [
    "## Changed Target to Size and Combined 5 categories into 3"
   ]
  },
  {
   "cell_type": "code",
   "execution_count": null,
   "metadata": {},
   "outputs": [],
   "source": [
    "df1.loc[df1['Size'] == ' Very Small (3 - 5 in)', 'Size'] = ' Small (5 - 9 in)'\n",
    "df1.loc[df1['Size'] == ' Very Large (32 - 72 in)'] = ' Large (16 - 32 in)'"
   ]
  },
  {
   "cell_type": "code",
   "execution_count": null,
   "metadata": {},
   "outputs": [],
   "source": [
    "df1.Size.value_counts()"
   ]
  },
  {
   "cell_type": "code",
   "execution_count": null,
   "metadata": {},
   "outputs": [],
   "source": [
    "X = pd.get_dummies(df1.drop(columns=['Family','Name','Size','Length_Range','Weight','Wingspan']))\n",
    "y = (df1['Size'])\n",
    "\n",
    "X_train,X_test, y_train,y_test = train_test_split(X,y,test_size = 0.4,random_state=10)"
   ]
  },
  {
   "cell_type": "code",
   "execution_count": null,
   "metadata": {},
   "outputs": [],
   "source": [
    "forest = RandomForestClassifier(random_state=10)\n",
    "forest.fit(X_train,y_train)"
   ]
  },
  {
   "cell_type": "code",
   "execution_count": null,
   "metadata": {},
   "outputs": [],
   "source": [
    "forest.score(X_test,y_test)"
   ]
  },
  {
   "cell_type": "code",
   "execution_count": null,
   "metadata": {},
   "outputs": [],
   "source": [
    "dt_cv_score = cross_val_score(forest,X,y,cv=3)\n",
    "mean_dt_cv_score = np.mean(dt_cv_score)\n",
    "print(\"Mean Cross Validation Score: {:.4}%\".format(mean_dt_cv_score*100))"
   ]
  },
  {
   "cell_type": "code",
   "execution_count": null,
   "metadata": {},
   "outputs": [],
   "source": [
    "forest_param_grid = {\n",
    "    \"criterion\": [\"gini\", \"entropy\"],\n",
    "    \"max_depth\": [None, 2, 3, 4, 5, 6, 8, 10, 12, 14, 16 ,18, 20, 22, 24, 26, 28, 30, 32, 34],\n",
    "    \"min_samples_split\": [2, 5, 10],\n",
    "    \"min_samples_leaf\" : [1, 2, 3, 4, 5, 6]\n",
    "}\n",
    "\n",
    "dt_grid_search = GridSearchCV(forest,forest_param_grid,cv=3,return_train_score=True)\n",
    "\n",
    "dt_grid_search.fit(X, y)\n",
    "\n",
    "dt_gs_training_score = dt_grid_search.cv_results_['mean_train_score']\n",
    "dt_gs_testing_score = dt_grid_search.score(X,y)\n",
    "\n",
    "print(\"Mean Training Score: {:.4}%\".format(np.mean(dt_gs_training_score) * 100))\n",
    "print(\"Mean Testing Score: {:.4}%\".format(np.mean(dt_gs_testing_score) * 100))\n",
    "print(\"Best Parameter Combination Found During Grid Search:\")\n",
    "dt_grid_search.best_params_"
   ]
  },
  {
   "cell_type": "code",
   "execution_count": null,
   "metadata": {},
   "outputs": [],
   "source": [
    "forest = RandomForestClassifier(random_state=10, max_depth=34, min_samples_leaf=1, min_samples_split=5, criterion='gini')\n",
    "forest.fit(X_train,y_train)"
   ]
  },
  {
   "cell_type": "code",
   "execution_count": null,
   "metadata": {},
   "outputs": [],
   "source": [
    "dt_cv_score = cross_val_score(forest,X,y,cv=3)\n",
    "mean_dt_cv_score = np.mean(dt_cv_score)\n",
    "print(\"Mean Cross Validation Score: {:.4}%\".format(mean_dt_cv_score*100))"
   ]
  },
  {
   "cell_type": "code",
   "execution_count": null,
   "metadata": {},
   "outputs": [],
   "source": [
    "y_pred = forest.predict(X_test)"
   ]
  },
  {
   "cell_type": "code",
<<<<<<< HEAD
   "execution_count": 664,
   "metadata": {},
   "outputs": [
    {
     "name": "stdout",
     "output_type": "stream",
     "text": [
      "Confusion Matrix, without normalization\n",
      "[[ 53  25  11]\n",
      " [ 22  22  41]\n",
      " [ 11  16 125]]\n",
      "[0.61627907 0.34920635 0.70621469]\n"
     ]
    },
    {
     "data": {
      "image/png": "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\n",
      "text/plain": [
       "<Figure size 432x288 with 2 Axes>"
      ]
     },
     "metadata": {},
     "output_type": "display_data"
    }
   ],
=======
   "execution_count": null,
   "metadata": {},
   "outputs": [],
>>>>>>> wip
   "source": [
    "cm = confusion_matrix(y_test,y_pred)\n",
    "classes = ['Small','Medium','Large']\n",
    "plot_confusion_matrix(cm, classes,\n",
    "                          normalize=False,\n",
    "                          title='Confusion matrix',\n",
    "                          cmap=plt.cm.Blues)\n",
    "print(precision_score(y_test, y_pred,average=None))"
   ]
  },
  {
   "cell_type": "markdown",
   "metadata": {},
   "source": [
    "## Support Vector Classifier"
   ]
  },
  {
   "cell_type": "code",
   "execution_count": null,
   "metadata": {},
   "outputs": [],
   "source": [
    "tic = time()\n",
    "svclassifier = SVC(kernel='rbf', C=1)  \n",
    "svclassifier.fit(X_train, y_train) \n",
    "y_pred = svclassifier.predict(X_test)\n",
    "toc = time()\n",
    "print(\"run time is {} seconds\".format(toc-tic))"
   ]
  },
  {
   "cell_type": "code",
   "execution_count": null,
   "metadata": {},
   "outputs": [],
   "source": [
    "print(confusion_matrix(y_test,y_pred))\n",
    "print(classification_report(y_test,y_pred)) \n",
    "print(\"The accuracy score is\" + \" \"+ str(accuracy_score(y_test, y_pred)))"
   ]
  },
  {
   "cell_type": "code",
   "execution_count": null,
   "metadata": {},
   "outputs": [],
   "source": []
  },
  {
   "cell_type": "code",
   "execution_count": null,
   "metadata": {},
   "outputs": [],
   "source": [
    "def svc_param_selection(X, y, nfolds):\n",
    "    Cs = [0.001, 0.01, 0.1, 1, 10]\n",
    "    gammas = [0.001, 0.01, 0.1, 1]\n",
    "    param_grid = {'C': Cs, 'gamma' : gammas}\n",
    "    grid_search = GridSearchCV(svm.SVC(kernel='rbf'), param_grid, cv=nfolds)\n",
    "    grid_search.fit(X, y)\n",
    "    grid_search.best_params_\n",
    "    return grid_search.best_params_"
   ]
  },
  {
   "cell_type": "code",
   "execution_count": null,
   "metadata": {},
   "outputs": [],
   "source": [
    "svc_param_selection(X, y, 5)"
   ]
  },
  {
   "cell_type": "markdown",
   "metadata": {},
   "source": [
    "## Re-running SVC with Optimal Parameters"
   ]
  },
  {
   "cell_type": "code",
   "execution_count": null,
   "metadata": {},
   "outputs": [],
   "source": [
    "\n",
    "tic = time()\n",
    "svclassifier = SVC(kernel='rbf', C=10, gamma=0.01)  \n",
    "svclassifier.fit(X_train, y_train) \n",
    "y_pred = svclassifier.predict(X_test)\n",
    "toc = time()\n",
    "print(\"run time is {} seconds\".format(toc-tic))"
   ]
  },
  {
   "cell_type": "code",
   "execution_count": null,
   "metadata": {},
   "outputs": [],
   "source": [
    "print(confusion_matrix(y_test,y_pred))\n",
    "print(classification_report(y_test,y_pred)) \n",
    "print(\"The accuracy score is\" + \" \"+ str(accuracy_score(y_test, y_pred)))"
   ]
  },
  {
   "cell_type": "markdown",
   "metadata": {},
   "source": [
    "## Using Synthetic Minority Over-sampling Technique (SMOTE) on Imbalanced Dataset"
   ]
  },
  {
   "cell_type": "code",
<<<<<<< HEAD
   "execution_count": 674,
=======
   "execution_count": null,
>>>>>>> wip
   "metadata": {},
   "outputs": [],
   "source": [
    "smt = SMOTE()\n",
    "X_train, y_train = smt.fit_sample(X_train, y_train)"
   ]
  },
  {
   "cell_type": "code",
   "execution_count": null,
   "metadata": {},
   "outputs": [],
   "source": [
    "smote = SVC(kernel='rbf', C=10, gamma=0.01).fit(X_train,y_train)\n",
    "smote_pred = smote.predict(X_test)\n",
    "\n",
    "# Checking accuracy\n",
    "accuracy_score(y_test, smote_pred)"
   ]
  },
  {
   "cell_type": "code",
   "execution_count": null,
   "metadata": {},
   "outputs": [],
   "source": [
    "print(confusion_matrix(y_test, smote_pred))\n",
    "print(classification_report(y_test,smote_pred))"
   ]
  },
  {
   "cell_type": "code",
<<<<<<< HEAD
   "execution_count": 57,
=======
   "execution_count": null,
>>>>>>> wip
   "metadata": {},
   "outputs": [],
   "source": [
    "df1.to_csv('real_bird_dataset.csv')"
   ]
  },
  {
   "cell_type": "markdown",
   "metadata": {},
   "source": [
    "## Gridsearched Neural Network Using Bag of Words"
   ]
  },
  {
   "cell_type": "code",
   "execution_count": null,
   "metadata": {},
   "outputs": [],
   "source": [
    "vectorizer = CountVectorizer()\n",
    "\n",
    "X = vectorizer.fit_transform(df1.Flight_Pattern)"
   ]
  },
  {
   "cell_type": "code",
<<<<<<< HEAD
   "execution_count": 713,
=======
   "execution_count": null,
>>>>>>> wip
   "metadata": {},
   "outputs": [],
   "source": [
    "x_words = X.toarray()"
   ]
  },
  {
   "cell_type": "code",
   "execution_count": null,
   "metadata": {},
   "outputs": [],
   "source": [
    "x_words = pd.DataFrame(x_words)"
   ]
  },
  {
   "cell_type": "code",
   "execution_count": null,
   "metadata": {},
   "outputs": [],
   "source": [
    "x_words.reset_index(drop=True, inplace=True)\n",
    "df1.reset_index(drop=True, inplace=True)"
   ]
  },
  {
   "cell_type": "code",
   "execution_count": null,
   "metadata": {},
   "outputs": [],
   "source": [
    "bow_X = pd.concat([df1,x_words], axis=1, ignore_index=True)"
   ]
  },
  {
   "cell_type": "code",
   "execution_count": null,
   "metadata": {},
   "outputs": [],
   "source": [
    "bow_X = bow_X.drop(columns=[0,1,9,10,11,19])"
   ]
  },
  {
   "cell_type": "code",
   "execution_count": null,
   "metadata": {
    "scrolled": true
   },
   "outputs": [],
   "source": [
    "bow_with_features = pd.get_dummies(bow_X)\n",
    "y = df1['Size']"
   ]
  },
  {
   "cell_type": "code",
   "execution_count": null,
   "metadata": {},
   "outputs": [],
   "source": [
    "X_train,X_test, y_train,y_test = train_test_split(bow_with_features,y,test_size=0.3)"
   ]
  },
  {
   "cell_type": "code",
   "execution_count": null,
   "metadata": {
    "scrolled": true
   },
   "outputs": [],
   "source": [
    "forest = RandomForestClassifier(random_state=45)\n",
    "forest.fit(X_train,y_train)"
   ]
  },
  {
   "cell_type": "code",
   "execution_count": null,
   "metadata": {},
   "outputs": [],
   "source": [
    "dt_cv_score = cross_val_score(forest,X,y,cv=3)\n",
    "mean_dt_cv_score = np.mean(dt_cv_score)\n",
    "print(\"Mean Cross Validation Score: {:.4}%\".format(mean_dt_cv_score*100))"
   ]
  },
  {
   "cell_type": "code",
   "execution_count": null,
   "metadata": {},
   "outputs": [],
   "source": [
    "rf_param_grid = {\n",
    "    \"criterion\": [\"gini\", \"entropy\"],\n",
    "    \"max_depth\": [None, 2, 3, 4, 5, 6, 8, 10, 12, 14, 16 ,18, 20, 22, 24, 26, 28, 30, 32, 34],\n",
    "    \"min_samples_split\": [2, 5, 10],\n",
    "    \"min_samples_leaf\" : [1, 2, 3, 4, 5, 6],\n",
    "    \"n_estimators\" : [10, 30, 100]\n",
    "}"
   ]
  },
  {
   "cell_type": "code",
   "execution_count": null,
   "metadata": {},
   "outputs": [],
   "source": [
    "dt_grid_search = GridSearchCV(forest,rf_param_grid,cv=3,return_train_score=True)\n",
    "\n",
    "dt_grid_search.fit(X, y)"
   ]
  },
  {
   "cell_type": "code",
   "execution_count": null,
   "metadata": {},
   "outputs": [],
   "source": [
    "print(\"Testing Accuracy: {:.4}%\".format(dt_grid_search.best_score_ * 100))\n",
    "print(\"\")\n",
    "print(\"Optimal Parameters: {}\".format(dt_grid_search.best_params_))"
   ]
  },
  {
   "cell_type": "code",
   "execution_count": null,
   "metadata": {},
   "outputs": [],
   "source": [
    "### SMOTE ###\n",
    "smt = SMOTE()\n",
    "X_train, y_train = smt.fit_sample(X_train, y_train)"
   ]
  },
  {
   "cell_type": "markdown",
   "metadata": {},
   "source": [
    "## Random-searched SVC Using Bag of Words"
   ]
  },
  {
   "cell_type": "code",
   "execution_count": null,
   "metadata": {},
   "outputs": [],
   "source": [
    "svc_param_selection(bow_with_features, y, 5)"
   ]
  },
  {
   "cell_type": "code",
   "execution_count": null,
   "metadata": {},
   "outputs": [],
   "source": [
    "smote = SVC(kernel='rbf', C=10, gamma=0.01,random_state=10).fit(X_train,y_train)\n",
    "smote_pred = smote.predict(X_test)\n",
    "\n",
    "# Checking accuracy\n",
    "accuracy_score(y_test, smote_pred)"
   ]
  },
  {
   "cell_type": "code",
   "execution_count": null,
   "metadata": {},
   "outputs": [],
   "source": [
    "print(confusion_matrix(y_test, smote_pred))\n",
    "print(classification_report(y_test,smote_pred))\n",
    "print(\"The accuracy score is\" + \" \"+ str(accuracy_score(y_test, smote_pred)))"
   ]
  },
  {
   "cell_type": "code",
<<<<<<< HEAD
   "execution_count": 734,
=======
   "execution_count": null,
>>>>>>> wip
   "metadata": {},
   "outputs": [],
   "source": [
    "def svc_randomizedsearchCV(X, y, nfolds):\n",
    "    degrees = [2,3,4,5]\n",
    "    kernels = ['rbf','poly']\n",
    "    Cs = [0.001, 0.01, 0.1, 1, 10]\n",
    "    gammas = [0.001, 0.01, 0.1, 1]\n",
    "    param_grid = {'C': Cs, 'gamma' : gammas, 'kernel': kernels, 'degree': degrees}\n",
    "    grid_search = RandomizedSearchCV(svm.SVC(), param_grid, cv=nfolds, n_jobs=-1)\n",
    "    grid_search.fit(X, y)\n",
    "    grid_search.best_params_\n",
    "    return grid_search.best_params_"
   ]
  },
  {
   "cell_type": "code",
   "execution_count": null,
   "metadata": {},
   "outputs": [],
   "source": [
    "svc_randomizedsearchCV(bow_with_features,y,5)"
   ]
  },
  {
   "cell_type": "code",
   "execution_count": null,
   "metadata": {},
   "outputs": [],
   "source": [
    "smote = SVC(kernel='rbf', C=1, gamma=0.01, degree=5,random_state=10).fit(X_train,y_train)\n",
    "smote_pred = smote.predict(X_test)"
   ]
  },
  {
   "cell_type": "code",
<<<<<<< HEAD
   "execution_count": 755,
   "metadata": {},
   "outputs": [
    {
     "data": {
      "text/plain": [
       "array([0.79365079, 0.58490566, 0.76744186])"
      ]
     },
     "execution_count": 755,
     "metadata": {},
     "output_type": "execute_result"
    }
   ],
=======
   "execution_count": null,
   "metadata": {},
   "outputs": [],
>>>>>>> wip
   "source": [
    "precision_score(y_test, smote_pred,average=None)"
   ]
  },
  {
   "cell_type": "code",
   "execution_count": null,
   "metadata": {},
   "outputs": [],
   "source": [
    "print(confusion_matrix(y_test, smote_pred))\n",
    "print(classification_report(y_test,smote_pred)) \n",
    "print(\"The accuracy score is\" + \" \"+ str(accuracy_score(y_test, smote_pred)))"
   ]
  },
  {
   "cell_type": "markdown",
   "metadata": {},
   "source": [
    "**BEST MODEL  ^^^^^**"
   ]
  },
  {
   "cell_type": "markdown",
   "metadata": {},
   "source": [
    "# Attempting Better Score Using Principle Component Analysis\n"
   ]
  },
  {
   "cell_type": "code",
   "execution_count": null,
   "metadata": {},
   "outputs": [],
   "source": [
    "X = bow_with_features\n",
    "y = (df1['Size'])\n",
    "\n",
    "X_train,X_test, y_train,y_test = train_test_split(X,y,test_size = 0.3,random_state=10)"
   ]
  },
  {
   "cell_type": "code",
   "execution_count": null,
   "metadata": {},
   "outputs": [],
   "source": [
    "pca = PCA()\n",
    "transformed = pca.fit_transform(X)\n",
    "\n",
    "# Your code here \n",
    "\n",
    "first_two_comp = (transformed[:,0], transformed[:,1]);"
   ]
  },
  {
   "cell_type": "code",
   "execution_count": null,
   "metadata": {
    "scrolled": true
   },
   "outputs": [],
   "source": [
    "plt.scatter(transformed[:,0], transformed[:,1]);"
   ]
  },
  {
   "cell_type": "code",
   "execution_count": null,
   "metadata": {},
   "outputs": [],
   "source": [
    "cov = np.cov(transformed)"
   ]
  },
  {
   "cell_type": "code",
   "execution_count": null,
   "metadata": {},
   "outputs": [],
   "source": [
    "eigen_value, eigen_vector = np.linalg.eig(cov)"
   ]
  },
  {
   "cell_type": "code",
   "execution_count": null,
   "metadata": {},
   "outputs": [],
   "source": [
    "e_indices = np.argsort(eigen_value)[::-1] #Get the index values of the sorted eigenvalues\n",
    "eigenvectors_sorted = eigen_vector[:,e_indices]"
   ]
  },
  {
   "cell_type": "code",
   "execution_count": null,
   "metadata": {},
   "outputs": [],
   "source": [
    "transformed = eigenvectors_sorted.dot(transformed).T"
   ]
  },
  {
   "cell_type": "code",
   "execution_count": null,
   "metadata": {},
   "outputs": [],
   "source": [
    "pcs=pd.DataFrame(first_two_comp).T"
   ]
  },
  {
   "cell_type": "code",
   "execution_count": null,
   "metadata": {},
   "outputs": [],
   "source": [
    "print('Variance of each component:', pca.explained_variance_ratio_)\n",
    "print('\\n Total Variance Explained:', round(sum(list(pca.explained_variance_ratio_))*100, 2))"
   ]
  },
  {
   "cell_type": "code",
   "execution_count": null,
   "metadata": {},
   "outputs": [],
   "source": [
    "X = pcs\n",
    "y = (df1['Size'])\n",
    "start = time.time()\n",
    "X_train, X_test, y_train, y_test = train_test_split(X, y, test_size=0.2, random_state=9)\n",
    "model = SVC(kernel='rbf', C=10, gamma=0.001, degree=4).fit(X_train,y_train)\n",
    "model.fit(X_train, Y_train)\n",
    "Yhat = model.predict(X_test)\n",
    "acc = metrics.accuracy_score(Yhat, Y_test)\n",
    "end = time.time()\n",
    "print(\"Accuracy:\",acc)\n",
    "print (\"Time Taken:\", end - start)"
   ]
  },
  {
   "cell_type": "markdown",
   "metadata": {},
   "source": [
    "**After playing around with the different eigenvalues, accuracy using PCA isn't as good as our SVC model**"
   ]
  },
  {
   "cell_type": "markdown",
   "metadata": {},
   "source": [
    "# Some Classification Evaluation! // BEST MODEL: SMOTE SVC"
   ]
  },
  {
   "cell_type": "code",
   "execution_count": null,
   "metadata": {},
   "outputs": [],
   "source": [
    "# Survival Count\n",
    "print('Target Variable')\n",
    "print(df1.groupby(['Size']).Size.count())\n",
    "\n",
    "# Target Variable Countplot\n",
    "sns.set_style('darkgrid')\n",
    "plt.figure(figsize = (10,5))\n",
    "sns.countplot(df1['Size'], alpha =.80, palette= ['yellowgreen','lightgreen','darkgreen'])\n",
    "plt.title('Bird Sizes')\n",
    "plt.ylabel('# of Birds')\n",
    "plt.show()"
   ]
  },
  {
   "cell_type": "code",
   "execution_count": null,
   "metadata": {},
   "outputs": [],
   "source": [
    "cm = confusion_matrix(y_test,smote_pred)\n",
    "classes = ['Small','Medium','Large']\n",
    "def plot_confusion_matrix(cm, classes,\n",
    "                          normalize=False,\n",
    "                          title='Confusion matrix',\n",
    "                          cmap=plt.cm.Blues):\n",
    "    \"\"\"\n",
    "    This function prints and plots the confusion matrix.\n",
    "    Normalization can be applied by setting `normalize=True`.\n",
    "    \"\"\"\n",
    "    if normalize:\n",
    "        cm = cm.astype('float') / cm.sum(axis=1)[:, np.newaxis]\n",
    "        print(\"Normalized confusion matrix\")\n",
    "    else:\n",
    "        print('Confusion Matrix, without normalization')\n",
    "\n",
    "    print(cm)\n",
    "\n",
    "    plt.imshow(cm, interpolation='nearest', cmap=cmap)\n",
    "    plt.title(title)\n",
    "    plt.colorbar()\n",
    "    tick_marks = np.arange(len(classes))\n",
    "    plt.xticks(tick_marks, classes, rotation=45)\n",
    "    plt.yticks(tick_marks, classes)\n",
    "\n",
    "    fmt = '.2f' if normalize else 'd'\n",
    "    thresh = cm.max() / 2.\n",
    "    for i, j in itertools.product(range(cm.shape[0]), range(cm.shape[1])):\n",
    "        plt.text(j, i, format(cm[i, j], fmt),\n",
    "                 horizontalalignment=\"center\",\n",
    "                 color=\"white\" if cm[i, j] > thresh else \"black\")\n",
    "\n",
    "    plt.tight_layout()\n",
    "    plt.ylabel('True label')\n",
    "    plt.xlabel('Predicted label')"
   ]
  },
  {
   "cell_type": "code",
   "execution_count": null,
   "metadata": {},
   "outputs": [],
   "source": [
    "plot_confusion_matrix(cm, classes,\n",
    "                          normalize=False,\n",
    "                          title='Confusion matrix',\n",
    "                          cmap=plt.cm.Blues)\n",
    "print(precision_score(y_test, smote_pred,average=None))"
   ]
  },
  {
   "cell_type": "code",
   "execution_count": null,
   "metadata": {},
   "outputs": [],
   "source": [
    "# print the first 25 true and predicted responses\n",
    "print('True:', y_test.values[0:25])\n",
    "print('Pred:', smote_pred[0:25])"
   ]
  },
  {
   "cell_type": "code",
<<<<<<< HEAD
   "execution_count": 382,
   "metadata": {},
   "outputs": [
    {
     "name": "stdout",
     "output_type": "stream",
     "text": [
      "[0.70769231 0.56666667 0.84166667]\n"
     ]
    }
   ],
=======
   "execution_count": null,
   "metadata": {},
   "outputs": [],
>>>>>>> wip
   "source": [
    "print(metrics.precision_score(y_test, smote_pred, average=None))\n",
    "print(metrics.recall_score(y_test, smote_pred, average=None))"
   ]
  },
  {
   "cell_type": "code",
   "execution_count": null,
   "metadata": {},
   "outputs": [],
   "source": [
    "#calculating the F1 score\n",
    "2*(metrics.precision_score(y_test, smote_pred,average=None)*metrics.recall_score(y_test, smote_pred,average=None))/(metrics.precision_score(y_test, smote_pred,average=None)+metrics.recall_score(y_test, smote_pred,average=None))\n",
    "   "
   ]
  },
  {
   "cell_type": "code",
   "execution_count": null,
   "metadata": {},
   "outputs": [],
   "source": [
    "from sklearn.linear_model import LogisticRegression\n",
    "logreg = LogisticRegression()\n",
    "logreg.fit(X_train, y_train)\n",
    "THRESHOLD = 0.5\n",
    "preds = np.where(logreg.predict_proba(X_test)[:,1] > THRESHOLD, 1, 0)\n",
    "\n",
    "pd.DataFrame(data=[np.mean(metrics.recall_score(y_test, smote_pred,average=None)),\n",
    "                   np.mean(metrics.precision_score(y_test, smote_pred,average=None)), np.mean(metrics.f1_score(y_test, smote_pred,average=None))], \n",
    "             index=[\"recall\", \"precision\", \"F1\"])"
   ]
  },
  {
   "cell_type": "code",
   "execution_count": null,
   "metadata": {},
   "outputs": [],
   "source": [
    "y_pred_prob = logreg.predict_proba(X_test)[:, 2]\n",
    "plt.hist(y_pred_prob, bins=8)\n",
    "plt.xlim(0, 1)\n",
    "plt.title('Histogram of Predicted Probabilities')\n",
    "plt.xlabel('Predicted Probability of Bird Being Medium')\n",
    "plt.ylabel('Frequency')"
   ]
  },
  {
   "cell_type": "markdown",
   "metadata": {},
   "source": [
    "## AdaBoost"
   ]
  },
  {
   "cell_type": "code",
<<<<<<< HEAD
   "execution_count": 453,
   "metadata": {},
   "outputs": [
    {
     "name": "stdout",
     "output_type": "stream",
     "text": [
      "Mean Cross Validation Score for AdaBoost: 65.03%\n"
     ]
    }
   ],
=======
   "execution_count": null,
   "metadata": {},
   "outputs": [],
>>>>>>> wip
   "source": [
    "adaboost_clf = AdaBoostClassifier()\n",
    "adaboost_mean_cv_score = np.mean(cross_val_score(adaboost_clf, X, y, cv=3))\n",
    "print(\"Mean Cross Validation Score for AdaBoost: {:.4}%\".format(adaboost_mean_cv_score * 100))"
   ]
  },
  {
   "cell_type": "code",
   "execution_count": null,
   "metadata": {},
   "outputs": [],
   "source": [
    "adaboost_param_grid = {\n",
    "    'n_estimators': [50,100,250, 500],\n",
    "    'learning_rate': [1.0, 0.5, 0.1]\n",
    "}"
   ]
  },
  {
   "cell_type": "code",
   "execution_count": null,
   "metadata": {},
   "outputs": [],
   "source": [
    "adaboost_grid_search = GridSearchCV(adaboost_clf, adaboost_param_grid, cv=3)\n",
    "adaboost_grid_search.fit(X, y)\n",
    "print(\"Testing Accuracy: {:.4}%\".format(adaboost_grid_search.best_score_ * 100))\n",
    "print(\"Total Runtime for Grid Search on AdaBoost: {:.4} seconds\".format(time.time() - start))\n",
    "print(\"\")\n",
    "print(\"Optimal Parameters: {}\".format(adaboost_grid_search.best_params_))"
   ]
  },
  {
   "cell_type": "code",
<<<<<<< HEAD
   "execution_count": 462,
   "metadata": {},
   "outputs": [
    {
     "data": {
      "text/plain": [
       "GradientBoostingClassifier(criterion='friedman_mse', init=None,\n",
       "                           learning_rate=0.1, loss='deviance', max_depth=3,\n",
       "                           max_features=None, max_leaf_nodes=None,\n",
       "                           min_impurity_decrease=0.0, min_impurity_split=None,\n",
       "                           min_samples_leaf=1, min_samples_split=2,\n",
       "                           min_weight_fraction_leaf=0.0, n_estimators=100,\n",
       "                           n_iter_no_change=None, presort='auto',\n",
       "                           random_state=None, subsample=1.0, tol=0.0001,\n",
       "                           validation_fraction=0.1, verbose=0,\n",
       "                           warm_start=False)"
      ]
     },
     "execution_count": 462,
     "metadata": {},
     "output_type": "execute_result"
    }
   ],
=======
   "execution_count": null,
   "metadata": {},
   "outputs": [],
>>>>>>> wip
   "source": [
    "gbt_clf = GradientBoostingClassifier()\n",
    "gbt_clf.fit(X_train, y_train)\n"
   ]
  },
  {
   "cell_type": "code",
   "execution_count": null,
   "metadata": {},
   "outputs": [],
   "source": [
    "gbt_clf_train_preds = gbt_clf.predict(X_train)\n",
    "gbt_clf_test_preds = gbt_clf.predict(X_test)"
   ]
  },
  {
   "cell_type": "code",
<<<<<<< HEAD
   "execution_count": 468,
   "metadata": {},
   "outputs": [
    {
     "name": "stdout",
     "output_type": "stream",
     "text": [
      "Model: Gradient Boosted Trees\n",
      "Accuracy: 0.9912280701754386\n",
      "F1-Score: 0.9912100456895858\n",
      "\n",
      "Model: Gradient Boosted Trees\n",
      "Accuracy: 0.7510204081632653\n",
      "F1-Score: 0.7454922179043959\n"
     ]
    }
   ],
=======
   "execution_count": null,
   "metadata": {},
   "outputs": [],
>>>>>>> wip
   "source": [
    "def display_acc_and_f1_score(true, preds, model_name):\n",
    "    acc = accuracy_score(true, preds)\n",
    "    f1 = f1_score(true, preds, average='weighted')\n",
    "    print(\"Model: {}\".format(model_name))\n",
    "    print(\"Accuracy: {}\".format(acc))\n",
    "    print(\"F1-Score: {}\".format(f1))\n",
    "    \n",
    "\n",
    "display_acc_and_f1_score(y_train, gbt_clf_train_preds, model_name='Gradient Boosted Trees')\n",
    "print(\"\")\n",
    "display_acc_and_f1_score(y_test, gbt_clf_test_preds, model_name='Gradient Boosted Trees')"
   ]
  },
  {
   "cell_type": "code",
   "execution_count": null,
   "metadata": {},
   "outputs": [],
   "source": [
    "gbt_confusion_matrix = confusion_matrix(y_test, gbt_clf_test_preds)\n",
    "print(gbt_confusion_matrix)\n",
    "gbt_classification_report = classification_report(y_test, gbt_clf_test_preds)\n",
    "print(gbt_classification_report)\n",
    "\n"
   ]
  },
  {
   "cell_type": "code",
   "execution_count": null,
   "metadata": {},
   "outputs": [],
   "source": [
    "print('Mean GBT Cross-Val Score (k=5):')\n",
    "print(cross_val_score(gbt_clf, X, y, cv=5).mean())"
   ]
  },
  {
   "cell_type": "markdown",
   "metadata": {},
   "source": [
    "## XG Boost"
   ]
  },
  {
   "cell_type": "code",
   "execution_count": null,
   "metadata": {},
   "outputs": [],
   "source": []
  },
  {
   "cell_type": "code",
   "execution_count": null,
   "metadata": {},
   "outputs": [],
   "source": [
    "X = bow_with_features\n",
    "y = (df1['Size'])\n",
    "X.columns = X.columns.astype(str)\n",
    "X.columns = X.columns.str.replace(' ', '_')\n",
    "X_train,X_test, y_train,y_test = train_test_split(X,y,test_size = 0.3,random_state=10)"
   ]
  },
  {
   "cell_type": "code",
   "execution_count": null,
   "metadata": {},
   "outputs": [],
   "source": [
    "xgb_param_grid = {\n",
    "    \"learning_rate\": [0.1],\n",
    "    'max_depth': [6],\n",
    "    'min_child_weight': [10],\n",
    "    'subsample': [ 0.7],\n",
    "    'n_estimators': [5, 30, 100, 250],\n",
    "}"
   ]
  },
  {
   "cell_type": "code",
   "execution_count": null,
   "metadata": {
    "scrolled": true
   },
   "outputs": [],
   "source": [
    "clfX=XGBClassifier()\n",
    "clfX.fit(X_train, y_train)"
   ]
  },
  {
   "cell_type": "code",
   "execution_count": null,
   "metadata": {
    "scrolled": true
   },
   "outputs": [],
   "source": [
    "grid_clf = GridSearchCV(clfX, xgb_param_grid, scoring='accuracy', cv=5, n_jobs=1)\n",
    "grid_clf.fit(bow_with_features, y)\n",
    "best_parameters = grid_clf.best_params_\n",
    "print(\"Grid Search found the following optimal parameters: \")\n",
    "for param_name in sorted(best_parameters.keys()):\n",
    "    print(\"%s: %r\" % (param_name, best_parameters[param_name]))\n",
    "training_preds = grid_clf.predict(X_train)\n",
    "val_preds = grid_clf.predict(X_test)\n",
    "training_accuracy = accuracy_score(y_train, training_preds)\n",
    "val_accuracy = accuracy_score(y_test, val_preds)\n",
    "print(\"\")\n",
    "print(\"Training Accuracy: {:.4}%\".format(training_accuracy * 100))\n",
    "print(\"Validation accuracy: {:.4}%\".format(val_accuracy * 100))\n",
    "print(\"Testing Accuracy(Best Score): {:.4}%\".format(grid_clf.best_score_ * 100))\n"
   ]
  },
  {
   "cell_type": "code",
   "execution_count": null,
   "metadata": {},
   "outputs": [],
   "source": [
    "def plot_feature_importances(model):\n",
    "    n_features = X_train.shape[1]\n",
    "    plt.figure(figsize=(13,10))\n",
    "    plt.barh(range(n_features), model.feature_importances_, align='center') \n",
    "    plt.yticks(np.arange(n_features), X_train.columns.values) \n",
    "    plt.xlabel(\"Feature importance\")\n",
    "    plt.ylabel(\"Feature\")"
   ]
  },
  {
   "cell_type": "code",
   "execution_count": null,
   "metadata": {},
   "outputs": [],
   "source": [
    "from xgboost import plot_importance\n",
    "plot_importance(clfX,max_num_features=20);"
   ]
  },
  {
   "cell_type": "code",
<<<<<<< HEAD
   "execution_count": 609,
   "metadata": {},
   "outputs": [
    {
     "data": {
      "image/png": "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\n",
      "text/plain": [
       "<Figure size 7200x4320 with 1 Axes>"
      ]
     },
     "metadata": {},
     "output_type": "display_data"
    }
   ],
=======
   "execution_count": null,
   "metadata": {},
   "outputs": [],
>>>>>>> wip
   "source": [
    "plot_tree(clfX, num_trees=1)\n",
    "fig = plt.gcf()\n",
    "fig.set_size_inches(100, 60)"
   ]
  }
 ],
 "metadata": {
  "kernelspec": {
   "display_name": "Python 3",
   "language": "python",
   "name": "python3"
  },
  "language_info": {
   "codemirror_mode": {
    "name": "ipython",
    "version": 3
   },
   "file_extension": ".py",
   "mimetype": "text/x-python",
   "name": "python",
   "nbconvert_exporter": "python",
   "pygments_lexer": "ipython3",
   "version": "3.7.3"
  },
  "toc": {
   "base_numbering": 1,
   "nav_menu": {},
   "number_sections": true,
   "sideBar": true,
   "skip_h1_title": false,
   "title_cell": "Table of Contents",
   "title_sidebar": "Contents",
   "toc_cell": false,
   "toc_position": {
    "height": "calc(100% - 180px)",
    "left": "10px",
    "top": "150px",
    "width": "256px"
   },
   "toc_section_display": true,
   "toc_window_display": true
  }
 },
 "nbformat": 4,
 "nbformat_minor": 2
}
